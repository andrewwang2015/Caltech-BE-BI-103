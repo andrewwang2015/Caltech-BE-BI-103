{
 "cells": [
  {
   "cell_type": "markdown",
   "metadata": {},
   "source": [
    "**Exercise 1**\n",
    "\n",
    "To compare two models, first we must compute the odds ratio. To do this, we compute/approximate the integral of the posterior, which will be our evidence. At this point we can find the ratio of the evidences through either Laplace approximation or PTMCMC. Assuming equal priors, we can now calculate the odds ratio. If the ratio is less than 1, then the model of the denominator is more likely; otherwise, the numerator's model is more likely."
   ]
  },
  {
   "cell_type": "markdown",
   "metadata": {},
   "source": [
    "**Exercise 2**\n",
    "\n",
    "Pros of Optimization/Laplace Approximation:\n",
    "1) Good when posterior distribution is sharply peaked or unimodal.\n",
    "2) Good when computational resources are lacking for MCMC\n",
    "3) Good for low number of parameters (bad for many parameters)\n",
    "\n",
    "Pros of PTMCMC:\n",
    "1) Good when there is enough computational power to compute burning/walking\n",
    "2) Good when posterior distribution is not sharply peaked or not unimodal\n",
    "3) Good for when there are two many paramters for Optimization"
   ]
  },
  {
   "cell_type": "markdown",
   "metadata": {},
   "source": [
    "**Exercise 3**\n",
    "\n",
    "Unlike a creation such as a rag to clean things with, we cannot judge the quality of a model solely by how well it performs its task. With a rag, we can try using it and see if it has cleaned to our satisfaction. However, with a model, we do not know if it is performing its intended task well (modeling the data), because without any other model, we cannot possibly have any intuition to guide our judgement. It is necessary to have a baseline against which we may consider quantitative assessment of the model at hand."
   ]
  }
 ],
 "metadata": {
  "anaconda-cloud": {},
  "kernelspec": {
   "display_name": "Python [conda root]",
   "language": "python",
   "name": "conda-root-py"
  },
  "language_info": {
   "codemirror_mode": {
    "name": "ipython",
    "version": 3
   },
   "file_extension": ".py",
   "mimetype": "text/x-python",
   "name": "python",
   "nbconvert_exporter": "python",
   "pygments_lexer": "ipython3",
   "version": "3.5.2"
  }
 },
 "nbformat": 4,
 "nbformat_minor": 1
}
