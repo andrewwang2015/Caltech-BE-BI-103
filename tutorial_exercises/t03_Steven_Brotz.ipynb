{
 "cells": [
  {
   "cell_type": "markdown",
   "metadata": {},
   "source": [
    "# Tutorial 3: exercise\n",
    "\n",
    "(c) 2016 Justin Bois. This work is licensed under a [Creative Commons Attribution License CC-BY 4.0](https://creativecommons.org/licenses/by/4.0/). All code contained herein is licensed under an [MIT license](https://opensource.org/licenses/MIT).\n",
    "\n",
    "*This tutorial exercise was generated from an Jupyter notebook.  You can download the notebook [here](t3_exercise.ipynb). Use this downloaded Jupyter notebook to fill out your responses.*"
   ]
  },
  {
   "cell_type": "markdown",
   "metadata": {},
   "source": [
    "While a Student's t-distribution is used for samples from a population and not the entire population itself, we are often justified in describing the sample as Gaussian if it is large enough, because as sample size grows, the distribution more closely resembles the population. \n",
    "\n",
    "The reason it is preferable to approximate the Student's t-distribution as Gaussian is because we can easily generate error bars for our parameter."
   ]
  },
  {
   "cell_type": "markdown",
   "metadata": {},
   "source": [
    "### Exercise 2\n",
    "\n",
    "You may have heard that curve fitting involved \"minimizing the sum of the square of the residuals.\" If indeed finding the MAP is equivalent to minimizing the sum of the square of the residuals, what underlying assumptions are there in the statistical model?"
   ]
  },
  {
   "cell_type": "markdown",
   "metadata": {},
   "source": [
    "The assumption is made that the data are identically distributed and that they are independent. Additionally, the curve produced by the least-squares model must be twice differentiable, because otherwise the model would not be equivalent to MAP, because more than a straight line is needed"
   ]
  },
  {
   "cell_type": "markdown",
   "metadata": {},
   "source": [
    "### Exercise 3\n",
    "\n",
    "How would you expect each of the following to be distributed?\n",
    "\n",
    "**a)** The amount of time between repressor-operator binding events.\n",
    "\n",
    "Repressor-operator binding events can be described as Poisson point processes because they are seemingly randomly distributed. Because of this, the times between repressor-operator binding events form an **exponential** distribution.\n",
    "\n",
    "**b)** The number of times a repressor binds its operator in a given hour.\n",
    "\n",
    "This is a **Poisson** distribution. We see this because we are looking at a discrete event to randomly occur in a given time period. This is exactly a Poisson distribution.\n",
    "\n",
    "**c)** The amount of time (in total minute of baseball played) between no-hitters in Major League Baseball.\n",
    "\n",
    "Just like problem a), there is a rare event seeming to randomly occur, which we can describe as  Poisson point process. And thus, the times between these events are **exponentially** distributed.\n",
    "\n",
    "**d)** The number of no-hitters in a Major League Baseball season.\n",
    "\n",
    "This problem is to b), as c) is to a). We have a discrete event that randomly occurs in a given time frame (a baseball season), and so this is a P\n",
    "\n",
    "To answer this question, try to match these biological stories to the stories of named distributions. For those of you not familiar with baseball, a no-hitter is a game in which a team concedes no hits to the opposing team. There have only been a few hundred no-hitters in over 200,000 MLB games."
   ]
  }
 ],
 "metadata": {
  "anaconda-cloud": {},
  "kernelspec": {
   "display_name": "Python [default]",
   "language": "python",
   "name": "python3"
  },
  "language_info": {
   "codemirror_mode": {
    "name": "ipython",
    "version": 3
   },
   "file_extension": ".py",
   "mimetype": "text/x-python",
   "name": "python",
   "nbconvert_exporter": "python",
   "pygments_lexer": "ipython3",
   "version": "3.5.2"
  }
 },
 "nbformat": 4,
 "nbformat_minor": 0
}
