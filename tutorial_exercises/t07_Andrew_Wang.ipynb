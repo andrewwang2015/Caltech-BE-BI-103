{
 "cells": [
  {
   "cell_type": "markdown",
   "metadata": {},
   "source": [
    "Exercise 1\n",
    "\n",
    "A parametric model captures data and assumes the data comes from some type of background/ probability distribution while a non-parametric model makes no such assumptions and simply uses the raw data to draw conclusions. For example, the Poisson family of distributions can be though of as parametric while a histogram is a nonparametric estimate of a probability distribution. "
   ]
  },
  {
   "cell_type": "markdown",
   "metadata": {},
   "source": [
    "Exercise 2\n",
    "\n",
    "For the frequentist confidence interval, we are giving an estimate of a unknown parameter from the data and then giving a sense of how confident/ how good we think the estimate is. For the Bayesian approach, instead of saying the parameter has one true value, it assumes that the parameter's true value comes from the prior probability distribution.  We then calculate the posterior based on the given data or the probability of different values of the parameter given the data. Likewise, a credible region given by a range of values of posterior that include a certain percentage of the posterior can be given from the approach. \n",
    "\n",
    "A good way to think about it is that for frequentists, the parameters are fixed and and data is random while for Bayesians, parameters are random and data is fixed."
   ]
  },
  {
   "cell_type": "markdown",
   "metadata": {},
   "source": [
    "Exercise 3\n",
    "\n",
    "For frequentists, the p-values represents a confidence level in observing a particular test statistic as extreme as it is given a particular null hypothesis is true. The p-value only evaluates against a single null hypothesis and we can only reject or accept the null hypothesis.\n",
    "\n",
    "For Bayesians, the odds ratio compares two hypothesis and thus through comparison, can result in more than a \"accept or reject\" decision, but rather a \"reject AND choose a better alternative.\""
   ]
  },
  {
   "cell_type": "code",
   "execution_count": null,
   "metadata": {
    "collapsed": true
   },
   "outputs": [],
   "source": []
  }
 ],
 "metadata": {
  "kernelspec": {
   "display_name": "Python [Root]",
   "language": "python",
   "name": "Python [Root]"
  },
  "language_info": {
   "codemirror_mode": {
    "name": "ipython",
    "version": 3
   },
   "file_extension": ".py",
   "mimetype": "text/x-python",
   "name": "python",
   "nbconvert_exporter": "python",
   "pygments_lexer": "ipython3",
   "version": "3.5.2"
  }
 },
 "nbformat": 4,
 "nbformat_minor": 0
}
