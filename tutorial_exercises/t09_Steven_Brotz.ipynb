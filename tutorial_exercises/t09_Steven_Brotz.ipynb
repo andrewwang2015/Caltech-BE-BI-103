{
 "cells": [
  {
   "cell_type": "markdown",
   "metadata": {},
   "source": [
    "# Exercise 1\n",
    "\n",
    "**Segmentation** is the process of dividing an image into parts, with the purpose to change the representation of the image into something that can more readily be analyzed/understood."
   ]
  },
  {
   "cell_type": "markdown",
   "metadata": {},
   "source": [
    "# Exercise 2\n",
    "\n",
    "**Thresholding** is a simple segmentation technique. It involves labeling pictures into binary classifications based on their pixel intensity. It is useful for converting images to black and white, or to sort out useful information in general."
   ]
  },
  {
   "cell_type": "markdown",
   "metadata": {},
   "source": [
    "# Exercise 3\n",
    "\n",
    "A **structuring element** is a specific shape that is moved across an image with the purpose of applying a particular filter specific to that shape."
   ]
  },
  {
   "cell_type": "markdown",
   "metadata": {},
   "source": [
    "# Exercise 4\n",
    "\n",
    "An edge might be defined to be any area where there is drastic difference in intensity across a small number of pixels. The Laplacian of Gaussian filter may be used to find edges because it can be used to find sharp changes in pixel intensity. It can be used to find zeros of the 2nd derivative of pixel intensity with respect to position, which gives information on changes in pixel intensity useful for identifying edges."
   ]
  }
 ],
 "metadata": {
  "anaconda-cloud": {},
  "kernelspec": {
   "display_name": "Python [conda root]",
   "language": "python",
   "name": "conda-root-py"
  },
  "language_info": {
   "codemirror_mode": {
    "name": "ipython",
    "version": 3
   },
   "file_extension": ".py",
   "mimetype": "text/x-python",
   "name": "python",
   "nbconvert_exporter": "python",
   "pygments_lexer": "ipython3",
   "version": "3.5.2"
  }
 },
 "nbformat": 4,
 "nbformat_minor": 1
}
