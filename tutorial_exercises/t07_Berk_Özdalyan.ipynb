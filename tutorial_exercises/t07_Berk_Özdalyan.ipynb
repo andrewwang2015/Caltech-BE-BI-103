{
 "cells": [
  {
   "cell_type": "markdown",
   "metadata": {},
   "source": [
    "1. Just as the name suggests, parametric approach to statistics involves estimating parameters of interest from a background model that is assumed to be true. Non-parametric statistics, however, assumes no statistical model and draws conclusions based on data alone. Typically, parametric statistics is easier to think about in the context of a Bayesian framework whereas non-parametric statistics is more intuitive when frequentist methods are used. Non-parametric statistics is more useful when we expect parameters to come from an unknown distribution, since it doesn't rely on any statistical assumptions. \n",
    "\n",
    "2. A frequentist 95% confidence interval is defined as follows: If an experiment is repeated over and over again, then the parameter estimate will fall within the confidence interval 95% of the time. \n",
    "   A Bayesian 95% credible region is defined as the 95% of the posterior distribution of the parameter of interest by area. \n",
    "   \n",
    "   The two definitions are entirely different from one another. The frequentist confidence interval refers to an interval that includes the best estimate for the parameter of interest for a vast majority of identical runs. (For example, 95% confidence interval means that if the same experiment is run 100 times, we can expect our parameter estimate to fall within the confidence interval 95% of the time.) Bayesian credible region, however, gives a range of paramater values that are highly probable. It doesn't imply anything about repeated trials - in fact, repeated trials would alter the prior function, thereby altering the posterior distribution as well. Credible region assigns a high degree of plausibility to a range of possible values that the parameter can take. The parameter doesn't have a single value; instead, it is a probabilistic construct where its posterior distribution represents our degree of belief in where it lies.\n",
    "   \n",
    "   The two interpretations can be considered \"similar\" for all practical applications, even though their philosophical underpinnings are quite different from one another. Both give a range of values for a parameter which can be used to extract useful information about it.\n",
    "\n",
    "3. In a frequentist null hypothesis significance test, p-value represents the probability of observing a test statistic as extreme as what was measured if the null hypothesis is true. \n",
    "   A Bayesian odds ratio is the ratio of the plausibility of two hypotheses. \n",
    "   The two concepts are similar in that both express a degree of belief (or lack thereof) in a hypothesis. In the frequentist case, only one hypothesis is being tested - the null hypothesis. Based on the significance threshold, which is arbitrary, it is typically rejected or accepted. In the Bayesian case, the odds ratio compares how well a hypothesis measures up to another. If it is sufficiently skewed in either direction, according to an arbitrary threshold, the dominant hypothesis is accepted and the other one is rejected. \n",
    "   The two ideas are quite different from another. The p-value only gives a measure of probability of observing a test statistic as extreme as what was measured if the null hypothesis is true. It only assesses the null hypothesis and says nothing about its alternatives. The odds ratio, on the other hand, compares two hypotheses and numerically represents their respective degrees of plausibility. \n"
   ]
  },
  {
   "cell_type": "code",
   "execution_count": null,
   "metadata": {
    "collapsed": true
   },
   "outputs": [],
   "source": []
  }
 ],
 "metadata": {
  "anaconda-cloud": {},
  "kernelspec": {
   "display_name": "Python [Root]",
   "language": "python",
   "name": "Python [Root]"
  },
  "language_info": {
   "codemirror_mode": {
    "name": "ipython",
    "version": 3
   },
   "file_extension": ".py",
   "mimetype": "text/x-python",
   "name": "python",
   "nbconvert_exporter": "python",
   "pygments_lexer": "ipython3",
   "version": "3.5.2"
  }
 },
 "nbformat": 4,
 "nbformat_minor": 0
}
