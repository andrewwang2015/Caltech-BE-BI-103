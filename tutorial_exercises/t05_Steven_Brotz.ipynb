{
 "cells": [
  {
   "cell_type": "markdown",
   "metadata": {},
   "source": [
    "**Exercise 1**\n",
    "\n",
    "Mean and Standard Deviation: Quick to calculate and can be used to find the MAP for a parameter easily. Particularly useful for normally distributed data. The main drawback is that it essentially requires data to be bounded and symmetrical, otherwise the mean and standard deviation are not very telling.\n",
    "\n",
    "Medians plus Quartiles: It works when mean and standard deviation doesn't; that is, when the data is unbounded for symmetrical. It is also rather intuitive to interpret. However, if the data is extremely skewed, the quartiles and outliers may be confusing and misleading.\n",
    "\n",
    "Mode with Highest Posterior Density: While not particularly useful when data is multimodal, or if the 'audience' of this numerical summary is not familiar with this summary approach, it is a good way to estimate parameters and quickly identifies their location."
   ]
  },
  {
   "cell_type": "markdown",
   "metadata": {},
   "source": [
    "**Exercise 2**\n",
    "\n",
    "If the data comes from a mistake in the experimental setup e.g. you meant to have stirred the solution for 10 minutes before heating, but you forgot to stir. In such a case, you have gathered data for something other than what you wanted to learn about, and you can throw it away."
   ]
  },
  {
   "cell_type": "markdown",
   "metadata": {},
   "source": [
    "**Exercise 3**\n",
    "\n",
    "In a heavy-tailed distribution, the probability does not fall off as drastically as you move further from the mean. In a Gaussian for example, as you move from the mean, the probability falls very quickly to values very close to 0. Heavy-tailed distributions are useful in dealing with potential outliers because it naturally includes them in the model, as opposed to say a Gaussian which would contort the mean (and entire distributin) to stretch for the outliers."
   ]
  },
  {
   "cell_type": "markdown",
   "metadata": {},
   "source": [
    "**Exercise 4**\n",
    "\n",
    "The good/bad data model would have a large number of parameters, which would render optimization intractable. The Cauchy method has a fixed number of parameters, and so it would be the far better option."
   ]
  }
 ],
 "metadata": {
  "anaconda-cloud": {},
  "kernelspec": {
   "display_name": "Python [conda root]",
   "language": "python",
   "name": "conda-root-py"
  },
  "language_info": {
   "codemirror_mode": {
    "name": "ipython",
    "version": 3
   },
   "file_extension": ".py",
   "mimetype": "text/x-python",
   "name": "python",
   "nbconvert_exporter": "python",
   "pygments_lexer": "ipython3",
   "version": "3.5.2"
  }
 },
 "nbformat": 4,
 "nbformat_minor": 1
}
