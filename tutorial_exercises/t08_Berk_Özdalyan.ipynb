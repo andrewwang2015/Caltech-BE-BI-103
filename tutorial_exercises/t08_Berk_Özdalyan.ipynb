{
 "cells": [
  {
   "cell_type": "markdown",
   "metadata": {},
   "source": [
    "1. Periodogram is the magnitude vs. frequency plot of a signal. Intuitively, it represents which frequencies are dominant in the signal. (E.g. The Fourier decomposition of a sine wave is two delta functions located at the positive and negative values of the frequency of oscillation. This makes sense since a sine wave has just one frequency component.) Each time domain signal has a corresponding frequency domain representation. The plot of such a representation is called a periodogram. \n",
    "\n",
    "2. If a signal is not smoothened, it likely consists of many cusps and abrupt changes, which portray an inaccurate picture of the time derivative of the signal. Without a smooth signal, it's very difficult to analyse the time derivative because the time period between two adjacent data points in the original, unsmoothened signal is too large to see the trend clearly. Smoothening adds many more data points such that the sum of squares of the residuals (smoothened vs. original data) is small. These additional data points reduce the uncertainty in the second derivative, giving a better estimate for how much the curve changes in unit time.\n",
    "\n",
    "3. ROI is the abbreviation for \"Region of Interest\", which is the part of an image we are interested in studying. It is an important concept in image processing because it involves defining the relevant part of an image and separating it from the rest of the image, which is relatively less important. It is especially handy if automated accurately. There is a lot of machine-learning based active research on identifying arbitrary regions of interest from any image the way humans intuitively do. "
   ]
  },
  {
   "cell_type": "code",
   "execution_count": null,
   "metadata": {
    "collapsed": true
   },
   "outputs": [],
   "source": []
  }
 ],
 "metadata": {
  "kernelspec": {
   "display_name": "Python [Root]",
   "language": "python",
   "name": "Python [Root]"
  },
  "language_info": {
   "codemirror_mode": {
    "name": "ipython",
    "version": 3
   },
   "file_extension": ".py",
   "mimetype": "text/x-python",
   "name": "python",
   "nbconvert_exporter": "python",
   "pygments_lexer": "ipython3",
   "version": "3.5.2"
  }
 },
 "nbformat": 4,
 "nbformat_minor": 0
}
