{
 "cells": [
  {
   "cell_type": "markdown",
   "metadata": {},
   "source": [
    "1. Segmentation is the process of dividing an image into multiple parts. It is used to identify different features in an image.\n",
    "\n",
    "2. Thresholding is assigning a border intensity value that splits the image into black and white components. In image processing, it can be used to separate the useful information from the background if the two differ significantly in intensity.\n",
    "\n",
    "3. A structuring element is a unit shape that is moved across all points in an image to apply a predefined filtering function. It's typically used in image filtering applications. For example, a median filter uses a structuring element to remove salt-and-pepper noise from an image.\n",
    "\n",
    "4. An edge occurs when the intensity of an image changes suddenly and drastically, typically within a small number of pixels. A Laplacian of Gaussian filter can be used to find edges in an image because it identifies points at which the second derivative of pixel intensity with respect to pixel location changes sign (crosses zero). Zero crossings of the second derivative (Laplacian) correspond to sharp changes in pixel intensity, so it makes sense to use them as a metric for edge detection. This method needs the Gaussian blurred image instead of the original one because background intensity has to be uniform for the zero crossings to accurately identify edges in an image. If the background is uneven and exhibits large variance, then comparing the intensities of two adjacent pixels may lead to false positives and false negatives."
   ]
  }
 ],
 "metadata": {
  "kernelspec": {
   "display_name": "Python [Root]",
   "language": "python",
   "name": "Python [Root]"
  },
  "language_info": {
   "codemirror_mode": {
    "name": "ipython",
    "version": 3
   },
   "file_extension": ".py",
   "mimetype": "text/x-python",
   "name": "python",
   "nbconvert_exporter": "python",
   "pygments_lexer": "ipython3",
   "version": "3.5.2"
  }
 },
 "nbformat": 4,
 "nbformat_minor": 0
}
