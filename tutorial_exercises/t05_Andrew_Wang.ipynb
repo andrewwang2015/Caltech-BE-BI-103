{
 "cells": [
  {
   "cell_type": "markdown",
   "metadata": {},
   "source": [
    "EXERCISE 1\n",
    "\n",
    "1. Mean and Standard Deviation: \n",
    "Good for quick calculation. Can be useful for when data is normally distributed. When data is bounded or not symmetrical, these numerical summaries do not mean much.\n",
    "\n",
    "2. Median with quantile:\n",
    "The posterior needs not to be Gaussian. Does not rely on approximations and typically easy to interpret.\n",
    "\n",
    "3. Mode with highest posterior density:\n",
    "Generates the where the parameter value is most likely to fall (most likely parameter value). Can be hard to interpret. May not be best fit for multimodal distributions"
   ]
  },
  {
   "cell_type": "markdown",
   "metadata": {},
   "source": [
    "EXERCISE 2\n",
    "\n",
    "If the data arises from an experimental flaw, then it can be cast away. For example, if the temperature was not controlled for when it should have been."
   ]
  },
  {
   "cell_type": "markdown",
   "metadata": {},
   "source": [
    "EXERCISE 3\n",
    "\n",
    "Heavy tailed distributions have it so that values far away from the mean have probabilities that are so close to 0 as in the case of Gaussian. This is helpful for outliers because in the case of a Gaussian distribution, the rest of model will change to reduce the deviations of the outlier. Using a heavy-tailed in this case will account for such outliers so that the model fits better and will not have to contort itself to accomomodate such outliers.\n"
   ]
  },
  {
   "cell_type": "markdown",
   "metadata": {},
   "source": [
    "EXERCISE 4\n",
    "\n",
    "The Cauchy method would be better as the good/bad model would involve too many parameters to fit and would be too computationally intensive and time consuming to be practical. Cauchy, which has fixed parameter size, would be a more optimal option."
   ]
  },
  {
   "cell_type": "code",
   "execution_count": null,
   "metadata": {
    "collapsed": true
   },
   "outputs": [],
   "source": []
  }
 ],
 "metadata": {
  "kernelspec": {
   "display_name": "Python [Root]",
   "language": "python",
   "name": "Python [Root]"
  },
  "language_info": {
   "codemirror_mode": {
    "name": "ipython",
    "version": 3
   },
   "file_extension": ".py",
   "mimetype": "text/x-python",
   "name": "python",
   "nbconvert_exporter": "python",
   "pygments_lexer": "ipython3",
   "version": "3.5.2"
  }
 },
 "nbformat": 4,
 "nbformat_minor": 0
}
