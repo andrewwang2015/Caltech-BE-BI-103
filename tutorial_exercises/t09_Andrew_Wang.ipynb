{
 "cells": [
  {
   "cell_type": "markdown",
   "metadata": {},
   "source": [
    "1. In image processing, segmentation is the act of dividing an image up for analysis of specific features, etc.\n",
    "2. Thresholding is categorizing each pixel based on whether it's above or below the threshold in intensity. This can be used for transforming an image to black and white or removing background.\n",
    "3. A structuring unit is a particular shape that's moved across an image to apply some filtering (for example median filtering).\n",
    "4. I would define an edge as a sudden drop in intensity between neighboring pixels. The Laplacian of Gaussian filter can be used for finding edges because it can calculate the second derivative of intensity with respect to time. This enables us to determine where a sharp dropoff in intensity occurs, as we want. The Gaussian is important because we must normalize the image by uniforming the background intensity so that peaks in the background will not throw off the Laplacian."
   ]
  },
  {
   "cell_type": "code",
   "execution_count": null,
   "metadata": {
    "collapsed": true
   },
   "outputs": [],
   "source": []
  }
 ],
 "metadata": {
  "anaconda-cloud": {},
  "kernelspec": {
   "display_name": "Python [Root]",
   "language": "python",
   "name": "Python [Root]"
  },
  "language_info": {
   "codemirror_mode": {
    "name": "ipython",
    "version": 3
   },
   "file_extension": ".py",
   "mimetype": "text/x-python",
   "name": "python",
   "nbconvert_exporter": "python",
   "pygments_lexer": "ipython3",
   "version": "3.5.2"
  }
 },
 "nbformat": 4,
 "nbformat_minor": 0
}
