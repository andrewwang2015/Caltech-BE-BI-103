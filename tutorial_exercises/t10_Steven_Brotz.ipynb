{
 "cells": [
  {
   "cell_type": "markdown",
   "metadata": {},
   "source": [
    "# Exercise 1\n",
    "\n",
    "The correlation coefficient quantifies how *colocalized* two images are. A high coefficient of correlation (close to 1) indicates that the two images are colocalized. Conversely, a low coefficient of correlation (close to -1) indicates the images are not colocalized.\n",
    "\n",
    "# Exercise 2\n",
    "\n",
    "Colocalization by eye can be deceiving and/or difficult. As seen in the tutorial, while observing two merged images, it can be difficult to identity colocalization, and thus a quantitative measure such as the correlation coefficient is a better alternative.\n",
    "\n",
    "# Exercise 3\n",
    "\n",
    "Computing the probability of colocalization involves scrambling one of the images and comparing it to the other, and doing this repeatedly. The number of times the scrambled image correlates with the original better than the two original images correlate gives an estimate on the probability of colocalization. This is very similar to hacker-stats method of computing p-values, in which we scramble the data and see if it is identically distributed to the original repeatedly.\n",
    "\n",
    "# Exercise 4\n",
    "\n",
    "We need to know which variable this Manders coefficient is with respect to, as it can mean very different things based on its corresponding variable. Additionally, it would be important to know exactly how they define colocalization in the context of their experiement."
   ]
  }
 ],
 "metadata": {
  "kernelspec": {
   "display_name": "Python [conda root]",
   "language": "python",
   "name": "conda-root-py"
  },
  "language_info": {
   "codemirror_mode": {
    "name": "ipython",
    "version": 3
   },
   "file_extension": ".py",
   "mimetype": "text/x-python",
   "name": "python",
   "nbconvert_exporter": "python",
   "pygments_lexer": "ipython3",
   "version": "3.5.2"
  }
 },
 "nbformat": 4,
 "nbformat_minor": 1
}
