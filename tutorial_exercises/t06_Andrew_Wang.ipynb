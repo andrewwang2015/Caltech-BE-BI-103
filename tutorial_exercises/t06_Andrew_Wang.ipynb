{
 "cells": [
  {
   "cell_type": "markdown",
   "metadata": {},
   "source": [
    "Question 1:\n",
    "\n",
    "We first compute the odds ratio. We then look at the posterior, the area under the posterior. With this equation in hand, we can find the ratio of evidences through Laplace or PTMCMC. With this information in hand, we can analyze the odds ratio (if < 1, denominator model is more likely)."
   ]
  },
  {
   "cell_type": "markdown",
   "metadata": {},
   "source": [
    "Question 2:\n",
    "\n",
    "Optimization: Good for when the number of parameters is small, posterior is unimodal, computational ability is limited\n",
    "MCMC: Good for when there is enough computation resources for burning and walking, the posterior may not be unimodal, and the number of parameters is too large"
   ]
  },
  {
   "cell_type": "markdown",
   "metadata": {},
   "source": [
    "Question 3:\n",
    "\n",
    "To assess the quality of a model, we need a baseline, something to compare it to. This is where the other model comes in."
   ]
  },
  {
   "cell_type": "code",
   "execution_count": null,
   "metadata": {
    "collapsed": true
   },
   "outputs": [],
   "source": []
  }
 ],
 "metadata": {
  "anaconda-cloud": {},
  "kernelspec": {
   "display_name": "Python [Root]",
   "language": "python",
   "name": "Python [Root]"
  },
  "language_info": {
   "codemirror_mode": {
    "name": "ipython",
    "version": 3
   },
   "file_extension": ".py",
   "mimetype": "text/x-python",
   "name": "python",
   "nbconvert_exporter": "python",
   "pygments_lexer": "ipython3",
   "version": "3.5.2"
  }
 },
 "nbformat": 4,
 "nbformat_minor": 0
}
