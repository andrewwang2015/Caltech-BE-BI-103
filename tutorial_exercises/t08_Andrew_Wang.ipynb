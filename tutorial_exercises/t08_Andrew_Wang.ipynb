{
 "cells": [
  {
   "cell_type": "markdown",
   "metadata": {},
   "source": [
    "1. A periodogram can be used to look at magnitudes of each frequency vs. frequency. This gives the user/reader an idea of how much each frequency contributes to the total signal. \n",
    "\n",
    "2. Data smoothing is important because without it, the original data will likely have a lower signal to noise ratio and thus lead to inaccuracies in any conclusions that can be drawn. In terms of taking a time derivative, an unsmoothened signal will consist of sharp turns and changes, which can lead to an inaccurate portrayal of the derivative.\n",
    "\n",
    "3. ROI stands for \"Region of Interest.\" Attaining the ROI is important because it focuses in on the part of the image we are specifically interested in analyzing or studying. Raw images often come with lots of information, much of which you may not need for a particular analysis. By blocking out these other parts and zooming in on the ROI, we are essentially blocking background, allowing for better analysis."
   ]
  },
  {
   "cell_type": "code",
   "execution_count": null,
   "metadata": {
    "collapsed": true
   },
   "outputs": [],
   "source": []
  }
 ],
 "metadata": {
  "kernelspec": {
   "display_name": "Python [Root]",
   "language": "python",
   "name": "Python [Root]"
  },
  "language_info": {
   "codemirror_mode": {
    "name": "ipython",
    "version": 3
   },
   "file_extension": ".py",
   "mimetype": "text/x-python",
   "name": "python",
   "nbconvert_exporter": "python",
   "pygments_lexer": "ipython3",
   "version": "3.5.2"
  }
 },
 "nbformat": 4,
 "nbformat_minor": 0
}
