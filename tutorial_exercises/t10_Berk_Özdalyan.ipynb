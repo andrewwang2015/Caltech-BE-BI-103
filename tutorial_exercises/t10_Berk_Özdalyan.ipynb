{
 "cells": [
  {
   "cell_type": "markdown",
   "metadata": {},
   "source": [
    "1. The correlation coefficient is a measure of how colocalized the two images are. For example, if two channels of different colors are highly positively correlated with one another (correlation coefficient close to 1, and much higher than what we expect by random chance), then we say that the two images are colocalized. Similarly, if the two channels are highly negatively correlated or not correlated (correlation coefficient much lower than 1 and not much higher than what we expect by random chance), then the images are not colocalized. \n",
    "\n",
    "2. Colocalization by eye can be difficult and misleading. Consider the example at the end of the tutorial. Looking at the two images and the points at which the signals are exactly colocalized doesn't give a clear picture of colocalization. Even if the two images are merged, colocalization is not obvious. However, computing the probability of colocalization gives p = 1, which confirms colocalization beyond reasonable doubt.\n",
    "\n",
    "3. Probability of colocalization is computed by repeatedly calculating the colocalization between a scrambled version of one of the two images and the original image of the other. The percentage of times the original-original pair has a higher colocalization than the scrambled-original pair gives a frequentist estimate for the probability of colocalization. This is similar to the hacker stats techniques we covered in week 7 because both approaches are frequentist in nature. Both implicitly assume that the probability of an event represents the fraction of times it is observed if the experiment is repeated a large number of times. \n",
    "\n",
    "4. First of all, we would need to know which algorithm/method they used to define colocalized system. Then, we would need to know which variable this Manders coefficient represents. (e.g. M_a is not necessarily equal to M_b). I'm not sure what the problem asks for, specifically, but I think we can have a decent idea of the level of colocalization with these two pieces of information. "
   ]
  }
 ],
 "metadata": {
  "anaconda-cloud": {},
  "kernelspec": {
   "display_name": "Python [Root]",
   "language": "python",
   "name": "Python [Root]"
  },
  "language_info": {
   "codemirror_mode": {
    "name": "ipython",
    "version": 3
   },
   "file_extension": ".py",
   "mimetype": "text/x-python",
   "name": "python",
   "nbconvert_exporter": "python",
   "pygments_lexer": "ipython3",
   "version": "3.5.2"
  }
 },
 "nbformat": 4,
 "nbformat_minor": 0
}
