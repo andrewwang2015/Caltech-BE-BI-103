{
 "cells": [
  {
   "cell_type": "markdown",
   "metadata": {},
   "source": [
    "# Exercise 1\n",
    "\n",
    "A periodogram is a plot of magnitude vs. frequency of a signal. It may be interpreted as the contribution of each frequency to the total signal. It is the result of performing a Fourier Transform on a frequency vs. time.\n",
    "\n",
    "# Exercise 2\n",
    "\n",
    "An unsmoothed signal likely contains cusps/peaks which would result in gaps/inaccuracies in the derivative of the signal. Therefore, assessing the time derivative of a signal requires data smoothing for accurate results.\n",
    "\n",
    "# Exercise 3\n",
    "\n",
    "ROI means \"Region of interest\", which refers to the pertinent part of the image i.e. the part of the image under scrutiny/analysis/interest. Raw images contain vast information, and it is intuitive that we need to narrow down what we study to make any sense of the data presented."
   ]
  }
 ],
 "metadata": {
  "anaconda-cloud": {},
  "kernelspec": {
   "display_name": "Python [conda root]",
   "language": "python",
   "name": "conda-root-py"
  },
  "language_info": {
   "codemirror_mode": {
    "name": "ipython",
    "version": 3
   },
   "file_extension": ".py",
   "mimetype": "text/x-python",
   "name": "python",
   "nbconvert_exporter": "python",
   "pygments_lexer": "ipython3",
   "version": "3.5.2"
  }
 },
 "nbformat": 4,
 "nbformat_minor": 1
}
