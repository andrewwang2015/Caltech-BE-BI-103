{
 "cells": [
  {
   "cell_type": "markdown",
   "metadata": {},
   "source": [
    "1) Maximum likelikehood estimation can be used to estimate parameters given data. Previously, we had found the MAP and in the special case of uniform priors, finding the MAP is the equivalent of finding the MLE. Thus, finding the MAP last week with the assumption of uniform priors allowed us to estimate parameters with maximum likelihood given the data set.\n",
    "\n",
    "\n",
    "2) When the likelihood is Gaussian distributed, the Levenberg-Marquadt algorithm can be used and the scipy.optimize.leastsq() can be effectively used. However, in the case of Singer's data, the log posterior is not of that form which is why the leastsq() cannot be used, but rather the scipy.optimize.minimize() is the better alternative. \n",
    "\n",
    "3) A burn in when we throw away iterations at the beginning of a Markov chain Monte Carlo run. Thus, the early data at the beginning of the Markov chain is not outputted or used and then after this period, all data from future iterations are used for MCMC calculations. These burn ins are particularly important because at the start, points are more or less randomly selected from the posterior curve. It is unlikely these points are picked perfectly, so it takes some time for them to converge to the distribution that most accurately describes the real distribution. Only taking data after the initial burn in period is important for making sure the distribution is representative.\n",
    "\n",
    "4) We would assume the variables other than theh variable of interest to be constants. \n"
   ]
  },
  {
   "cell_type": "code",
   "execution_count": null,
   "metadata": {
    "collapsed": true
   },
   "outputs": [],
   "source": []
  }
 ],
 "metadata": {
  "kernelspec": {
   "display_name": "Python [Root]",
   "language": "python",
   "name": "Python [Root]"
  },
  "language_info": {
   "codemirror_mode": {
    "name": "ipython",
    "version": 3
   },
   "file_extension": ".py",
   "mimetype": "text/x-python",
   "name": "python",
   "nbconvert_exporter": "python",
   "pygments_lexer": "ipython3",
   "version": "3.5.2"
  }
 },
 "nbformat": 4,
 "nbformat_minor": 0
}
