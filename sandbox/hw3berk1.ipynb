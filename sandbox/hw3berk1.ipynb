{
 "cells": [
  {
   "cell_type": "code",
   "execution_count": 2,
   "metadata": {
    "collapsed": true
   },
   "outputs": [],
   "source": [
    "import numpy as np\n",
    "import pandas as pd\n",
    "import seaborn as sns\n",
    "import scipy.optimize\n",
    "import statsmodels.tools.numdiff as smnd\n",
    "\n",
    "# Import pyplot for plotting\n",
    "import matplotlib.pyplot as plt\n",
    "\n",
    "# Some pretty Seaborn settings\n",
    "import seaborn as sns\n",
    "rc={'lines.linewidth': 2, 'axes.labelsize': 14, 'axes.titlesize': 14}\n",
    "sns.set(rc=rc)\n",
    "\n",
    "# Make Matplotlib plots appear inline\n",
    "%matplotlib inline"
   ]
  },
  {
   "cell_type": "markdown",
   "metadata": {},
   "source": [
    "3.1 (a) This problem has two hidden subproblems:\n",
    "\n",
    "1. Why did the authors pick a Gaussian distribution as opposed to an exponential or any other distribution?\n",
    "2. Given that the Gaussian model is chosen, why do we have to add the scaling factor (describing the amplitude (max - min)) and the background height? \n",
    "\n",
    "The answer to #1 is not rigorously justified without resorting to the partial differential equations (PDE's) that govern the physical system (e.g. diffusion equations). Without apriori knowledge about the physical mechanism, we cannot argue that a Gaussian distribution is a better choice than, say an exponential. During a brief chat with Justin on this issue, he told us that an exponential distribution would lead to a cusp on the origin, which is a nonphysical artifact - however, it is not difficult to imagine a hypothetical situation where the exponential could plausibly be a better fit. For this particular problem, it turns out that indeed, the physical mechanism deductively, rigorously and conclusively corroborates the Gaussian model. However, that cannot be argued without resorting to more information than is available in the question.\n",
    "\n",
    "Back to our problem: The authors picked the Gaussian distribution because it has a well defined finite width (given by sigma), peaks at the origin and decays rapidly (and is hence concordant with what a cursory look at the image suggests). It is a reasonable guess for intuitive reasons. According to Justin, when they wrote the paper, the authors did not know that the PDE's describing the physical system inevitably lead to a Gaussian distribution - it was discovered afterwards.\n",
    "\n",
    "The answer to #2 is rather trivial. PDF's are defined such that the area under a PDF is 1. Subtracting the background adjusts the vertical location of the Gaussian so that when the algorithm approximates the best Gaussian fit, the y-axis matches the fluorescent range. Scaling stretches or shrinks it so that the area underneath the curve is 1. \n",
    "\n",
    "What other models can we recommend? Well, let's consider the boundary limits the distribution would have to satisfy:\n",
    "1. Peaks at the origin\n",
    "2. Decays rapidly for large x.\n",
    "3. Decreases monotonically for increasing and decreasing x.\n",
    "4. Is symmetric with respect to x.\n",
    "\n",
    "We think that any mirrored-exponential distribution would satisfy the above conditions, as would any distribution in the form of\n",
    "\n",
    "\\begin{align}\n",
    "\\Large f(x) = A \\mathrm{e} ^ {\\large-{\\lambda x^{\\large k}}} + \\Large B\n",
    "\\end{align}\n",
    "\n",
    "where k and lambda are regularization parameters and A and B correspond to scaling and shifting, respectively. "
   ]
  },
  {
   "cell_type": "markdown",
   "metadata": {},
   "source": [
    "Let's check whether the Gaussian model makes sense given the raw data:"
   ]
  },
  {
   "cell_type": "code",
   "execution_count": 3,
   "metadata": {
    "collapsed": false
   },
   "outputs": [
    {
     "data": {
      "text/html": [
       "<div>\n",
       "<table border=\"1\" class=\"dataframe\">\n",
       "  <thead>\n",
       "    <tr style=\"text-align: right;\">\n",
       "      <th></th>\n",
       "      <th>DV coord nc 14</th>\n",
       "      <th>fluor intensity nc 14</th>\n",
       "      <th>DV coord nc 13</th>\n",
       "      <th>fluor intensity nc 13</th>\n",
       "      <th>DV coord nc 12</th>\n",
       "      <th>fluor intensity nc 12</th>\n",
       "      <th>DV coord nc 11</th>\n",
       "      <th>fluor intensity nc 11</th>\n",
       "    </tr>\n",
       "  </thead>\n",
       "  <tbody>\n",
       "    <tr>\n",
       "      <th>0</th>\n",
       "      <td>0.7813</td>\n",
       "      <td>1.6512</td>\n",
       "      <td>0.7939</td>\n",
       "      <td>1.6763</td>\n",
       "      <td>0.9210</td>\n",
       "      <td>1.0523</td>\n",
       "      <td>0.9347</td>\n",
       "      <td>1.2730</td>\n",
       "    </tr>\n",
       "    <tr>\n",
       "      <th>1</th>\n",
       "      <td>0.8565</td>\n",
       "      <td>1.4200</td>\n",
       "      <td>0.8404</td>\n",
       "      <td>1.1663</td>\n",
       "      <td>-0.5801</td>\n",
       "      <td>1.4345</td>\n",
       "      <td>-0.9663</td>\n",
       "      <td>1.1778</td>\n",
       "    </tr>\n",
       "    <tr>\n",
       "      <th>2</th>\n",
       "      <td>0.8986</td>\n",
       "      <td>1.3845</td>\n",
       "      <td>0.8789</td>\n",
       "      <td>1.3919</td>\n",
       "      <td>-0.5192</td>\n",
       "      <td>1.2087</td>\n",
       "      <td>-0.5628</td>\n",
       "      <td>1.2967</td>\n",
       "    </tr>\n",
       "    <tr>\n",
       "      <th>3</th>\n",
       "      <td>0.9286</td>\n",
       "      <td>1.3960</td>\n",
       "      <td>0.9879</td>\n",
       "      <td>1.2993</td>\n",
       "      <td>-0.4795</td>\n",
       "      <td>1.2272</td>\n",
       "      <td>-0.3528</td>\n",
       "      <td>1.4155</td>\n",
       "    </tr>\n",
       "    <tr>\n",
       "      <th>4</th>\n",
       "      <td>-0.9356</td>\n",
       "      <td>1.1741</td>\n",
       "      <td>-0.9231</td>\n",
       "      <td>1.2076</td>\n",
       "      <td>-0.3491</td>\n",
       "      <td>1.4272</td>\n",
       "      <td>-0.1478</td>\n",
       "      <td>2.0224</td>\n",
       "    </tr>\n",
       "  </tbody>\n",
       "</table>\n",
       "</div>"
      ],
      "text/plain": [
       "   DV coord nc 14  fluor intensity nc 14  DV coord nc 13  \\\n",
       "0          0.7813                 1.6512          0.7939   \n",
       "1          0.8565                 1.4200          0.8404   \n",
       "2          0.8986                 1.3845          0.8789   \n",
       "3          0.9286                 1.3960          0.9879   \n",
       "4         -0.9356                 1.1741         -0.9231   \n",
       "\n",
       "   fluor intensity nc 13  DV coord nc 12  fluor intensity nc 12  \\\n",
       "0                 1.6763          0.9210                 1.0523   \n",
       "1                 1.1663         -0.5801                 1.4345   \n",
       "2                 1.3919         -0.5192                 1.2087   \n",
       "3                 1.2993         -0.4795                 1.2272   \n",
       "4                 1.2076         -0.3491                 1.4272   \n",
       "\n",
       "   DV coord nc 11  fluor intensity nc 11  \n",
       "0          0.9347                 1.2730  \n",
       "1         -0.9663                 1.1778  \n",
       "2         -0.5628                 1.2967  \n",
       "3         -0.3528                 1.4155  \n",
       "4         -0.1478                 2.0224  "
      ]
     },
     "execution_count": 3,
     "metadata": {},
     "output_type": "execute_result"
    }
   ],
   "source": [
    "# Load data into DataFrame\n",
    "df = pd.read_csv('../data/reeves_dv_profile_over_time.csv', comment='#')\n",
    "\n",
    "# Check it out\n",
    "df.head()"
   ]
  },
  {
   "cell_type": "code",
   "execution_count": 4,
   "metadata": {
    "collapsed": false,
    "scrolled": true
   },
   "outputs": [
    {
     "data": {
      "text/plain": [
       "[<matplotlib.lines.Line2D at 0x61439dda0>]"
      ]
     },
     "execution_count": 4,
     "metadata": {},
     "output_type": "execute_result"
    },
    {
     "data": {
      "image/png": "[encoded data removed]",
      "text/plain": [
       "<matplotlib.figure.Figure at 0x613fae7b8>"
      ]
     },
     "metadata": {},
     "output_type": "display_data"
    }
   ],
   "source": [
    "plt.plot(df['DV coord nc 14'], df['fluor intensity nc 14'], marker='.', linestyle='none')"
   ]
  },
  {
   "cell_type": "markdown",
   "metadata": {},
   "source": [
    "The 14th cell cycle certainly looks promising. Notice that the fluorescence level falls off rapidly and resembles a bell curve. Let's look at the other three:"
   ]
  },
  {
   "cell_type": "code",
   "execution_count": 5,
   "metadata": {
    "collapsed": false
   },
   "outputs": [
    {
     "data": {
      "text/plain": [
       "[<matplotlib.lines.Line2D at 0x6148d48d0>]"
      ]
     },
     "execution_count": 5,
     "metadata": {},
     "output_type": "execute_result"
    },
    {
     "data": {
      "image/png": "[encoded data removed]",
      "text/plain": [
       "<matplotlib.figure.Figure at 0x614372dd8>"
      ]
     },
     "metadata": {},
     "output_type": "display_data"
    }
   ],
   "source": [
    "plt.plot(df['DV coord nc 13'], df['fluor intensity nc 13'], marker='.', linestyle='none')"
   ]
  },
  {
   "cell_type": "code",
   "execution_count": 6,
   "metadata": {
    "collapsed": false
   },
   "outputs": [
    {
     "data": {
      "text/plain": [
       "[<matplotlib.lines.Line2D at 0x614941710>]"
      ]
     },
     "execution_count": 6,
     "metadata": {},
     "output_type": "execute_result"
    },
    {
     "data": {
      "image/png": "[encoded data removed]",
      "text/plain": [
       "<matplotlib.figure.Figure at 0x6148b15c0>"
      ]
     },
     "metadata": {},
     "output_type": "display_data"
    }
   ],
   "source": [
    "plt.plot(df['DV coord nc 12'], df['fluor intensity nc 12'], marker='.', linestyle='none')"
   ]
  },
  {
   "cell_type": "code",
   "execution_count": 7,
   "metadata": {
    "collapsed": false
   },
   "outputs": [
    {
     "data": {
      "text/plain": [
       "[<matplotlib.lines.Line2D at 0x6149b1160>]"
      ]
     },
     "execution_count": 7,
     "metadata": {},
     "output_type": "execute_result"
    },
    {
     "data": {
      "image/png": "[encoded data removed]",
      "text/plain": [
       "<matplotlib.figure.Figure at 0x6149537f0>"
      ]
     },
     "metadata": {},
     "output_type": "display_data"
    }
   ],
   "source": [
    "plt.plot(df['DV coord nc 11'], df['fluor intensity nc 11'], marker='.', linestyle='none')"
   ]
  },
  {
   "cell_type": "markdown",
   "metadata": {},
   "source": [
    "While the last two plots look a lot muddier than the first two, Gaussian seems a reasonable choice for all four data sets. "
   ]
  },
  {
   "cell_type": "markdown",
   "metadata": {
    "collapsed": true
   },
   "source": [
    "3.1 (b) Before we construct our Bayesian equations, it's important to state the underlying mathematical and statistical models:\n",
    "\n",
    "Mathematical Model: We assume that the fluorescence gradient follows a scaled and shifted Gaussian, described and justified in 3.1.\n",
    "Statistical Model: We assume that the error between the theoretical fluorescence level and our measurements is Gaussian distributed. Why is this justified? We have reason to think that the error distribution is the sum of a large number of independent, or very weakly correlated random variables. For example, external factors such as temperature, precision of experimental equipment, brightness as well as internal factors like the experimentor's eyesight, reflexes and intuition for the type of experimental setup to use may all have some bearing on the end result. If we can assume that all the possible factors that can produce an experimental error are large in number, not very correlated to each other and obey a mild condition, it can be shown that their sum approaches a Gaussian as the sample size increases (See Lyapunov's CLT). Based on this assumption, we can guess that the resulting error distribution is Gaussian. \n",
    "\n",
    "Now, let's set up Bayes' Equation: \n",
    "\n",
    "The shape of the likelihood follows from the statistical model: We assume that i.i.d measurements that each consist of the mean and some Gaussian noise. \n",
    "\n",
    "\\begin{align}\n",
    "Likelihood = \\prod_{i \\in D}\\frac{1}{\\sqrt{2 \\pi \\sigma_i^2}}\\exp{\\frac{-(x_i - f(x_i))^2}{2 \\sigma_i^2}}   \n",
    "\\end{align}\n",
    "\n",
    "Here, $f(x_i)$ represents our theoretical Gaussian fit for the fluorescence distribution and $x_i$ represent our measurements.\n",
    "\n",
    "\\begin{align}\n",
    "f(x_i) = A \\exp{[-\\frac{1}{2w_i^2} (p_i - \\mu)^2]} + B \n",
    "\\end{align}\n",
    "\n",
    "As described in 3.1,  $A$, $B$, $w_i$ and $\\mu$ are the scaling, shifting, width and mean position parameters, respectively. $p_i$ are the position measurements.\n",
    "\n",
    "We will assume uniform priors for $A$, $B$, $w$, $\\mu$ and Jeffrey's prior for $\\sigma$.  Moreover, we assume that all five parameters are independent because of the following reasons: \n",
    "\n",
    "- $\\sigma$ is independent of f($x_i$) because f($x_i$) specifies the location of the bell curve whereas $\\sigma$ sets the width. This shows that $\\sigma$ is independent of all the other 4 parameters. Now, we will argue that the other 4 parameters are independent of one another. \n",
    "\n",
    "- The location and scale parameters ($A$ and $B$) are independent of the Gaussian behavior (as in, they can be applied to any arbitrary function and are separate from the bell shape). We know that $A$ and $B$ are independent because their effects can be separated ($A$ stretches the curve whereas $B$ shifts it). Similarly, $w$ and $\\mu$ are also independent because they too represent the scale and location of the Gaussian bell shape. Overall, it makes intuitive sense that all 4 parameters should be independent of one another. \n",
    "\n",
    "- Thus, we can separate the combined prior into a product of five priors:\n",
    "\n",
    "\\begin{align}\n",
    "Prior = P(A \\mid I) P(B \\mid I) P(W \\mid I) P(\\mu \\mid I) P(\\sigma \\mid I)\n",
    "\\end{align}\n",
    "\\begin{align}\n",
    "      = \\frac{1}{A_{max}}\\frac{1}{B_{max}}\\frac{1}{Width}\\frac{1}{\\mu_{max}}\\frac{1}{\\sigma \\ln{\\frac{\\sigma_{max}}{\\sigma_{min}}}}\n",
    "\\end{align}\n",
    "\n",
    "\n",
    "Notice that the posterior is a student-t distribution, as derived earlier in class. It is proportional to an exponential term:\n",
    "\\begin{align}\n",
    "Posterior \\propto (\\sum_{i \\in D} (x_i - \\mu)^2)^{-\\frac{n}{2}}\n",
    "\\end{align}\n",
    "\n",
    "\\begin{align}\n",
    "Log Posterior = - \\frac{n}{2} \\log{\\sum_{i} (x_i - \\mu)^2} + constant\n",
    "\\end{align}"
   ]
  },
  {
   "cell_type": "markdown",
   "metadata": {
    "collapsed": false
   },
   "source": [
    "3.1 (c) The data are ready for use. We just need to extract each column for further analysis. "
   ]
  },
  {
   "cell_type": "code",
   "execution_count": 8,
   "metadata": {
    "collapsed": false
   },
   "outputs": [],
   "source": [
    "coord_14 = df['DV coord nc 14'].dropna()\n",
    "fluor_14 = df['fluor intensity nc 14'].dropna()\n",
    "coord_13 = df['DV coord nc 13'].dropna()\n",
    "fluor_13 = df['fluor intensity nc 13'].dropna()\n",
    "coord_12 = df['DV coord nc 12'].dropna()\n",
    "fluor_12 = df['fluor intensity nc 12'].dropna()\n",
    "coord_11 = df['DV coord nc 11'].dropna()\n",
    "fluor_11 = df['fluor intensity nc 11'].dropna()"
   ]
  },
  {
   "cell_type": "code",
   "execution_count": 9,
   "metadata": {
    "collapsed": true
   },
   "outputs": [],
   "source": [
    "def find_fluorescence(parameters, position):\n",
    "    '''  \n",
    "    Theoretical model for the fluorescence\n",
    "    '''\n",
    "    a, b, width, mean_pos = parameters\n",
    "    return a * np.exp(-1/(2*width**2) * (position - mean_pos)**2) + b"
   ]
  },
  {
   "cell_type": "code",
   "execution_count": 10,
   "metadata": {
    "collapsed": false
   },
   "outputs": [],
   "source": [
    "def log_post(parameters, position, fluorescence):\n",
    "    \"\"\"\n",
    "    Compute log of posterior for single set of parameters.\n",
    "    parameters[0] = a\n",
    "    parameters[1] = b\n",
    "    parameters[2] = width\n",
    "    parameters[3] = mean_pos    \n",
    "    \"\"\"\n",
    "    # Unpack parameters\n",
    "    a, b, width, mean_pos = parameters\n",
    "    \n",
    "    # Theoretical fluorescence\n",
    "    flu_theor = find_fluorescence(parameters, position)\n",
    "    \n",
    "    return -len(position) / 2 * np.log(np.sum((fluorescence - flu_theor)**2))"
   ]
  },
  {
   "cell_type": "code",
   "execution_count": 11,
   "metadata": {
    "collapsed": true
   },
   "outputs": [],
   "source": [
    "def resid(parameters, position, fluorescence):\n",
    "    \"\"\"\n",
    "    Residuals for the fluorescence model.\n",
    "    \"\"\"\n",
    "    return fluorescence - find_fluorescence(parameters, position)"
   ]
  },
  {
   "cell_type": "markdown",
   "metadata": {},
   "source": [
    "We need to plot the raw data before setting the initial guess. We will do all of 3.1 (c) one nuclear cycle at a time."
   ]
  },
  {
   "cell_type": "code",
   "execution_count": 12,
   "metadata": {
    "collapsed": false
   },
   "outputs": [
    {
     "data": {
      "text/plain": [
       "[<matplotlib.lines.Line2D at 0x614a17748>]"
      ]
     },
     "execution_count": 12,
     "metadata": {},
     "output_type": "execute_result"
    },
    {
     "data": {
      "image/png": "[encoded data removed]",
      "text/plain": [
       "<matplotlib.figure.Figure at 0x61495aef0>"
      ]
     },
     "metadata": {},
     "output_type": "display_data"
    }
   ],
   "source": [
    "plt.plot(coord_14, fluor_14, marker='.', linestyle='none')"
   ]
  },
  {
   "cell_type": "markdown",
   "metadata": {},
   "source": [
    "It seems like 5 is a reasonable choice for the amplitude. Similarly, the shift corresponds to aproximately 1. The width is roughly 0.25 and the distribution seems centered around 0. "
   ]
  },
  {
   "cell_type": "code",
   "execution_count": 13,
   "metadata": {
    "collapsed": false
   },
   "outputs": [],
   "source": [
    "p0 = np.array([5, 1, 0.25, 0])"
   ]
  },
  {
   "cell_type": "code",
   "execution_count": 14,
   "metadata": {
    "collapsed": true
   },
   "outputs": [],
   "source": [
    "# Extra arguments as a tuple\n",
    "args = (coord_14.values, fluor_14.values)"
   ]
  },
  {
   "cell_type": "code",
   "execution_count": 15,
   "metadata": {
    "collapsed": false
   },
   "outputs": [],
   "source": [
    "# Compute the MAP\n",
    "popt, _ = scipy.optimize.leastsq(resid, p0, args=args)"
   ]
  },
  {
   "cell_type": "code",
   "execution_count": 16,
   "metadata": {
    "collapsed": false
   },
   "outputs": [
    {
     "data": {
      "text/plain": [
       "array([ 4.29691449,  1.24283676,  0.1624985 , -0.01088087])"
      ]
     },
     "execution_count": 16,
     "metadata": {},
     "output_type": "execute_result"
    }
   ],
   "source": [
    "popt"
   ]
  },
  {
   "cell_type": "markdown",
   "metadata": {},
   "source": [
    "The width of the gradient is given by the third element in popt. It's approximately 0.162. Now, let's look at the best fit curve on the same plot with the raw data:"
   ]
  },
  {
   "cell_type": "code",
   "execution_count": 17,
   "metadata": {
    "collapsed": false
   },
   "outputs": [
    {
     "data": {
      "text/plain": [
       "[<matplotlib.lines.Line2D at 0x6149e29e8>]"
      ]
     },
     "execution_count": 17,
     "metadata": {},
     "output_type": "execute_result"
    },
    {
     "data": {
      "image/png": "[encoded data removed]",
      "text/plain": [
       "<matplotlib.figure.Figure at 0x6149e2e48>"
      ]
     },
     "metadata": {},
     "output_type": "display_data"
    }
   ],
   "source": [
    "plt.plot(coord_14, fluor_14, marker='.', linestyle='none')\n",
    "x = np.linspace(-1,1,200)\n",
    "y = find_fluorescence(popt, x)\n",
    "plt.plot(x,y)\n"
   ]
  },
  {
   "cell_type": "code",
   "execution_count": 18,
   "metadata": {
    "collapsed": true
   },
   "outputs": [],
   "source": [
    "hes = smnd.approx_hess(popt, log_post, args=args)"
   ]
  },
  {
   "cell_type": "code",
   "execution_count": 19,
   "metadata": {
    "collapsed": false
   },
   "outputs": [
    {
     "data": {
      "text/plain": [
       "array([[  -133.45183369,   -188.72926329,  -1719.95283128,   -124.37016298],\n",
       "       [  -188.72926329,   -866.70074767,  -5126.64875921,    142.59860578],\n",
       "       [ -1719.95283128,  -5126.64875921, -70164.94769263,   5454.106795  ],\n",
       "       [  -124.37016298,    142.59860578,   5454.106795  , -45480.41290045]])"
      ]
     },
     "execution_count": 19,
     "metadata": {},
     "output_type": "execute_result"
    }
   ],
   "source": [
    "hes"
   ]
  },
  {
   "cell_type": "code",
   "execution_count": 20,
   "metadata": {
    "collapsed": true
   },
   "outputs": [],
   "source": [
    "cov = -np.linalg.inv(hes)"
   ]
  },
  {
   "cell_type": "code",
   "execution_count": 21,
   "metadata": {
    "collapsed": false
   },
   "outputs": [
    {
     "data": {
      "text/plain": [
       "array([[  1.21831562e-02,  -1.52937148e-03,  -1.91650077e-04,\n",
       "         -6.10941541e-05],\n",
       "       [ -1.52937148e-03,   2.23003394e-03,  -1.25753099e-04,\n",
       "         -3.90636123e-06],\n",
       "       [ -1.91650077e-04,  -1.25753099e-04,   2.84132356e-05,\n",
       "          3.53717449e-06],\n",
       "       [ -6.10941541e-05,  -3.90636123e-06,   3.53717449e-06,\n",
       "          2.25664920e-05]])"
      ]
     },
     "execution_count": 21,
     "metadata": {},
     "output_type": "execute_result"
    }
   ],
   "source": [
    "cov"
   ]
  },
  {
   "cell_type": "markdown",
   "metadata": {},
   "source": [
    "Now, we find the error bars by taking the square root of the diagonal terms:"
   ]
  },
  {
   "cell_type": "code",
   "execution_count": 22,
   "metadata": {
    "collapsed": false
   },
   "outputs": [
    {
     "name": "stdout",
     "output_type": "stream",
     "text": [
      "The error for A is 0.110377335557\n",
      "The error for b is 0.047223235139\n",
      "The error for the width is 0.00533040670142\n",
      "The error for the position of the peak is 0.004750420196\n"
     ]
    }
   ],
   "source": [
    "err_a = np.sqrt(cov[0,0])\n",
    "err_b = np.sqrt(cov[1,1])\n",
    "err_width = np.sqrt(cov[2,2])\n",
    "err_position = np.sqrt(cov[3,3])\n",
    "print ('The error for A is', err_a)\n",
    "print ('The error for b is', err_b)\n",
    "print ('The error for the width is', err_width)\n",
    "print ('The error for the position of the peak is', err_position)"
   ]
  },
  {
   "cell_type": "markdown",
   "metadata": {},
   "source": [
    "We're done with the 14$^{th}$ cycle. Now, we repeat our analysis for the other three cycles:"
   ]
  },
  {
   "cell_type": "markdown",
   "metadata": {},
   "source": [
    "13$^{th}$ cycle: First, we plot the raw data:"
   ]
  },
  {
   "cell_type": "code",
   "execution_count": 23,
   "metadata": {
    "collapsed": false
   },
   "outputs": [
    {
     "data": {
      "text/plain": [
       "[<matplotlib.lines.Line2D at 0x614ae9128>]"
      ]
     },
     "execution_count": 23,
     "metadata": {},
     "output_type": "execute_result"
    },
    {
     "data": {
      "image/png": "[encoded data removed]",
      "text/plain": [
       "<matplotlib.figure.Figure at 0x614a53668>"
      ]
     },
     "metadata": {},
     "output_type": "display_data"
    }
   ],
   "source": [
    "plt.plot(coord_13, fluor_13, marker='.', linestyle='none')"
   ]
  },
  {
   "cell_type": "markdown",
   "metadata": {},
   "source": [
    "The data are somewhat different from those of the 14$^{th}$ cycle. The amplitude is approximately 3.5, with a shift of 1.25. The width is roughly 0.20 and the mean is around 0. "
   ]
  },
  {
   "cell_type": "code",
   "execution_count": 24,
   "metadata": {
    "collapsed": false
   },
   "outputs": [
    {
     "data": {
      "text/plain": [
       "array([ 3.24947596,  1.28029515,  0.15785051, -0.00328868])"
      ]
     },
     "execution_count": 24,
     "metadata": {},
     "output_type": "execute_result"
    }
   ],
   "source": [
    "p0 = np.array([3.5, 1.25, 0.20, 0])\n",
    "# Extra arguments as a tuple\n",
    "args = (coord_13.values, fluor_13.values)\n",
    "popt, _ = scipy.optimize.leastsq(resid, p0, args=args)\n",
    "popt"
   ]
  },
  {
   "cell_type": "markdown",
   "metadata": {},
   "source": [
    "As seen from the best fit parameters, the width is approximately 0.158 for the 13$^{th}$ cycle."
   ]
  },
  {
   "cell_type": "code",
   "execution_count": 25,
   "metadata": {
    "collapsed": false
   },
   "outputs": [
    {
     "name": "stdout",
     "output_type": "stream",
     "text": [
      "The error for A is 0.0812301368519\n",
      "The error for b is 0.0382808563036\n",
      "The error for the width is 0.00517848656534\n",
      "The error for the position of the peak is 0.00435326823646\n"
     ]
    }
   ],
   "source": [
    "hes = smnd.approx_hess(popt, log_post, args=args)\n",
    "cov = -np.linalg.inv(hes)\n",
    "err_a = np.sqrt(cov[0,0])\n",
    "err_b = np.sqrt(cov[1,1])\n",
    "err_width = np.sqrt(cov[2,2])\n",
    "err_position = np.sqrt(cov[3,3])\n",
    "print ('The error for A is', err_a)\n",
    "print ('The error for b is', err_b)\n",
    "print ('The error for the width is', err_width)\n",
    "print ('The error for the position of the peak is', err_position)"
   ]
  },
  {
   "cell_type": "markdown",
   "metadata": {},
   "source": [
    "Now, let's plot the theoretical gradient and the measurements together: "
   ]
  },
  {
   "cell_type": "code",
   "execution_count": 26,
   "metadata": {
    "collapsed": false
   },
   "outputs": [
    {
     "data": {
      "text/plain": [
       "[<matplotlib.lines.Line2D at 0x614a1f828>]"
      ]
     },
     "execution_count": 26,
     "metadata": {},
     "output_type": "execute_result"
    },
    {
     "data": {
      "image/png": "[encoded data removed]",
      "text/plain": [
       "<matplotlib.figure.Figure at 0x614abe390>"
      ]
     },
     "metadata": {},
     "output_type": "display_data"
    }
   ],
   "source": [
    "plt.plot(coord_13, fluor_13, marker='.', linestyle='none')\n",
    "x = np.linspace(-1,1,200)\n",
    "y = find_fluorescence(popt, x)\n",
    "plt.plot(x,y)\n",
    "\n"
   ]
  },
  {
   "cell_type": "markdown",
   "metadata": {},
   "source": [
    "The plot shows that our guess for the best fit curve is reasonable. Now, we move on to the 12$^{th}$ cycle. As before, we first plot the data:"
   ]
  },
  {
   "cell_type": "code",
   "execution_count": 27,
   "metadata": {
    "collapsed": false
   },
   "outputs": [
    {
     "data": {
      "text/plain": [
       "[<matplotlib.lines.Line2D at 0x614bbd080>]"
      ]
     },
     "execution_count": 27,
     "metadata": {},
     "output_type": "execute_result"
    },
    {
     "data": {
      "image/png": "[encoded data removed]",
      "text/plain": [
       "<matplotlib.figure.Figure at 0x6143dbf98>"
      ]
     },
     "metadata": {},
     "output_type": "display_data"
    }
   ],
   "source": [
    "plt.plot(coord_12, fluor_12, marker='.', linestyle='none')"
   ]
  },
  {
   "cell_type": "markdown",
   "metadata": {},
   "source": [
    "From the plot, we guess that  $A$, $B$, $w$ and $\\mu$ are 3.5, 1.25, 0.15 and 0, respectively."
   ]
  },
  {
   "cell_type": "code",
   "execution_count": 28,
   "metadata": {
    "collapsed": false
   },
   "outputs": [
    {
     "data": {
      "text/plain": [
       "array([  2.82758023e+00,   1.24713617e+00,   1.51849452e-01,\n",
       "        -3.84065269e-04])"
      ]
     },
     "execution_count": 28,
     "metadata": {},
     "output_type": "execute_result"
    }
   ],
   "source": [
    "p0 = np.array([3.5, 1.25, 0.15, 0])\n",
    "# Extra arguments as a tuple\n",
    "args = (coord_12.values, fluor_12.values)\n",
    "popt, _ = scipy.optimize.leastsq(resid, p0, args=args)\n",
    "popt"
   ]
  },
  {
   "cell_type": "markdown",
   "metadata": {},
   "source": [
    "As seen from the best fit parameters, the width is approximately 0.152 for the 12$^{th}$ cycle. (We're so good at guessing :))"
   ]
  },
  {
   "cell_type": "code",
   "execution_count": 29,
   "metadata": {
    "collapsed": false
   },
   "outputs": [
    {
     "name": "stdout",
     "output_type": "stream",
     "text": [
      "The error for A is 0.196724960092\n",
      "The error for b is 0.0980875835302\n",
      "The error for the width is 0.0146890206163\n",
      "The error for the position of the peak is 0.00946427067665\n"
     ]
    }
   ],
   "source": [
    "hes = smnd.approx_hess(popt, log_post, args=args)\n",
    "cov = -np.linalg.inv(hes)\n",
    "err_a = np.sqrt(cov[0,0])\n",
    "err_b = np.sqrt(cov[1,1])\n",
    "err_width = np.sqrt(cov[2,2])\n",
    "err_position = np.sqrt(cov[3,3])\n",
    "print ('The error for A is', err_a)\n",
    "print ('The error for b is', err_b)\n",
    "print ('The error for the width is', err_width)\n",
    "print ('The error for the position of the peak is', err_position)"
   ]
  },
  {
   "cell_type": "markdown",
   "metadata": {},
   "source": [
    "Now, let's plot the theoretical gradient and the measurements together: "
   ]
  },
  {
   "cell_type": "code",
   "execution_count": 30,
   "metadata": {
    "collapsed": false
   },
   "outputs": [
    {
     "data": {
      "text/plain": [
       "[<matplotlib.lines.Line2D at 0x614bc7160>]"
      ]
     },
     "execution_count": 30,
     "metadata": {},
     "output_type": "execute_result"
    },
    {
     "data": {
      "image/png": "[encoded data removed]",
      "text/plain": [
       "<matplotlib.figure.Figure at 0x614bc7240>"
      ]
     },
     "metadata": {},
     "output_type": "display_data"
    }
   ],
   "source": [
    "plt.plot(coord_12, fluor_12, marker='.', linestyle='none')\n",
    "x = np.linspace(-1,1,200)\n",
    "y = find_fluorescence(popt, x)\n",
    "plt.plot(x,y)\n",
    "\n"
   ]
  },
  {
   "cell_type": "markdown",
   "metadata": {},
   "source": [
    "The plot shows that our guess for the best fit curve is reasonable. Now, we move on to the 11$^{th}$ cycle. As before, we first plot the data:"
   ]
  },
  {
   "cell_type": "code",
   "execution_count": 31,
   "metadata": {
    "collapsed": false
   },
   "outputs": [
    {
     "data": {
      "text/plain": [
       "[<matplotlib.lines.Line2D at 0x614c8fac8>]"
      ]
     },
     "execution_count": 31,
     "metadata": {},
     "output_type": "execute_result"
    },
    {
     "data": {
      "image/png": "[encoded data removed]",
      "text/plain": [
       "<matplotlib.figure.Figure at 0x614bc9978>"
      ]
     },
     "metadata": {},
     "output_type": "display_data"
    }
   ],
   "source": [
    "plt.plot(coord_11, fluor_11, marker='.', linestyle='none')"
   ]
  },
  {
   "cell_type": "markdown",
   "metadata": {},
   "source": [
    "From the plot, we guess that  $A$, $B$, $w$ and $\\mu$ are 1.75, 1.25, 0.20 and 0, respectively."
   ]
  },
  {
   "cell_type": "code",
   "execution_count": 32,
   "metadata": {
    "collapsed": false
   },
   "outputs": [
    {
     "data": {
      "text/plain": [
       "array([ 1.5053858 ,  1.3236968 ,  0.14939181,  0.01089205])"
      ]
     },
     "execution_count": 32,
     "metadata": {},
     "output_type": "execute_result"
    }
   ],
   "source": [
    "p0 = np.array([1.75, 1.25, 0.20, 0])\n",
    "# Extra arguments as a tuple\n",
    "args = (coord_11.values, fluor_11.values)\n",
    "popt, _ = scipy.optimize.leastsq(resid, p0, args=args)\n",
    "popt"
   ]
  },
  {
   "cell_type": "markdown",
   "metadata": {},
   "source": [
    "As seen from the best fit parameters, the width is approximately 0.149 for the 11$^{th}$ cycle. "
   ]
  },
  {
   "cell_type": "code",
   "execution_count": 33,
   "metadata": {
    "collapsed": false
   },
   "outputs": [
    {
     "name": "stdout",
     "output_type": "stream",
     "text": [
      "The error for A is 0.127146142504\n",
      "The error for b is 0.0522753066873\n",
      "The error for the width is 0.018483734657\n",
      "The error for the position of the peak is 0.0111898118167\n"
     ]
    }
   ],
   "source": [
    "hes = smnd.approx_hess(popt, log_post, args=args)\n",
    "cov = -np.linalg.inv(hes)\n",
    "err_a = np.sqrt(cov[0,0])\n",
    "err_b = np.sqrt(cov[1,1])\n",
    "err_width = np.sqrt(cov[2,2])\n",
    "err_position = np.sqrt(cov[3,3])\n",
    "print ('The error for A is', err_a)\n",
    "print ('The error for b is', err_b)\n",
    "print ('The error for the width is', err_width)\n",
    "print ('The error for the position of the peak is', err_position)"
   ]
  },
  {
   "cell_type": "markdown",
   "metadata": {},
   "source": [
    "Now, let's plot the theoretical gradient and the measurements together: "
   ]
  },
  {
   "cell_type": "code",
   "execution_count": 34,
   "metadata": {
    "collapsed": false
   },
   "outputs": [
    {
     "data": {
      "text/plain": [
       "[<matplotlib.lines.Line2D at 0x614c6e160>]"
      ]
     },
     "execution_count": 34,
     "metadata": {},
     "output_type": "execute_result"
    },
    {
     "data": {
      "image/png": "[encoded data removed]",
      "text/plain": [
       "<matplotlib.figure.Figure at 0x614c6e400>"
      ]
     },
     "metadata": {},
     "output_type": "display_data"
    }
   ],
   "source": [
    "plt.plot(coord_11, fluor_11, marker='.', linestyle='none')\n",
    "x = np.linspace(-1,1,200)\n",
    "y = find_fluorescence(popt, x)\n",
    "plt.plot(x,y)"
   ]
  },
  {
   "cell_type": "markdown",
   "metadata": {},
   "source": [
    "The best fit curve shows that our initial guess highly likely converged to the right solution. "
   ]
  },
  {
   "cell_type": "markdown",
   "metadata": {},
   "source": [
    "3.1 (d) "
   ]
  },
  {
   "cell_type": "code",
   "execution_count": 35,
   "metadata": {
    "collapsed": false
   },
   "outputs": [
    {
     "data": {
      "text/html": [
       "<div>\n",
       "<table border=\"1\" class=\"dataframe\">\n",
       "  <thead>\n",
       "    <tr style=\"text-align: right;\">\n",
       "      <th></th>\n",
       "      <th>wt</th>\n",
       "      <th>wt.1</th>\n",
       "      <th>dl1/+; dl-venus/+</th>\n",
       "      <th>dl1/+; dl-venus/+.1</th>\n",
       "      <th>dl1/+; dl-venus/+.2</th>\n",
       "      <th>dl1/+; dl-gfp/+</th>\n",
       "      <th>dl1/+; dl-gfp/+.1</th>\n",
       "      <th>dl1/+; dl-gfp/+.2</th>\n",
       "    </tr>\n",
       "  </thead>\n",
       "  <tbody>\n",
       "    <tr>\n",
       "      <th>0</th>\n",
       "      <td>wholemounts</td>\n",
       "      <td>cross-sections</td>\n",
       "      <td>anti-Dorsal</td>\n",
       "      <td>anti-Venus</td>\n",
       "      <td>Venus (live)</td>\n",
       "      <td>anti-Dorsal</td>\n",
       "      <td>anti-GFP</td>\n",
       "      <td>GFP (live)</td>\n",
       "    </tr>\n",
       "    <tr>\n",
       "      <th>1</th>\n",
       "      <td>0.1288</td>\n",
       "      <td>0.1327</td>\n",
       "      <td>0.1482</td>\n",
       "      <td>0.1632</td>\n",
       "      <td>0.1666</td>\n",
       "      <td>0.2248</td>\n",
       "      <td>0.2389</td>\n",
       "      <td>0.2412</td>\n",
       "    </tr>\n",
       "    <tr>\n",
       "      <th>2</th>\n",
       "      <td>0.1554</td>\n",
       "      <td>0.1457</td>\n",
       "      <td>0.1503</td>\n",
       "      <td>0.1671</td>\n",
       "      <td>0.1753</td>\n",
       "      <td>0.1891</td>\n",
       "      <td>0.2035</td>\n",
       "      <td>0.1942</td>\n",
       "    </tr>\n",
       "    <tr>\n",
       "      <th>3</th>\n",
       "      <td>0.1306</td>\n",
       "      <td>0.1447</td>\n",
       "      <td>0.1577</td>\n",
       "      <td>0.1704</td>\n",
       "      <td>0.1705</td>\n",
       "      <td>0.1705</td>\n",
       "      <td>0.1943</td>\n",
       "      <td>0.2186</td>\n",
       "    </tr>\n",
       "    <tr>\n",
       "      <th>4</th>\n",
       "      <td>0.1413</td>\n",
       "      <td>0.1282</td>\n",
       "      <td>0.1711</td>\n",
       "      <td>0.1779</td>\n",
       "      <td>NaN</td>\n",
       "      <td>0.1735</td>\n",
       "      <td>0.2</td>\n",
       "      <td>0.2104</td>\n",
       "    </tr>\n",
       "  </tbody>\n",
       "</table>\n",
       "</div>"
      ],
      "text/plain": [
       "            wt            wt.1 dl1/+; dl-venus/+ dl1/+; dl-venus/+.1  \\\n",
       "0  wholemounts  cross-sections       anti-Dorsal          anti-Venus   \n",
       "1       0.1288          0.1327            0.1482              0.1632   \n",
       "2       0.1554          0.1457            0.1503              0.1671   \n",
       "3       0.1306          0.1447            0.1577              0.1704   \n",
       "4       0.1413          0.1282            0.1711              0.1779   \n",
       "\n",
       "  dl1/+; dl-venus/+.2 dl1/+; dl-gfp/+ dl1/+; dl-gfp/+.1 dl1/+; dl-gfp/+.2  \n",
       "0        Venus (live)     anti-Dorsal          anti-GFP        GFP (live)  \n",
       "1              0.1666          0.2248            0.2389            0.2412  \n",
       "2              0.1753          0.1891            0.2035            0.1942  \n",
       "3              0.1705          0.1705            0.1943            0.2186  \n",
       "4                 NaN          0.1735               0.2            0.2104  "
      ]
     },
     "execution_count": 35,
     "metadata": {},
     "output_type": "execute_result"
    }
   ],
   "source": [
    "# Load data into DataFrame\n",
    "df = pd.read_csv('../data/reeves_gradient_width_various_methods.csv', comment='#')\n",
    "\n",
    "# Check it out\n",
    "df.head()"
   ]
  },
  {
   "cell_type": "markdown",
   "metadata": {
    "collapsed": true
   },
   "source": [
    "We first need to tidy the data. "
   ]
  },
  {
   "cell_type": "code",
   "execution_count": 36,
   "metadata": {
    "collapsed": false
   },
   "outputs": [],
   "source": [
    "molten = pd.melt(df, var_name='genotype', value_name='gradient width')\n"
   ]
  },
  {
   "cell_type": "code",
   "execution_count": 37,
   "metadata": {
    "collapsed": false
   },
   "outputs": [],
   "source": [
    "molten = molten.dropna()\n"
   ]
  },
  {
   "cell_type": "code",
   "execution_count": 38,
   "metadata": {
    "collapsed": true
   },
   "outputs": [],
   "source": [
    "col1 = molten['genotype'].values\n",
    "col2 = molten['gradient width'].values"
   ]
  },
  {
   "cell_type": "code",
   "execution_count": 39,
   "metadata": {
    "collapsed": false
   },
   "outputs": [],
   "source": [
    "col3 = []\n",
    "index = 0\n",
    "for i in range(len(col2)):\n",
    "    if col2[index] == 'wholemounts':\n",
    "        mystr = col2[index]\n",
    "    elif col2[index] == 'cross-sections':\n",
    "        mystr = col2[index]\n",
    "    elif col2[index] == 'anti-Dorsal':\n",
    "        mystr = col2[index]\n",
    "    elif col2[index] == 'anti-Venus':\n",
    "        mystr = col2[index]    \n",
    "    elif col2[index] == 'Venus (live)':\n",
    "        mystr = col2[index]\n",
    "    elif col2[index] == 'anti-Dorsal':\n",
    "        mystr = col2[index]\n",
    "    elif col2[index] == 'anti-GFP':\n",
    "        mystr = col2[index]\n",
    "    elif col2[index] == 'GFP (live)':\n",
    "        mystr = col2[index]\n",
    "    col3.append(mystr)\n",
    "    index += 1"
   ]
  },
  {
   "cell_type": "code",
   "execution_count": 40,
   "metadata": {
    "collapsed": false
   },
   "outputs": [],
   "source": [
    "molten['staining method'] = col3"
   ]
  },
  {
   "cell_type": "code",
   "execution_count": 41,
   "metadata": {
    "collapsed": false
   },
   "outputs": [
    {
     "data": {
      "text/html": [
       "<div>\n",
       "<table border=\"1\" class=\"dataframe\">\n",
       "  <thead>\n",
       "    <tr style=\"text-align: right;\">\n",
       "      <th></th>\n",
       "      <th>genotype</th>\n",
       "      <th>gradient width</th>\n",
       "      <th>staining method</th>\n",
       "    </tr>\n",
       "  </thead>\n",
       "  <tbody>\n",
       "    <tr>\n",
       "      <th>0</th>\n",
       "      <td>wt</td>\n",
       "      <td>wholemounts</td>\n",
       "      <td>wholemounts</td>\n",
       "    </tr>\n",
       "    <tr>\n",
       "      <th>1</th>\n",
       "      <td>wt</td>\n",
       "      <td>0.1288</td>\n",
       "      <td>wholemounts</td>\n",
       "    </tr>\n",
       "    <tr>\n",
       "      <th>2</th>\n",
       "      <td>wt</td>\n",
       "      <td>0.1554</td>\n",
       "      <td>wholemounts</td>\n",
       "    </tr>\n",
       "    <tr>\n",
       "      <th>3</th>\n",
       "      <td>wt</td>\n",
       "      <td>0.1306</td>\n",
       "      <td>wholemounts</td>\n",
       "    </tr>\n",
       "    <tr>\n",
       "      <th>4</th>\n",
       "      <td>wt</td>\n",
       "      <td>0.1413</td>\n",
       "      <td>wholemounts</td>\n",
       "    </tr>\n",
       "  </tbody>\n",
       "</table>\n",
       "</div>"
      ],
      "text/plain": [
       "  genotype gradient width staining method\n",
       "0       wt    wholemounts     wholemounts\n",
       "1       wt         0.1288     wholemounts\n",
       "2       wt         0.1554     wholemounts\n",
       "3       wt         0.1306     wholemounts\n",
       "4       wt         0.1413     wholemounts"
      ]
     },
     "execution_count": 41,
     "metadata": {},
     "output_type": "execute_result"
    }
   ],
   "source": [
    "molten.head()"
   ]
  },
  {
   "cell_type": "code",
   "execution_count": 42,
   "metadata": {
    "collapsed": true
   },
   "outputs": [],
   "source": [
    "molten = molten[molten['gradient width'] != 'wholemounts']\n",
    "molten = molten[molten['gradient width'] != 'cross-sections']\n",
    "molten = molten[molten['gradient width'] != 'anti-Dorsal']\n",
    "molten = molten[molten['gradient width'] != 'anti-Venus']\n",
    "molten = molten[molten['gradient width'] != 'Venus (live)']\n",
    "molten = molten[molten['gradient width'] != 'anti-GFP']\n",
    "molten = molten[molten['gradient width'] != 'GFP (live)']\n"
   ]
  },
  {
   "cell_type": "code",
   "execution_count": 43,
   "metadata": {
    "collapsed": false
   },
   "outputs": [
    {
     "data": {
      "text/html": [
       "<div>\n",
       "<table border=\"1\" class=\"dataframe\">\n",
       "  <thead>\n",
       "    <tr style=\"text-align: right;\">\n",
       "      <th></th>\n",
       "      <th>genotype</th>\n",
       "      <th>gradient width</th>\n",
       "      <th>staining method</th>\n",
       "    </tr>\n",
       "  </thead>\n",
       "  <tbody>\n",
       "    <tr>\n",
       "      <th>1</th>\n",
       "      <td>wt</td>\n",
       "      <td>0.1288</td>\n",
       "      <td>wholemounts</td>\n",
       "    </tr>\n",
       "    <tr>\n",
       "      <th>2</th>\n",
       "      <td>wt</td>\n",
       "      <td>0.1554</td>\n",
       "      <td>wholemounts</td>\n",
       "    </tr>\n",
       "    <tr>\n",
       "      <th>3</th>\n",
       "      <td>wt</td>\n",
       "      <td>0.1306</td>\n",
       "      <td>wholemounts</td>\n",
       "    </tr>\n",
       "    <tr>\n",
       "      <th>4</th>\n",
       "      <td>wt</td>\n",
       "      <td>0.1413</td>\n",
       "      <td>wholemounts</td>\n",
       "    </tr>\n",
       "    <tr>\n",
       "      <th>5</th>\n",
       "      <td>wt</td>\n",
       "      <td>0.1557</td>\n",
       "      <td>wholemounts</td>\n",
       "    </tr>\n",
       "  </tbody>\n",
       "</table>\n",
       "</div>"
      ],
      "text/plain": [
       "  genotype gradient width staining method\n",
       "1       wt         0.1288     wholemounts\n",
       "2       wt         0.1554     wholemounts\n",
       "3       wt         0.1306     wholemounts\n",
       "4       wt         0.1413     wholemounts\n",
       "5       wt         0.1557     wholemounts"
      ]
     },
     "execution_count": 43,
     "metadata": {},
     "output_type": "execute_result"
    }
   ],
   "source": [
    "molten.head()"
   ]
  },
  {
   "cell_type": "code",
   "execution_count": 44,
   "metadata": {
    "collapsed": true
   },
   "outputs": [],
   "source": [
    "col1 = molten['genotype'].values\n",
    "index = 0\n",
    "for i in range(len(col1)):\n",
    "    if col1[index] == 'wt.1':\n",
    "        col1[index] = 'wt'\n",
    "    elif col1[index] == 'dl1/+; dl-venus/+.1':\n",
    "        col1[index] = 'dl1/+; dl-venus/+'\n",
    "    elif col1[index] == 'dl1/+; dl-venus/+.2':\n",
    "        col1[index] = 'dl1/+; dl-venus/+'\n",
    "    elif col1[index] == 'dl1/+; dl-gfp/+.1':\n",
    "        col1[index] = 'dl1/+; dl-gfp/+'\n",
    "    elif col1[index] == 'dl1/+; dl-gfp/+.2':\n",
    "        col1[index] = 'dl1/+; dl-gfp/+'\n",
    "    index += 1"
   ]
  },
  {
   "cell_type": "code",
   "execution_count": 45,
   "metadata": {
    "collapsed": true
   },
   "outputs": [],
   "source": [
    "molten['genotype'] = col1"
   ]
  },
  {
   "cell_type": "code",
   "execution_count": 46,
   "metadata": {
    "collapsed": false
   },
   "outputs": [],
   "source": [
    "molten\n",
    "moltenbackup = molten"
   ]
  },
  {
   "cell_type": "code",
   "execution_count": 47,
   "metadata": {
    "collapsed": false
   },
   "outputs": [],
   "source": [
    "col1 = molten['genotype'].values\n",
    "col2 = molten['gradient width'].values\n",
    "index = 0\n",
    "for i in range(len(col1)):\n",
    "    if col1[index] == 'wt':\n",
    "        col1[index] = 1.0\n",
    "    elif col1[index] == 'dl1/+; dl-venus/+':\n",
    "        col1[index] = 2.0\n",
    "    elif col1[index] == 'dl1/+; dl-gfp/+':\n",
    "        col1[index] = 3.0\n",
    "    index += 1\n",
    "index = 0\n",
    "for i in range(len(col2)):\n",
    "    col2[index] = float(col2[index])\n",
    "    col1[index] = float(col1[index])\n",
    "    index += 1\n",
    "molten['genotype'] = np.reshape(col1, len(col1))\n",
    "molten['gradient width'] = np.reshape(col2, len(col2))\n",
    "molten['staining method'] = np.reshape(molten['staining method'], len(molten['staining method']))\n",
    "molten['genotype'] = pd.Series(molten['genotype'])\n",
    "molten['gradient width'] = pd.Series(molten['gradient width']).tolist()\n",
    "molten['staining method'] = pd.Series(molten['staining method']).tolist()"
   ]
  },
  {
   "cell_type": "code",
   "execution_count": 48,
   "metadata": {
    "collapsed": false,
    "scrolled": true
   },
   "outputs": [
    {
     "data": {
      "text/html": [
       "<div>\n",
       "<table border=\"1\" class=\"dataframe\">\n",
       "  <thead>\n",
       "    <tr style=\"text-align: right;\">\n",
       "      <th></th>\n",
       "      <th>Genotype</th>\n",
       "      <th>Gradient Width</th>\n",
       "      <th>Staining Method</th>\n",
       "    </tr>\n",
       "  </thead>\n",
       "  <tbody>\n",
       "    <tr>\n",
       "      <th>0</th>\n",
       "      <td>1</td>\n",
       "      <td>0.1288</td>\n",
       "      <td>wholemounts</td>\n",
       "    </tr>\n",
       "    <tr>\n",
       "      <th>1</th>\n",
       "      <td>1</td>\n",
       "      <td>0.1554</td>\n",
       "      <td>wholemounts</td>\n",
       "    </tr>\n",
       "    <tr>\n",
       "      <th>2</th>\n",
       "      <td>1</td>\n",
       "      <td>0.1306</td>\n",
       "      <td>wholemounts</td>\n",
       "    </tr>\n",
       "    <tr>\n",
       "      <th>3</th>\n",
       "      <td>1</td>\n",
       "      <td>0.1413</td>\n",
       "      <td>wholemounts</td>\n",
       "    </tr>\n",
       "    <tr>\n",
       "      <th>4</th>\n",
       "      <td>1</td>\n",
       "      <td>0.1557</td>\n",
       "      <td>wholemounts</td>\n",
       "    </tr>\n",
       "    <tr>\n",
       "      <th>5</th>\n",
       "      <td>1</td>\n",
       "      <td>0.1689</td>\n",
       "      <td>wholemounts</td>\n",
       "    </tr>\n",
       "    <tr>\n",
       "      <th>6</th>\n",
       "      <td>1</td>\n",
       "      <td>0.1417</td>\n",
       "      <td>wholemounts</td>\n",
       "    </tr>\n",
       "    <tr>\n",
       "      <th>7</th>\n",
       "      <td>1</td>\n",
       "      <td>0.1315</td>\n",
       "      <td>wholemounts</td>\n",
       "    </tr>\n",
       "    <tr>\n",
       "      <th>8</th>\n",
       "      <td>1</td>\n",
       "      <td>0.1664</td>\n",
       "      <td>wholemounts</td>\n",
       "    </tr>\n",
       "    <tr>\n",
       "      <th>9</th>\n",
       "      <td>1</td>\n",
       "      <td>0.1560</td>\n",
       "      <td>wholemounts</td>\n",
       "    </tr>\n",
       "    <tr>\n",
       "      <th>10</th>\n",
       "      <td>1</td>\n",
       "      <td>0.1479</td>\n",
       "      <td>wholemounts</td>\n",
       "    </tr>\n",
       "    <tr>\n",
       "      <th>11</th>\n",
       "      <td>1</td>\n",
       "      <td>0.1475</td>\n",
       "      <td>wholemounts</td>\n",
       "    </tr>\n",
       "    <tr>\n",
       "      <th>12</th>\n",
       "      <td>1</td>\n",
       "      <td>0.1347</td>\n",
       "      <td>wholemounts</td>\n",
       "    </tr>\n",
       "    <tr>\n",
       "      <th>13</th>\n",
       "      <td>1</td>\n",
       "      <td>0.1129</td>\n",
       "      <td>wholemounts</td>\n",
       "    </tr>\n",
       "    <tr>\n",
       "      <th>14</th>\n",
       "      <td>1</td>\n",
       "      <td>0.1250</td>\n",
       "      <td>wholemounts</td>\n",
       "    </tr>\n",
       "    <tr>\n",
       "      <th>15</th>\n",
       "      <td>1</td>\n",
       "      <td>0.1648</td>\n",
       "      <td>wholemounts</td>\n",
       "    </tr>\n",
       "    <tr>\n",
       "      <th>16</th>\n",
       "      <td>1</td>\n",
       "      <td>0.1555</td>\n",
       "      <td>wholemounts</td>\n",
       "    </tr>\n",
       "    <tr>\n",
       "      <th>17</th>\n",
       "      <td>1</td>\n",
       "      <td>0.1403</td>\n",
       "      <td>wholemounts</td>\n",
       "    </tr>\n",
       "    <tr>\n",
       "      <th>18</th>\n",
       "      <td>1</td>\n",
       "      <td>0.1096</td>\n",
       "      <td>wholemounts</td>\n",
       "    </tr>\n",
       "    <tr>\n",
       "      <th>19</th>\n",
       "      <td>1</td>\n",
       "      <td>0.1779</td>\n",
       "      <td>wholemounts</td>\n",
       "    </tr>\n",
       "    <tr>\n",
       "      <th>20</th>\n",
       "      <td>1</td>\n",
       "      <td>0.1244</td>\n",
       "      <td>wholemounts</td>\n",
       "    </tr>\n",
       "    <tr>\n",
       "      <th>21</th>\n",
       "      <td>1</td>\n",
       "      <td>0.1708</td>\n",
       "      <td>wholemounts</td>\n",
       "    </tr>\n",
       "    <tr>\n",
       "      <th>22</th>\n",
       "      <td>1</td>\n",
       "      <td>0.1691</td>\n",
       "      <td>wholemounts</td>\n",
       "    </tr>\n",
       "    <tr>\n",
       "      <th>23</th>\n",
       "      <td>1</td>\n",
       "      <td>0.1300</td>\n",
       "      <td>wholemounts</td>\n",
       "    </tr>\n",
       "    <tr>\n",
       "      <th>24</th>\n",
       "      <td>1</td>\n",
       "      <td>0.1327</td>\n",
       "      <td>cross-sections</td>\n",
       "    </tr>\n",
       "    <tr>\n",
       "      <th>25</th>\n",
       "      <td>1</td>\n",
       "      <td>0.1457</td>\n",
       "      <td>cross-sections</td>\n",
       "    </tr>\n",
       "    <tr>\n",
       "      <th>26</th>\n",
       "      <td>1</td>\n",
       "      <td>0.1447</td>\n",
       "      <td>cross-sections</td>\n",
       "    </tr>\n",
       "    <tr>\n",
       "      <th>27</th>\n",
       "      <td>1</td>\n",
       "      <td>0.1282</td>\n",
       "      <td>cross-sections</td>\n",
       "    </tr>\n",
       "    <tr>\n",
       "      <th>28</th>\n",
       "      <td>1</td>\n",
       "      <td>0.1487</td>\n",
       "      <td>cross-sections</td>\n",
       "    </tr>\n",
       "    <tr>\n",
       "      <th>29</th>\n",
       "      <td>1</td>\n",
       "      <td>0.1203</td>\n",
       "      <td>cross-sections</td>\n",
       "    </tr>\n",
       "    <tr>\n",
       "      <th>...</th>\n",
       "      <td>...</td>\n",
       "      <td>...</td>\n",
       "      <td>...</td>\n",
       "    </tr>\n",
       "    <tr>\n",
       "      <th>253</th>\n",
       "      <td>3</td>\n",
       "      <td>0.1640</td>\n",
       "      <td>anti-Dorsal</td>\n",
       "    </tr>\n",
       "    <tr>\n",
       "      <th>254</th>\n",
       "      <td>3</td>\n",
       "      <td>0.1756</td>\n",
       "      <td>anti-Dorsal</td>\n",
       "    </tr>\n",
       "    <tr>\n",
       "      <th>255</th>\n",
       "      <td>3</td>\n",
       "      <td>0.1977</td>\n",
       "      <td>anti-Dorsal</td>\n",
       "    </tr>\n",
       "    <tr>\n",
       "      <th>256</th>\n",
       "      <td>3</td>\n",
       "      <td>0.1809</td>\n",
       "      <td>anti-Dorsal</td>\n",
       "    </tr>\n",
       "    <tr>\n",
       "      <th>257</th>\n",
       "      <td>3</td>\n",
       "      <td>0.2389</td>\n",
       "      <td>anti-GFP</td>\n",
       "    </tr>\n",
       "    <tr>\n",
       "      <th>258</th>\n",
       "      <td>3</td>\n",
       "      <td>0.2035</td>\n",
       "      <td>anti-GFP</td>\n",
       "    </tr>\n",
       "    <tr>\n",
       "      <th>259</th>\n",
       "      <td>3</td>\n",
       "      <td>0.1943</td>\n",
       "      <td>anti-GFP</td>\n",
       "    </tr>\n",
       "    <tr>\n",
       "      <th>260</th>\n",
       "      <td>3</td>\n",
       "      <td>0.2000</td>\n",
       "      <td>anti-GFP</td>\n",
       "    </tr>\n",
       "    <tr>\n",
       "      <th>261</th>\n",
       "      <td>3</td>\n",
       "      <td>0.2560</td>\n",
       "      <td>anti-GFP</td>\n",
       "    </tr>\n",
       "    <tr>\n",
       "      <th>262</th>\n",
       "      <td>3</td>\n",
       "      <td>0.2309</td>\n",
       "      <td>anti-GFP</td>\n",
       "    </tr>\n",
       "    <tr>\n",
       "      <th>263</th>\n",
       "      <td>3</td>\n",
       "      <td>0.1949</td>\n",
       "      <td>anti-GFP</td>\n",
       "    </tr>\n",
       "    <tr>\n",
       "      <th>264</th>\n",
       "      <td>3</td>\n",
       "      <td>0.2216</td>\n",
       "      <td>anti-GFP</td>\n",
       "    </tr>\n",
       "    <tr>\n",
       "      <th>265</th>\n",
       "      <td>3</td>\n",
       "      <td>0.2300</td>\n",
       "      <td>anti-GFP</td>\n",
       "    </tr>\n",
       "    <tr>\n",
       "      <th>266</th>\n",
       "      <td>3</td>\n",
       "      <td>0.2682</td>\n",
       "      <td>anti-GFP</td>\n",
       "    </tr>\n",
       "    <tr>\n",
       "      <th>267</th>\n",
       "      <td>3</td>\n",
       "      <td>0.2633</td>\n",
       "      <td>anti-GFP</td>\n",
       "    </tr>\n",
       "    <tr>\n",
       "      <th>268</th>\n",
       "      <td>3</td>\n",
       "      <td>0.2495</td>\n",
       "      <td>anti-GFP</td>\n",
       "    </tr>\n",
       "    <tr>\n",
       "      <th>269</th>\n",
       "      <td>3</td>\n",
       "      <td>0.2353</td>\n",
       "      <td>anti-GFP</td>\n",
       "    </tr>\n",
       "    <tr>\n",
       "      <th>270</th>\n",
       "      <td>3</td>\n",
       "      <td>0.2642</td>\n",
       "      <td>anti-GFP</td>\n",
       "    </tr>\n",
       "    <tr>\n",
       "      <th>271</th>\n",
       "      <td>3</td>\n",
       "      <td>0.2238</td>\n",
       "      <td>anti-GFP</td>\n",
       "    </tr>\n",
       "    <tr>\n",
       "      <th>272</th>\n",
       "      <td>3</td>\n",
       "      <td>0.2115</td>\n",
       "      <td>anti-GFP</td>\n",
       "    </tr>\n",
       "    <tr>\n",
       "      <th>273</th>\n",
       "      <td>3</td>\n",
       "      <td>0.1934</td>\n",
       "      <td>anti-GFP</td>\n",
       "    </tr>\n",
       "    <tr>\n",
       "      <th>274</th>\n",
       "      <td>3</td>\n",
       "      <td>0.2041</td>\n",
       "      <td>anti-GFP</td>\n",
       "    </tr>\n",
       "    <tr>\n",
       "      <th>275</th>\n",
       "      <td>3</td>\n",
       "      <td>0.2286</td>\n",
       "      <td>anti-GFP</td>\n",
       "    </tr>\n",
       "    <tr>\n",
       "      <th>276</th>\n",
       "      <td>3</td>\n",
       "      <td>0.2104</td>\n",
       "      <td>anti-GFP</td>\n",
       "    </tr>\n",
       "    <tr>\n",
       "      <th>277</th>\n",
       "      <td>3</td>\n",
       "      <td>0.2412</td>\n",
       "      <td>GFP (live)</td>\n",
       "    </tr>\n",
       "    <tr>\n",
       "      <th>278</th>\n",
       "      <td>3</td>\n",
       "      <td>0.1942</td>\n",
       "      <td>GFP (live)</td>\n",
       "    </tr>\n",
       "    <tr>\n",
       "      <th>279</th>\n",
       "      <td>3</td>\n",
       "      <td>0.2186</td>\n",
       "      <td>GFP (live)</td>\n",
       "    </tr>\n",
       "    <tr>\n",
       "      <th>280</th>\n",
       "      <td>3</td>\n",
       "      <td>0.2104</td>\n",
       "      <td>GFP (live)</td>\n",
       "    </tr>\n",
       "    <tr>\n",
       "      <th>281</th>\n",
       "      <td>3</td>\n",
       "      <td>0.2463</td>\n",
       "      <td>GFP (live)</td>\n",
       "    </tr>\n",
       "    <tr>\n",
       "      <th>282</th>\n",
       "      <td>3</td>\n",
       "      <td>0.2020</td>\n",
       "      <td>GFP (live)</td>\n",
       "    </tr>\n",
       "  </tbody>\n",
       "</table>\n",
       "<p>283 rows × 3 columns</p>\n",
       "</div>"
      ],
      "text/plain": [
       "    Genotype  Gradient Width Staining Method\n",
       "0          1          0.1288     wholemounts\n",
       "1          1          0.1554     wholemounts\n",
       "2          1          0.1306     wholemounts\n",
       "3          1          0.1413     wholemounts\n",
       "4          1          0.1557     wholemounts\n",
       "5          1          0.1689     wholemounts\n",
       "6          1          0.1417     wholemounts\n",
       "7          1          0.1315     wholemounts\n",
       "8          1          0.1664     wholemounts\n",
       "9          1          0.1560     wholemounts\n",
       "10         1          0.1479     wholemounts\n",
       "11         1          0.1475     wholemounts\n",
       "12         1          0.1347     wholemounts\n",
       "13         1          0.1129     wholemounts\n",
       "14         1          0.1250     wholemounts\n",
       "15         1          0.1648     wholemounts\n",
       "16         1          0.1555     wholemounts\n",
       "17         1          0.1403     wholemounts\n",
       "18         1          0.1096     wholemounts\n",
       "19         1          0.1779     wholemounts\n",
       "20         1          0.1244     wholemounts\n",
       "21         1          0.1708     wholemounts\n",
       "22         1          0.1691     wholemounts\n",
       "23         1          0.1300     wholemounts\n",
       "24         1          0.1327  cross-sections\n",
       "25         1          0.1457  cross-sections\n",
       "26         1          0.1447  cross-sections\n",
       "27         1          0.1282  cross-sections\n",
       "28         1          0.1487  cross-sections\n",
       "29         1          0.1203  cross-sections\n",
       "..       ...             ...             ...\n",
       "253        3          0.1640     anti-Dorsal\n",
       "254        3          0.1756     anti-Dorsal\n",
       "255        3          0.1977     anti-Dorsal\n",
       "256        3          0.1809     anti-Dorsal\n",
       "257        3          0.2389        anti-GFP\n",
       "258        3          0.2035        anti-GFP\n",
       "259        3          0.1943        anti-GFP\n",
       "260        3          0.2000        anti-GFP\n",
       "261        3          0.2560        anti-GFP\n",
       "262        3          0.2309        anti-GFP\n",
       "263        3          0.1949        anti-GFP\n",
       "264        3          0.2216        anti-GFP\n",
       "265        3          0.2300        anti-GFP\n",
       "266        3          0.2682        anti-GFP\n",
       "267        3          0.2633        anti-GFP\n",
       "268        3          0.2495        anti-GFP\n",
       "269        3          0.2353        anti-GFP\n",
       "270        3          0.2642        anti-GFP\n",
       "271        3          0.2238        anti-GFP\n",
       "272        3          0.2115        anti-GFP\n",
       "273        3          0.1934        anti-GFP\n",
       "274        3          0.2041        anti-GFP\n",
       "275        3          0.2286        anti-GFP\n",
       "276        3          0.2104        anti-GFP\n",
       "277        3          0.2412      GFP (live)\n",
       "278        3          0.1942      GFP (live)\n",
       "279        3          0.2186      GFP (live)\n",
       "280        3          0.2104      GFP (live)\n",
       "281        3          0.2463      GFP (live)\n",
       "282        3          0.2020      GFP (live)\n",
       "\n",
       "[283 rows x 3 columns]"
      ]
     },
     "execution_count": 48,
     "metadata": {},
     "output_type": "execute_result"
    }
   ],
   "source": [
    "newMolten = molten.reset_index(drop = True)\n",
    "newMolten.columns = ['Genotype', 'Gradient Width', 'Staining Method']\n",
    "newMolten.dropna()"
   ]
  },
  {
   "cell_type": "markdown",
   "metadata": {},
   "source": [
    "Now, we're ready to plot it. We will use a swarmplot because it makes it easier to compare the gradient widths of each genotype and each staining method. Also, note that the values 1, 2 and 3 on the x-axis correspond to the wild type, dl1/+; dl-venus/+ and dl1/+; dl-gfp/+, respectively. "
   ]
  },
  {
   "cell_type": "code",
   "execution_count": 49,
   "metadata": {
    "collapsed": false
   },
   "outputs": [
    {
     "data": {
      "text/plain": [
       "<matplotlib.legend.Legend at 0x614d1b4e0>"
      ]
     },
     "execution_count": 49,
     "metadata": {},
     "output_type": "execute_result"
    },
    {
     "data": {
      "image/png": "[encoded data removed]",
      "text/plain": [
       "<matplotlib.figure.Figure at 0x614d1bb38>"
      ]
     },
     "metadata": {},
     "output_type": "display_data"
    }
   ],
   "source": [
    "plt = sns.swarmplot(x=\"Genotype\", y='Gradient Width', hue='Staining Method', data= newMolten, split = True)\n",
    "plt.legend(bbox_to_anchor=(1.05, 1), loc=2, borderaxespad=0.)"
   ]
  },
  {
   "cell_type": "markdown",
   "metadata": {
    "collapsed": true
   },
   "source": [
    "In 3.3, we derive a formula for the combined error of n independent experiments. Using the formula, we can find the combined variances of both the Venus fusion and the wild type cross-section. Typically the lower combined variance is more preferable, as it gives a more exact measure of the Dorsal gradient. Hence, we will pick the lower of the two:"
   ]
  },
  {
   "cell_type": "markdown",
   "metadata": {},
   "source": [
    "First, we find combined variance corresponding to the wild type cross-sections:"
   ]
  },
  {
   "cell_type": "code",
   "execution_count": 64,
   "metadata": {
    "collapsed": false
   },
   "outputs": [],
   "source": [
    "cross = newMolten[newMolten['Staining Method'] == 'cross-sections']['Gradient Width'].values"
   ]
  },
  {
   "cell_type": "code",
   "execution_count": 66,
   "metadata": {
    "collapsed": false
   },
   "outputs": [
    {
     "name": "stderr",
     "output_type": "stream",
     "text": [
      "D:\\Anacondabi103\\lib\\site-packages\\ipykernel\\__main__.py:3: VisibleDeprecationWarning: using a non-integer number instead of an integer will result in an error in the future\n",
      "  app.launch_new_instance()\n"
     ]
    }
   ],
   "source": [
    "my_sum = 0\n",
    "for i in cross:\n",
    "    my_sum += 1/cross[i]**2\n",
    "varian = my_sum**-1"
   ]
  },
  {
   "cell_type": "code",
   "execution_count": 72,
   "metadata": {
    "collapsed": false
   },
   "outputs": [
    {
     "name": "stdout",
     "output_type": "stream",
     "text": [
      "The combined variance of wild type cross-sections is 0.000182602368421\n"
     ]
    }
   ],
   "source": [
    "print ('The combined variance of wild type cross-sections is', varian)"
   ]
  },
  {
   "cell_type": "markdown",
   "metadata": {},
   "source": [
    "Next, we find the combined variance for the Venus fusion:"
   ]
  },
  {
   "cell_type": "code",
   "execution_count": 82,
   "metadata": {
    "collapsed": false
   },
   "outputs": [],
   "source": [
    "venus = newMolten[newMolten['Staining Method'] == 'Venus (live)']['Gradient Width'].values\n",
    "venus = list(venus)\n",
    "venus.extend(list(newMolten[newMolten['Staining Method'] == 'anti-Dorsal']['Gradient Width'].values))\n",
    "venus.extend(list(newMolten[newMolten['Staining Method'] == 'anti-Venus']['Gradient Width'].values))"
   ]
  },
  {
   "cell_type": "code",
   "execution_count": 83,
   "metadata": {
    "collapsed": false
   },
   "outputs": [],
   "source": [
    "my_sum = 0\n",
    "for i in range(len(venus)):\n",
    "    my_sum += 1/venus[i]**2\n",
    "varian = my_sum**-1"
   ]
  },
  {
   "cell_type": "code",
   "execution_count": 85,
   "metadata": {
    "collapsed": false
   },
   "outputs": [
    {
     "name": "stdout",
     "output_type": "stream",
     "text": [
      "The combined variance for the Venus fusion is 0.000363546741088\n"
     ]
    }
   ],
   "source": [
    "print ('The combined variance for the Venus fusion is', varian) "
   ]
  },
  {
   "cell_type": "markdown",
   "metadata": {},
   "source": [
    "Notice that compared to the wild type gold standard, Venus fusion has a higher variance. This suggests that Venus fusion is less preferable to the wild type cross section gold standard since it has a higher measurement uncertainty. While using the Venus fusion can be considered \"reasonable\", depending on how we define reasonable, it is an inferior choice to the gold standard wild type. "
   ]
  }
 ],
 "metadata": {
  "anaconda-cloud": {},
  "kernelspec": {
   "display_name": "Python [Root]",
   "language": "python",
   "name": "Python [Root]"
  },
  "language_info": {
   "codemirror_mode": {
    "name": "ipython",
    "version": 3
   },
   "file_extension": ".py",
   "mimetype": "text/x-python",
   "name": "python",
   "nbconvert_exporter": "python",
   "pygments_lexer": "ipython3",
   "version": "3.5.2"
  }
 },
 "nbformat": 4,
 "nbformat_minor": 0
}
