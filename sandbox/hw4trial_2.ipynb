{
 "cells": [
  {
   "cell_type": "code",
   "execution_count": 28,
   "metadata": {
    "collapsed": false
   },
   "outputs": [],
   "source": [
    "import collections\n",
    "import itertools\n",
    "import pandas as pd\n",
    "import scipy.stats as st\n",
    "import statsmodels.tools.numdiff as smnd\n",
    "import numpy as np\n",
    "import numba\n",
    "import random\n",
    "import math\n",
    "from copy import copy, deepcopy\n",
    "import corner\n",
    "\n",
    "random.seed()\n",
    "\n",
    "def mh_step(x, log_post, log_post_current, sigma, args=()):\n",
    "    \"\"\"\n",
    "    Parameters\n",
    "    ----------\n",
    "    x : ndarray, shape (n_variables,)\n",
    "        The present location of the walker in parameter space.\n",
    "    log_post : function\n",
    "        The function to compute the log posterior. It has call\n",
    "        signature `log_post(x, *args)`.\n",
    "    log_post_current : float\n",
    "        The current value of the log posterior.\n",
    "    sigma : ndarray, shape (n_variables, )\n",
    "        The standard deviations for the proposal distribution.\n",
    "    args : tuple\n",
    "        Additional arguments passed to `log_post()` function.\n",
    "\n",
    "    Returns\n",
    "    -------\n",
    "    x_out : ndarray, shape (n_variables,)\n",
    "        The position of the walker after the Metropolis-Hastings\n",
    "        step. If no step is taken, returns the inputted `x`.\n",
    "    log_post_updated : float\n",
    "        The log posterior after the step.\n",
    "    accepted : bool\n",
    "        True is the proposal step was taken, False otherwise.\n",
    "    \"\"\"\n",
    "    nextPoint = []\n",
    "    s = np.random.normal(x[0], sigma)\n",
    "    s1 = np.random.normal(x[1], sigma)\n",
    "    #print (s,s1)\n",
    "    firstPoint = s\n",
    "    secondPoint = s1\n",
    "    nextPoint.append(firstPoint)\n",
    "    nextPoint.append(secondPoint)\n",
    "\n",
    "    logmetropolisRatio = log_post(nextPoint, *args) / log_post_current\n",
    "    #print (log_post_current)\n",
    "    #print (metropolisRatio)\n",
    "    n = random.uniform(0,1)\n",
    "    if (logmetropolisRatio >= 0 or np.exp(logmetropolisRatio) <= n):\n",
    "        return nextPoint, log_post(np.array(nextPoint), *args), True\n",
    "    else:\n",
    "        return x, log_post_current, False\n",
    "    \n",
    "def mh_sample(log_post, x0, sigma, args=(), n_burn=100000, n_steps=500000,\n",
    "              variable_names=None):\n",
    "    \"\"\"\n",
    "    Parameters\n",
    "    ----------\n",
    "    log_post : function\n",
    "        The function to compute the log posterior. It has call\n",
    "        signature `log_post(x, *args)`.\n",
    "    x0 : ndarray, shape (n_variables,)\n",
    "        The starting location of a walker in parameter space.\n",
    "    sigma : ndarray, shape (n_variables, )\n",
    "        The standard deviations for the proposal distribution.\n",
    "    args : tuple\n",
    "        Additional arguments passed to `log_post()` function.\n",
    "    n_burn : int, default 1000\n",
    "        Number of burn-in steps.\n",
    "    n_steps : int, default 1000\n",
    "        Number of steps to take after burn-in.\n",
    "    variable_names : list, length n_variables\n",
    "        List of names of variables. If None, then variable names\n",
    "        are sequential integers.\n",
    "    \n",
    "    Returns\n",
    "    -------\n",
    "    output : DataFrame\n",
    "        The first `n_variables` columns contain the samples.\n",
    "        Additionally, column 'lnprob' has the log posterior value\n",
    "        at each sample.\n",
    "    \"\"\"\n",
    "    samples = []\n",
    "    lnprob = []\n",
    "    finalPoint = x0\n",
    "    new_mu, new_cov = args\n",
    "    logPostCurrent = log_post(x0, *args)\n",
    "    isAccepted = True\n",
    "    for i in range(n_burn):\n",
    "        finalPoint, logPostCurrent, isAccepted = mh_step(np.array(finalPoint), log_post, logPostCurrent, sigma, args)\n",
    "        \n",
    "    for j in range(n_steps):\n",
    "        finalPoint, logPostCurrent, isAccepted = mh_step(np.array(finalPoint), log_post, logPostCurrent, sigma, args)\n",
    "        samples.append(finalPoint)\n",
    "        lnprob.append(logPostCurrent)\n",
    "        #print (finalPoint)\n",
    "    d = {'Samples': samples, 'Log Posterior Value': lnprob}\n",
    "    df = pd.DataFrame(data=d)\n",
    "    return df\n",
    "        \n",
    "mu = np.array([10.0, 20.0])\n",
    "cov = np.array([[4, -2],[-2, 6]])\n",
    "inv_cov = np.linalg.inv(cov)\n",
    "\n",
    "#@numba.jit(nopython=True)\n",
    "def log_test_distribution(x, mu, inv_cov):\n",
    "    \"\"\"\n",
    "    Unnormalized log posterior of a multivariate Gaussian.\n",
    "    \"\"\"\n",
    "    return -np.dot((x-mu), np.dot(inv_cov, (x-mu))) / 2\n",
    "\n",
    "x0 = np.array([5.0, 15.0])\n",
    "_out = mh_sample(log_test_distribution,x0 , 1.0, args=(mu, inv_cov))\n",
    "#print (_out['Samples'])\n",
    "totalFirst = 0\n",
    "totalSecond = 0\n",
    "count = 0\n",
    "for i in _out['Samples']:\n",
    "    totalFirst += i[0]\n",
    "    totalSecond += i[1]\n",
    "    count += 1\n",
    "#print (totalFirst/count)\n",
    "#print (totalSecond / count)\n",
    "\n"
   ]
  },
  {
   "cell_type": "code",
   "execution_count": 13,
   "metadata": {
    "collapsed": false
   },
   "outputs": [
    {
     "data": {
      "text/plain": [
       "-49.36897800143166"
      ]
     },
     "execution_count": 13,
     "metadata": {},
     "output_type": "execute_result"
    }
   ],
   "source": [
    "_out['Samples'][0]"
   ]
  },
  {
   "cell_type": "code",
   "execution_count": 19,
   "metadata": {
    "collapsed": false
   },
   "outputs": [],
   "source": [
    "samples1 = []\n",
    "samples2 = []\n",
    "for i in range(len(_out['Samples'])):\n",
    "    samples1.append(_out['Samples'][i][0])\n",
    "    samples2.append(_out['Samples'][i][1])\n",
    "_out['Samples_1'] = pd.Series(samples1)\n",
    "_out['Samples_2'] = pd.Series(samples2)\n",
    "del _out['Samples']"
   ]
  },
  {
   "cell_type": "code",
   "execution_count": 21,
   "metadata": {
    "collapsed": false
   },
   "outputs": [
    {
     "data": {
      "text/html": [
       "<div>\n",
       "<table border=\"1\" class=\"dataframe\">\n",
       "  <thead>\n",
       "    <tr style=\"text-align: right;\">\n",
       "      <th></th>\n",
       "      <th>Log Posterior Value</th>\n",
       "      <th>Samples_1</th>\n",
       "      <th>Samples_2</th>\n",
       "    </tr>\n",
       "  </thead>\n",
       "  <tbody>\n",
       "    <tr>\n",
       "      <th>0</th>\n",
       "      <td>-484.000519</td>\n",
       "      <td>-49.368978</td>\n",
       "      <td>28.847965</td>\n",
       "    </tr>\n",
       "    <tr>\n",
       "      <th>1</th>\n",
       "      <td>-490.841173</td>\n",
       "      <td>-49.534663</td>\n",
       "      <td>27.905454</td>\n",
       "    </tr>\n",
       "    <tr>\n",
       "      <th>2</th>\n",
       "      <td>-505.722525</td>\n",
       "      <td>-50.149077</td>\n",
       "      <td>26.948019</td>\n",
       "    </tr>\n",
       "    <tr>\n",
       "      <th>3</th>\n",
       "      <td>-535.403260</td>\n",
       "      <td>-51.282403</td>\n",
       "      <td>24.958202</td>\n",
       "    </tr>\n",
       "    <tr>\n",
       "      <th>4</th>\n",
       "      <td>-537.657262</td>\n",
       "      <td>-51.245740</td>\n",
       "      <td>24.397468</td>\n",
       "    </tr>\n",
       "  </tbody>\n",
       "</table>\n",
       "</div>"
      ],
      "text/plain": [
       "   Log Posterior Value  Samples_1  Samples_2\n",
       "0          -484.000519 -49.368978  28.847965\n",
       "1          -490.841173 -49.534663  27.905454\n",
       "2          -505.722525 -50.149077  26.948019\n",
       "3          -535.403260 -51.282403  24.958202\n",
       "4          -537.657262 -51.245740  24.397468"
      ]
     },
     "execution_count": 21,
     "metadata": {},
     "output_type": "execute_result"
    }
   ],
   "source": [
    "_out.head()"
   ]
  },
  {
   "cell_type": "code",
   "execution_count": 24,
   "metadata": {
    "collapsed": false
   },
   "outputs": [],
   "source": [
    "i = 0\n",
    "first = []\n",
    "second = []\n",
    "for i in range(len(_out['Samples_1'])):\n",
    "    first.append(_out['Samples_1'][i])\n",
    "    second.append(_out['Samples_2'][i])\n"
   ]
  },
  {
   "cell_type": "code",
   "execution_count": 25,
   "metadata": {
    "collapsed": false
   },
   "outputs": [],
   "source": [
    "import matplotlib.pyplot as plt\n",
    "#plt.plot(first,second)"
   ]
  },
  {
   "cell_type": "code",
   "execution_count": 27,
   "metadata": {
    "collapsed": false
   },
   "outputs": [],
   "source": [
    "cols = ['Log Posterior Value', 'Samples_1', 'Samples_2']\n",
    "corner.corner(_out, labels=cols, bins=100);\n",
    "plt.show()"
   ]
  },
  {
   "cell_type": "code",
   "execution_count": null,
   "metadata": {
    "collapsed": false
   },
   "outputs": [],
   "source": []
  },
  {
   "cell_type": "code",
   "execution_count": null,
   "metadata": {
    "collapsed": false
   },
   "outputs": [],
   "source": [
    "d"
   ]
  },
  {
   "cell_type": "code",
   "execution_count": null,
   "metadata": {
    "collapsed": true
   },
   "outputs": [],
   "source": []
  }
 ],
 "metadata": {
  "anaconda-cloud": {},
  "kernelspec": {
   "display_name": "Python [Root]",
   "language": "python",
   "name": "Python [Root]"
  },
  "language_info": {
   "codemirror_mode": {
    "name": "ipython",
    "version": 3
   },
   "file_extension": ".py",
   "mimetype": "text/x-python",
   "name": "python",
   "nbconvert_exporter": "python",
   "pygments_lexer": "ipython3",
   "version": "3.5.2"
  }
 },
 "nbformat": 4,
 "nbformat_minor": 0
}
