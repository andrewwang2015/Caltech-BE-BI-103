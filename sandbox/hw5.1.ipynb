{
 "cells": [
  {
   "cell_type": "code",
   "execution_count": 2,
   "metadata": {
    "collapsed": false
   },
   "outputs": [],
   "source": [
    "import numpy as np\n",
    "import numba\n",
    "import pandas as pd\n",
    "import collections\n",
    "import scipy.optimize\n",
    "import statsmodels.tools.numdiff as smnd\n",
    "import bebi103\n",
    "# Import pyplot for plotting\n",
    "import matplotlib.pyplot as plt\n",
    "import matplotlib.mlab as mlab\n",
    "import math\n",
    "import corner\n",
    "from scipy.integrate import trapz, simps\n",
    "\n",
    "# Some pretty Seaborn settings\n",
    "import seaborn as sns\n",
    "rc={'lines.linewidth': 2, 'axes.labelsize': 14, 'axes.titlesize': 14}\n",
    "sns.set(rc=rc)\n",
    "\n",
    "# Make Matplotlib plots appear inline\n",
    "%matplotlib inline"
   ]
  },
  {
   "cell_type": "markdown",
   "metadata": {},
   "source": [
    "Problem 5.1:"
   ]
  },
  {
   "cell_type": "code",
   "execution_count": 3,
   "metadata": {
    "collapsed": false
   },
   "outputs": [],
   "source": [
    "df = pd.read_csv('../data/fret_binding_curve.csv', comment='#')"
   ]
  },
  {
   "cell_type": "code",
   "execution_count": 4,
   "metadata": {
    "collapsed": false
   },
   "outputs": [
    {
     "data": {
      "text/html": [
       "<div>\n",
       "<table border=\"1\" class=\"dataframe\">\n",
       "  <thead>\n",
       "    <tr style=\"text-align: right;\">\n",
       "      <th></th>\n",
       "      <th>buffer</th>\n",
       "      <th>fluorescence</th>\n",
       "      <th>a conc (nM)</th>\n",
       "      <th>b conc (nM)</th>\n",
       "    </tr>\n",
       "  </thead>\n",
       "  <tbody>\n",
       "    <tr>\n",
       "      <th>0</th>\n",
       "      <td>1256.5751</td>\n",
       "      <td>258316.2818</td>\n",
       "      <td>50.0</td>\n",
       "      <td>1500.00</td>\n",
       "    </tr>\n",
       "    <tr>\n",
       "      <th>1</th>\n",
       "      <td>1256.5751</td>\n",
       "      <td>267722.6277</td>\n",
       "      <td>50.0</td>\n",
       "      <td>750.00</td>\n",
       "    </tr>\n",
       "    <tr>\n",
       "      <th>2</th>\n",
       "      <td>1256.5751</td>\n",
       "      <td>267431.6620</td>\n",
       "      <td>50.0</td>\n",
       "      <td>375.00</td>\n",
       "    </tr>\n",
       "    <tr>\n",
       "      <th>3</th>\n",
       "      <td>1256.5751</td>\n",
       "      <td>284596.2914</td>\n",
       "      <td>50.0</td>\n",
       "      <td>187.50</td>\n",
       "    </tr>\n",
       "    <tr>\n",
       "      <th>4</th>\n",
       "      <td>1256.5751</td>\n",
       "      <td>254903.3958</td>\n",
       "      <td>50.0</td>\n",
       "      <td>93.75</td>\n",
       "    </tr>\n",
       "  </tbody>\n",
       "</table>\n",
       "</div>"
      ],
      "text/plain": [
       "      buffer  fluorescence  a conc (nM)  b conc (nM)\n",
       "0  1256.5751   258316.2818         50.0      1500.00\n",
       "1  1256.5751   267722.6277         50.0       750.00\n",
       "2  1256.5751   267431.6620         50.0       375.00\n",
       "3  1256.5751   284596.2914         50.0       187.50\n",
       "4  1256.5751   254903.3958         50.0        93.75"
      ]
     },
     "execution_count": 4,
     "metadata": {},
     "output_type": "execute_result"
    }
   ],
   "source": [
    "df.head()"
   ]
  },
  {
   "cell_type": "markdown",
   "metadata": {},
   "source": [
    "The data look tidy. To find the background-adjusted fluorescence, we simply subtract the buffer:"
   ]
  },
  {
   "cell_type": "code",
   "execution_count": 5,
   "metadata": {
    "collapsed": true
   },
   "outputs": [],
   "source": [
    "df['back_subt_fluor'] = df['fluorescence'] - df['buffer']"
   ]
  },
  {
   "cell_type": "code",
   "execution_count": 6,
   "metadata": {
    "collapsed": false
   },
   "outputs": [
    {
     "data": {
      "text/html": [
       "<div>\n",
       "<table border=\"1\" class=\"dataframe\">\n",
       "  <thead>\n",
       "    <tr style=\"text-align: right;\">\n",
       "      <th></th>\n",
       "      <th>buffer</th>\n",
       "      <th>fluorescence</th>\n",
       "      <th>a conc (nM)</th>\n",
       "      <th>b conc (nM)</th>\n",
       "      <th>back_subt_fluor</th>\n",
       "    </tr>\n",
       "  </thead>\n",
       "  <tbody>\n",
       "    <tr>\n",
       "      <th>0</th>\n",
       "      <td>1256.5751</td>\n",
       "      <td>258316.2818</td>\n",
       "      <td>50.0</td>\n",
       "      <td>1500.000000</td>\n",
       "      <td>257059.7067</td>\n",
       "    </tr>\n",
       "    <tr>\n",
       "      <th>1</th>\n",
       "      <td>1256.5751</td>\n",
       "      <td>267722.6277</td>\n",
       "      <td>50.0</td>\n",
       "      <td>750.000000</td>\n",
       "      <td>266466.0526</td>\n",
       "    </tr>\n",
       "    <tr>\n",
       "      <th>2</th>\n",
       "      <td>1256.5751</td>\n",
       "      <td>267431.6620</td>\n",
       "      <td>50.0</td>\n",
       "      <td>375.000000</td>\n",
       "      <td>266175.0869</td>\n",
       "    </tr>\n",
       "    <tr>\n",
       "      <th>3</th>\n",
       "      <td>1256.5751</td>\n",
       "      <td>284596.2914</td>\n",
       "      <td>50.0</td>\n",
       "      <td>187.500000</td>\n",
       "      <td>283339.7163</td>\n",
       "    </tr>\n",
       "    <tr>\n",
       "      <th>4</th>\n",
       "      <td>1256.5751</td>\n",
       "      <td>254903.3958</td>\n",
       "      <td>50.0</td>\n",
       "      <td>93.750000</td>\n",
       "      <td>253646.8207</td>\n",
       "    </tr>\n",
       "    <tr>\n",
       "      <th>5</th>\n",
       "      <td>1256.5751</td>\n",
       "      <td>333810.6371</td>\n",
       "      <td>50.0</td>\n",
       "      <td>46.875000</td>\n",
       "      <td>332554.0620</td>\n",
       "    </tr>\n",
       "    <tr>\n",
       "      <th>6</th>\n",
       "      <td>1256.5751</td>\n",
       "      <td>370821.7778</td>\n",
       "      <td>50.0</td>\n",
       "      <td>23.437500</td>\n",
       "      <td>369565.2027</td>\n",
       "    </tr>\n",
       "    <tr>\n",
       "      <th>7</th>\n",
       "      <td>1256.5751</td>\n",
       "      <td>408856.1424</td>\n",
       "      <td>50.0</td>\n",
       "      <td>11.718750</td>\n",
       "      <td>407599.5673</td>\n",
       "    </tr>\n",
       "    <tr>\n",
       "      <th>8</th>\n",
       "      <td>1256.5751</td>\n",
       "      <td>431000.0000</td>\n",
       "      <td>50.0</td>\n",
       "      <td>5.859375</td>\n",
       "      <td>429743.4249</td>\n",
       "    </tr>\n",
       "    <tr>\n",
       "      <th>9</th>\n",
       "      <td>1256.5751</td>\n",
       "      <td>437000.0000</td>\n",
       "      <td>50.0</td>\n",
       "      <td>0.000000</td>\n",
       "      <td>435743.4249</td>\n",
       "    </tr>\n",
       "  </tbody>\n",
       "</table>\n",
       "</div>"
      ],
      "text/plain": [
       "      buffer  fluorescence  a conc (nM)  b conc (nM)  back_subt_fluor\n",
       "0  1256.5751   258316.2818         50.0  1500.000000      257059.7067\n",
       "1  1256.5751   267722.6277         50.0   750.000000      266466.0526\n",
       "2  1256.5751   267431.6620         50.0   375.000000      266175.0869\n",
       "3  1256.5751   284596.2914         50.0   187.500000      283339.7163\n",
       "4  1256.5751   254903.3958         50.0    93.750000      253646.8207\n",
       "5  1256.5751   333810.6371         50.0    46.875000      332554.0620\n",
       "6  1256.5751   370821.7778         50.0    23.437500      369565.2027\n",
       "7  1256.5751   408856.1424         50.0    11.718750      407599.5673\n",
       "8  1256.5751   431000.0000         50.0     5.859375      429743.4249\n",
       "9  1256.5751   437000.0000         50.0     0.000000      435743.4249"
      ]
     },
     "execution_count": 6,
     "metadata": {},
     "output_type": "execute_result"
    }
   ],
   "source": [
    "df"
   ]
  },
  {
   "cell_type": "markdown",
   "metadata": {},
   "source": [
    "The FRET efficiency is given by the following expression: \n",
    "\n",
    "\\begin{align}\n",
    "e = 1 - \\frac{F}{F_0}\n",
    "\\end{align}"
   ]
  },
  {
   "cell_type": "markdown",
   "metadata": {},
   "source": [
    "Since $F_0$ is defined as the fluorescence when the concentration of protein b is zero, we can simply take the fluorescence level of the last row. "
   ]
  },
  {
   "cell_type": "markdown",
   "metadata": {},
   "source": [
    "\\begin{align}\n",
    "e = 1 - \\frac{F}{F_0} = 1 - \\frac{F}{435743.4249}\n",
    "\\end{align}"
   ]
  },
  {
   "cell_type": "code",
   "execution_count": 7,
   "metadata": {
    "collapsed": false
   },
   "outputs": [],
   "source": [
    "fret_e = []\n",
    "for i in range(10):\n",
    "    if i != 9:\n",
    "        fret_e.append(1 - df['fluorescence'][i] / df['back_subt_fluor'][9])\n",
    "    else:\n",
    "        fret_e.append(0)"
   ]
  },
  {
   "cell_type": "code",
   "execution_count": 8,
   "metadata": {
    "collapsed": false
   },
   "outputs": [],
   "source": [
    "df['FRET efficiency'] = fret_e"
   ]
  },
  {
   "cell_type": "markdown",
   "metadata": {},
   "source": [
    "We now have the FRET efficiency for each measurement as a separate column: "
   ]
  },
  {
   "cell_type": "code",
   "execution_count": 9,
   "metadata": {
    "collapsed": false
   },
   "outputs": [
    {
     "data": {
      "text/html": [
       "<div>\n",
       "<table border=\"1\" class=\"dataframe\">\n",
       "  <thead>\n",
       "    <tr style=\"text-align: right;\">\n",
       "      <th></th>\n",
       "      <th>buffer</th>\n",
       "      <th>fluorescence</th>\n",
       "      <th>a conc (nM)</th>\n",
       "      <th>b conc (nM)</th>\n",
       "      <th>back_subt_fluor</th>\n",
       "      <th>FRET efficiency</th>\n",
       "    </tr>\n",
       "  </thead>\n",
       "  <tbody>\n",
       "    <tr>\n",
       "      <th>0</th>\n",
       "      <td>1256.5751</td>\n",
       "      <td>258316.2818</td>\n",
       "      <td>50.0</td>\n",
       "      <td>1500.000000</td>\n",
       "      <td>257059.7067</td>\n",
       "      <td>0.407183</td>\n",
       "    </tr>\n",
       "    <tr>\n",
       "      <th>1</th>\n",
       "      <td>1256.5751</td>\n",
       "      <td>267722.6277</td>\n",
       "      <td>50.0</td>\n",
       "      <td>750.000000</td>\n",
       "      <td>266466.0526</td>\n",
       "      <td>0.385596</td>\n",
       "    </tr>\n",
       "    <tr>\n",
       "      <th>2</th>\n",
       "      <td>1256.5751</td>\n",
       "      <td>267431.6620</td>\n",
       "      <td>50.0</td>\n",
       "      <td>375.000000</td>\n",
       "      <td>266175.0869</td>\n",
       "      <td>0.386263</td>\n",
       "    </tr>\n",
       "    <tr>\n",
       "      <th>3</th>\n",
       "      <td>1256.5751</td>\n",
       "      <td>284596.2914</td>\n",
       "      <td>50.0</td>\n",
       "      <td>187.500000</td>\n",
       "      <td>283339.7163</td>\n",
       "      <td>0.346872</td>\n",
       "    </tr>\n",
       "    <tr>\n",
       "      <th>4</th>\n",
       "      <td>1256.5751</td>\n",
       "      <td>254903.3958</td>\n",
       "      <td>50.0</td>\n",
       "      <td>93.750000</td>\n",
       "      <td>253646.8207</td>\n",
       "      <td>0.415015</td>\n",
       "    </tr>\n",
       "    <tr>\n",
       "      <th>5</th>\n",
       "      <td>1256.5751</td>\n",
       "      <td>333810.6371</td>\n",
       "      <td>50.0</td>\n",
       "      <td>46.875000</td>\n",
       "      <td>332554.0620</td>\n",
       "      <td>0.233928</td>\n",
       "    </tr>\n",
       "    <tr>\n",
       "      <th>6</th>\n",
       "      <td>1256.5751</td>\n",
       "      <td>370821.7778</td>\n",
       "      <td>50.0</td>\n",
       "      <td>23.437500</td>\n",
       "      <td>369565.2027</td>\n",
       "      <td>0.148991</td>\n",
       "    </tr>\n",
       "    <tr>\n",
       "      <th>7</th>\n",
       "      <td>1256.5751</td>\n",
       "      <td>408856.1424</td>\n",
       "      <td>50.0</td>\n",
       "      <td>11.718750</td>\n",
       "      <td>407599.5673</td>\n",
       "      <td>0.061704</td>\n",
       "    </tr>\n",
       "    <tr>\n",
       "      <th>8</th>\n",
       "      <td>1256.5751</td>\n",
       "      <td>431000.0000</td>\n",
       "      <td>50.0</td>\n",
       "      <td>5.859375</td>\n",
       "      <td>429743.4249</td>\n",
       "      <td>0.010886</td>\n",
       "    </tr>\n",
       "    <tr>\n",
       "      <th>9</th>\n",
       "      <td>1256.5751</td>\n",
       "      <td>437000.0000</td>\n",
       "      <td>50.0</td>\n",
       "      <td>0.000000</td>\n",
       "      <td>435743.4249</td>\n",
       "      <td>0.000000</td>\n",
       "    </tr>\n",
       "  </tbody>\n",
       "</table>\n",
       "</div>"
      ],
      "text/plain": [
       "      buffer  fluorescence  a conc (nM)  b conc (nM)  back_subt_fluor  \\\n",
       "0  1256.5751   258316.2818         50.0  1500.000000      257059.7067   \n",
       "1  1256.5751   267722.6277         50.0   750.000000      266466.0526   \n",
       "2  1256.5751   267431.6620         50.0   375.000000      266175.0869   \n",
       "3  1256.5751   284596.2914         50.0   187.500000      283339.7163   \n",
       "4  1256.5751   254903.3958         50.0    93.750000      253646.8207   \n",
       "5  1256.5751   333810.6371         50.0    46.875000      332554.0620   \n",
       "6  1256.5751   370821.7778         50.0    23.437500      369565.2027   \n",
       "7  1256.5751   408856.1424         50.0    11.718750      407599.5673   \n",
       "8  1256.5751   431000.0000         50.0     5.859375      429743.4249   \n",
       "9  1256.5751   437000.0000         50.0     0.000000      435743.4249   \n",
       "\n",
       "   FRET efficiency  \n",
       "0         0.407183  \n",
       "1         0.385596  \n",
       "2         0.386263  \n",
       "3         0.346872  \n",
       "4         0.415015  \n",
       "5         0.233928  \n",
       "6         0.148991  \n",
       "7         0.061704  \n",
       "8         0.010886  \n",
       "9         0.000000  "
      ]
     },
     "execution_count": 9,
     "metadata": {},
     "output_type": "execute_result"
    }
   ],
   "source": [
    "df"
   ]
  },
  {
   "cell_type": "markdown",
   "metadata": {},
   "source": [
    "For 5.1, we will use parameter estimation by optimization. "
   ]
  },
  {
   "cell_type": "code",
   "execution_count": 10,
   "metadata": {
    "collapsed": false
   },
   "outputs": [],
   "source": [
    "def fret_eff(p, ca, cb):\n",
    "    alpha, kd = p\n",
    "    return 2 * alpha * cb / (kd + ca + cb + np.sqrt((kd + ca + cb)**2 - 4 * ca * cb))"
   ]
  },
  {
   "cell_type": "code",
   "execution_count": 11,
   "metadata": {
    "collapsed": true
   },
   "outputs": [],
   "source": [
    "def log_post(p, ca, cb, e_measure):\n",
    "    alpha, kd = p\n",
    "    e_theor = fret_eff(p, ca, cb)\n",
    "    return -len(ca) / 2 * np.log(np.sum((e_measure - e_theor)**2))"
   ]
  },
  {
   "cell_type": "code",
   "execution_count": 12,
   "metadata": {
    "collapsed": true
   },
   "outputs": [],
   "source": [
    "def resid(p, ca, cb, e_measure):\n",
    "    \"\"\"\n",
    "    Residuals for spindle length model.\n",
    "    \"\"\"\n",
    "    return e_measure - fret_eff(p, ca, cb)"
   ]
  },
  {
   "cell_type": "code",
   "execution_count": 13,
   "metadata": {
    "collapsed": false
   },
   "outputs": [
    {
     "data": {
      "image/png": "[encoded data removed]",
      "text/plain": [
       "<matplotlib.figure.Figure at 0x9371e689e8>"
      ]
     },
     "metadata": {},
     "output_type": "display_data"
    }
   ],
   "source": [
    "alpha = np.linspace(0.36, 0.45, 100)\n",
    "kd = np.linspace(1, 20, 100)\n",
    "\n",
    "# Make a grid\n",
    "tt, gg = np.meshgrid(alpha, kd)\n",
    "\n",
    "# Compute log posterior\n",
    "log_posterior = np.empty_like(tt)\n",
    "for j in range(len(alpha)):\n",
    "    for i in range(len(kd)):\n",
    "        log_posterior[i, j] = log_post(np.array([tt[i,j], gg[i,j]]), df['a conc (nM)'], df['b conc (nM)'], df['FRET efficiency'])\n",
    "\n",
    "# Get things to scale better\n",
    "log_posterior -= log_posterior.max()\n",
    "        \n",
    "# Plot the results\n",
    "plt.contourf(tt, gg, np.exp(log_posterior), cmap=plt.cm.Blues, alpha=0.7)\n",
    "plt.xlabel(r'$\\alpha$' )\n",
    "plt.ylabel(r'$K_d$');"
   ]
  },
  {
   "cell_type": "markdown",
   "metadata": {},
   "source": [
    "The plot suggests that the most probable values for $\\alpha$ and $K_d$ are approximately 0.395 and 7, respectively."
   ]
  },
  {
   "cell_type": "markdown",
   "metadata": {},
   "source": [
    "We can now use the least squares estimation method to find the most probable parameters."
   ]
  },
  {
   "cell_type": "code",
   "execution_count": 14,
   "metadata": {
    "collapsed": true
   },
   "outputs": [],
   "source": [
    "p0 = np.array([0.395, 7.5])"
   ]
  },
  {
   "cell_type": "code",
   "execution_count": 15,
   "metadata": {
    "collapsed": true
   },
   "outputs": [],
   "source": [
    "args = ( df['a conc (nM)'].values, df['b conc (nM)'].values, df['FRET efficiency'].values)"
   ]
  },
  {
   "cell_type": "code",
   "execution_count": 16,
   "metadata": {
    "collapsed": false
   },
   "outputs": [],
   "source": [
    "popt, _ = scipy.optimize.leastsq(resid, p0, args=args)"
   ]
  },
  {
   "cell_type": "code",
   "execution_count": 17,
   "metadata": {
    "collapsed": false
   },
   "outputs": [
    {
     "name": "stdout",
     "output_type": "stream",
     "text": [
      "\n",
      "Most probable parameters\n",
      "----------------------------------\n",
      "alpha = 0.397 \n",
      "K_d = 6.858\n",
      "\n"
     ]
    }
   ],
   "source": [
    "# Extract the values\n",
    "alpha, kd = popt\n",
    "\n",
    "# Print results\n",
    "print(\"\"\"\n",
    "Most probable parameters\n",
    "----------------------------------\n",
    "alpha = {0:.3f} \n",
    "K_d = {1:.3f}\n",
    "\"\"\".format(alpha, kd))"
   ]
  },
  {
   "cell_type": "markdown",
   "metadata": {},
   "source": [
    "Now, let's get the error bars on the two parameters:"
   ]
  },
  {
   "cell_type": "code",
   "execution_count": 18,
   "metadata": {
    "collapsed": false
   },
   "outputs": [
    {
     "name": "stdout",
     "output_type": "stream",
     "text": [
      "\n",
      "Regression results without an outlier detection scheme (≈ 68% of total probability)\n",
      "------------------------------------------------\n",
      "alpha = 0.397 ± 0.016 \n",
      "K_d = 6.858 ± 3.425\n",
      "\n"
     ]
    }
   ],
   "source": [
    "hes = smnd.approx_hess(popt, log_post, args=args)\n",
    "cov = -np.linalg.inv(hes)\n",
    "# Report results\n",
    "print(\"\"\"\n",
    "Regression results without an outlier detection scheme (≈ 68% of total probability)\n",
    "------------------------------------------------\n",
    "alpha = {0:.3f} ± {1:.3f} \n",
    "K_d = {2:.3f} ± {3:.3f}\n",
    "\"\"\".format(alpha, np.sqrt(cov[0,0]), kd, np.sqrt(cov[1,1])))"
   ]
  },
  {
   "cell_type": "markdown",
   "metadata": {
    "collapsed": true
   },
   "source": [
    "Let's see how this looks graphically:\n",
    "\n",
    "First, we start with alpha:"
   ]
  },
  {
   "cell_type": "code",
   "execution_count": 19,
   "metadata": {
    "collapsed": false
   },
   "outputs": [
    {
     "data": {
      "image/png": "[encoded data removed]",
      "text/plain": [
       "<matplotlib.figure.Figure at 0x9371e66a58>"
      ]
     },
     "metadata": {},
     "output_type": "display_data"
    }
   ],
   "source": [
    "mu = alpha\n",
    "std = np.sqrt(cov[0,0])\n",
    "x = np.linspace(0.397-4*std, 0.397+4*std, 100)\n",
    "plt.plot(x,mlab.normpdf(x, mu, std))\n",
    "plt.show()"
   ]
  },
  {
   "cell_type": "markdown",
   "metadata": {},
   "source": [
    "Next, we plot K_d:"
   ]
  },
  {
   "cell_type": "code",
   "execution_count": 20,
   "metadata": {
    "collapsed": false
   },
   "outputs": [
    {
     "data": {
      "image/png": "[encoded data removed]",
      "text/plain": [
       "<matplotlib.figure.Figure at 0x93723ea438>"
      ]
     },
     "metadata": {},
     "output_type": "display_data"
    }
   ],
   "source": [
    "mu = backup_mu = kd\n",
    "std = backup_std = np.sqrt(cov[1,1])\n",
    "x = backup_x = np.linspace(mu-4*std, mu+4*std, 100)\n",
    "plt.plot(x, mlab.normpdf(x, mu, std))\n",
    "plt.show()"
   ]
  },
  {
   "cell_type": "markdown",
   "metadata": {},
   "source": [
    "Notice that the problem with using a Gaussian model for bounded values becomes more apparent with the plot for K_d. We know that K_d is positive. However, due to the infinite span of the bell curve, the probability associated with a negative posterior is nonzero. In fact, it's a considerable percentage of the total area under the curve. "
   ]
  },
  {
   "cell_type": "markdown",
   "metadata": {},
   "source": [
    "Now, let's use a Cauchy fit to estimate K_d, accomodating for any outliers in the data.  "
   ]
  },
  {
   "cell_type": "code",
   "execution_count": 20,
   "metadata": {
    "collapsed": false
   },
   "outputs": [],
   "source": [
    "#@numba.jit(nopython=True)\n",
    "def log_likelihood_cauchy(p, x, conc_a, conc_b):\n",
    "    \"\"\"\n",
    "    Cauchy log likelihood.\n",
    "    \"\"\"\n",
    "    logkd, beta, alpha = p\n",
    "    #kd = np.exp(logkd)\n",
    "    return -len(x) * np.log(beta) - np.sum(np.log(1.0 + ((x - e_theor(p, conc_a, conc_b)) / beta)**2))\n",
    "\n",
    "def e_theor(p, conc_a, conc_b):\n",
    "    logkd, beta, alpha = p\n",
    "    kd = np.exp(logkd)\n",
    "    return (2 * alpha * conc_b) / (kd + conc_a + conc_b + np.sqrt((kd + conc_a + conc_b) ** 2 - 4 * conc_a * conc_b))\n",
    "    \n",
    "#@numba.jit(nopython=True)\n",
    "def log_prior_cauchy(p, kd_min, kd_max, alpha_min, alpha_max):\n",
    "    \"\"\"\n",
    "    Log prior.\n",
    "    \"\"\"\n",
    "    logkd, beta, alpha = p\n",
    "    kd = np.exp(logkd)\n",
    "    if (not (kd_min < kd < kd_max)) or beta <= 0 or (not (alpha_min < alpha < alpha_max)):\n",
    "        return -np.inf\n",
    "    else:\n",
    "        return -np.log(beta) - np.log(kd_max - kd_min) - np.log(alpha_max - alpha_min)  #Change\n",
    "\n",
    "\n",
    "#@numba.jit(nopython=True)\n",
    "def log_posterior_cauchy(p, x, kd_min, kd_max, alpha_min, alpha_max, conc_a, conc_b):\n",
    "    \"\"\"\n",
    "    Log posterior.  \n",
    "\n",
    "    \"\"\"\n",
    "    lp = log_prior_cauchy(p, kd_min, kd_max, alpha_min, alpha_max)\n",
    "    if lp == -np.inf:\n",
    "        return -np.inf\n",
    "    \n",
    "    return lp + log_likelihood_cauchy(p, x, conc_a, conc_b)"
   ]
  },
  {
   "cell_type": "code",
   "execution_count": 21,
   "metadata": {
    "collapsed": false
   },
   "outputs": [],
   "source": [
    "# Seed random number generator for reproducibility\n",
    "np.random.seed(42)\n",
    "\n",
    "# Set up parameters\n",
    "p_dict = collections.OrderedDict(\n",
    "        [('logkd', (np.random.uniform, (-10, 4,))),\n",
    "         ('beta', (np.random.exponential, (1,))),\n",
    "         ('alpha', (np.random.uniform, (0, 1,)))])\n",
    "\n",
    "\n",
    "# Run MCMC\n",
    "# What should I pass as args for the Cauchy generations? How do we get the measured k_d's? \n",
    "x = df['FRET efficiency']\n",
    "conc_a = df['a conc (nM)']\n",
    "conc_b = df['b conc (nM)']\n",
    "args=(x, 10**-10, 10**4, 0, 1, conc_a, conc_b)   \n",
    "df_mcmc = bebi103.run_ensemble_emcee(log_posterior_cauchy, p_dict=p_dict, args=args, n_walkers=50, n_burn=5000, n_steps=5000)"
   ]
  },
  {
   "cell_type": "code",
   "execution_count": 22,
   "metadata": {
    "collapsed": false
   },
   "outputs": [
    {
     "data": {
      "image/png": "[encoded data removed]",
      "text/plain": [
       "<matplotlib.figure.Figure at 0x7a9b589cc0>"
      ]
     },
     "metadata": {},
     "output_type": "display_data"
    }
   ],
   "source": [
    "corner.corner(df_mcmc[['logkd', 'beta', 'alpha']], labels=['logkd', 'beta', 'alpha']  );"
   ]
  },
  {
   "cell_type": "markdown",
   "metadata": {
    "collapsed": false
   },
   "source": [
    "To find K_d with the outlier detection mechanism, we can take the most probable value (the peak) of the distribution."
   ]
  },
  {
   "cell_type": "code",
   "execution_count": 27,
   "metadata": {
    "collapsed": false
   },
   "outputs": [
    {
     "data": {
      "text/html": [
       "<div>\n",
       "<table border=\"1\" class=\"dataframe\">\n",
       "  <thead>\n",
       "    <tr style=\"text-align: right;\">\n",
       "      <th></th>\n",
       "      <th>logkd</th>\n",
       "      <th>beta</th>\n",
       "      <th>alpha</th>\n",
       "      <th>lnprob</th>\n",
       "      <th>chain</th>\n",
       "    </tr>\n",
       "  </thead>\n",
       "  <tbody>\n",
       "    <tr>\n",
       "      <th>0</th>\n",
       "      <td>2.173055</td>\n",
       "      <td>0.015181</td>\n",
       "      <td>0.376769</td>\n",
       "      <td>27.398846</td>\n",
       "      <td>0</td>\n",
       "    </tr>\n",
       "    <tr>\n",
       "      <th>1</th>\n",
       "      <td>2.173055</td>\n",
       "      <td>0.015181</td>\n",
       "      <td>0.376769</td>\n",
       "      <td>27.398846</td>\n",
       "      <td>0</td>\n",
       "    </tr>\n",
       "    <tr>\n",
       "      <th>2</th>\n",
       "      <td>2.173055</td>\n",
       "      <td>0.015181</td>\n",
       "      <td>0.376769</td>\n",
       "      <td>27.398846</td>\n",
       "      <td>0</td>\n",
       "    </tr>\n",
       "    <tr>\n",
       "      <th>3</th>\n",
       "      <td>2.301885</td>\n",
       "      <td>0.015868</td>\n",
       "      <td>0.382263</td>\n",
       "      <td>27.998105</td>\n",
       "      <td>0</td>\n",
       "    </tr>\n",
       "    <tr>\n",
       "      <th>4</th>\n",
       "      <td>2.301885</td>\n",
       "      <td>0.015868</td>\n",
       "      <td>0.382263</td>\n",
       "      <td>27.998105</td>\n",
       "      <td>0</td>\n",
       "    </tr>\n",
       "  </tbody>\n",
       "</table>\n",
       "</div>"
      ],
      "text/plain": [
       "      logkd      beta     alpha     lnprob  chain\n",
       "0  2.173055  0.015181  0.376769  27.398846      0\n",
       "1  2.173055  0.015181  0.376769  27.398846      0\n",
       "2  2.173055  0.015181  0.376769  27.398846      0\n",
       "3  2.301885  0.015868  0.382263  27.998105      0\n",
       "4  2.301885  0.015868  0.382263  27.998105      0"
      ]
     },
     "execution_count": 27,
     "metadata": {},
     "output_type": "execute_result"
    }
   ],
   "source": [
    "df_mcmc.head()"
   ]
  },
  {
   "cell_type": "code",
   "execution_count": 30,
   "metadata": {
    "collapsed": false
   },
   "outputs": [],
   "source": [
    "df_mcmc['lnprob'] = df_mcmc['lnprob'].astype(np.float64)\n",
    "df_mcmc['logkd'] = df_mcmc['logkd'].astype(np.float64)"
   ]
  },
  {
   "cell_type": "code",
   "execution_count": 31,
   "metadata": {
    "collapsed": false
   },
   "outputs": [
    {
     "data": {
      "text/plain": [
       "2.4501908275877065"
      ]
     },
     "execution_count": 31,
     "metadata": {},
     "output_type": "execute_result"
    }
   ],
   "source": [
    "prevmax = 0\n",
    "for i in range(len(df_mcmc['lnprob'])):\n",
    "    if df_mcmc['lnprob'][i] > prevmax:\n",
    "        prevmax = i\n",
    "df_mcmc['logkd'][prevmax]        "
   ]
  },
  {
   "cell_type": "code",
   "execution_count": 33,
   "metadata": {
    "collapsed": false
   },
   "outputs": [
    {
     "data": {
      "text/plain": [
       "11.590558306482544"
      ]
     },
     "execution_count": 33,
     "metadata": {},
     "output_type": "execute_result"
    }
   ],
   "source": [
    "kd_estimate = np.exp(df_mcmc['logkd'][prevmax])\n",
    "kd_estimate"
   ]
  },
  {
   "cell_type": "markdown",
   "metadata": {},
   "source": [
    "Using the Cauchy distribution as the outlier detection scheme, we get Kd = 11.6"
   ]
  },
  {
   "cell_type": "markdown",
   "metadata": {},
   "source": [
    "Now, we will present a graphical summary of the regression results: "
   ]
  },
  {
   "cell_type": "code",
   "execution_count": 36,
   "metadata": {
    "collapsed": true
   },
   "outputs": [],
   "source": [
    "def hpd(trace, mass_frac) :\n",
    "    \"\"\"\n",
    "    Returns highest probability density region given by\n",
    "    a set of samples.\n",
    "\n",
    "    Parameters\n",
    "    ----------\n",
    "    trace : array\n",
    "        1D array of MCMC samples for a single variable\n",
    "    mass_frac : float with 0 < mass_frac <= 1\n",
    "        The fraction of the probability to be included in\n",
    "        the HPD.  For example, `massfrac` = 0.95 gives a\n",
    "        95% HPD.\n",
    "        \n",
    "    Returns\n",
    "    -------\n",
    "    output : array, shape (2,)\n",
    "        The bounds of the HPD\n",
    "    \"\"\"\n",
    "    # Get sorted list\n",
    "    d = np.sort(np.copy(trace))\n",
    "\n",
    "    # Number of total samples taken\n",
    "    n = len(trace)\n",
    "    \n",
    "    # Get number of samples that should be included in HPD\n",
    "    n_samples = np.floor(mass_frac * n).astype(int)\n",
    "    \n",
    "    # Get width (in units of data) of all intervals with n_samples samples\n",
    "    int_width = d[n_samples:] - d[:n-n_samples]\n",
    "    \n",
    "    # Pick out minimal interval\n",
    "    min_int = np.argmin(int_width)\n",
    "    \n",
    "    # Return interval\n",
    "    return np.array([d[min_int], d[min_int+n_samples]])"
   ]
  },
  {
   "cell_type": "code",
   "execution_count": 44,
   "metadata": {
    "collapsed": false
   },
   "outputs": [
    {
     "data": {
      "text/plain": [
       "array([  4.36711167e-03,   4.59552816e+01])"
      ]
     },
     "execution_count": 44,
     "metadata": {},
     "output_type": "execute_result"
    }
   ],
   "source": [
    "HPD_array = np.exp(hpd(df_mcmc['logkd'], 0.95))\n",
    "HPD_array"
   ]
  },
  {
   "cell_type": "markdown",
   "metadata": {},
   "source": [
    "The HPD range (95%) is given by 0.00437 < Kd < 46"
   ]
  },
  {
   "cell_type": "markdown",
   "metadata": {},
   "source": [
    "Notice that this range is very wide! It spans over 4 orders of magnitude. "
   ]
  },
  {
   "cell_type": "code",
   "execution_count": 47,
   "metadata": {
    "collapsed": false
   },
   "outputs": [
    {
     "data": {
      "text/plain": [
       "[<matplotlib.lines.Line2D at 0x7a9ad83208>]"
      ]
     },
     "execution_count": 47,
     "metadata": {},
     "output_type": "execute_result"
    },
    {
     "data": {
      "image/png": "[encoded data removed]",
      "text/plain": [
       "<matplotlib.figure.Figure at 0x7a9ad839e8>"
      ]
     },
     "metadata": {},
     "output_type": "display_data"
    }
   ],
   "source": [
    "plt.plot(np.exp(df_mcmc['logkd']), np.exp(df_mcmc['lnprob']), '.')\n",
    "plt.plot([HPD_array[0], HPD_array[1]], [2.3e13, 2.3e13], color='k', linestyle='-', linewidth=2)"
   ]
  },
  {
   "cell_type": "markdown",
   "metadata": {},
   "source": [
    "Notice that the above plot is not normalized. We will normalize the probabilities so that they add up to one."
   ]
  },
  {
   "cell_type": "code",
   "execution_count": 59,
   "metadata": {
    "collapsed": false
   },
   "outputs": [
    {
     "data": {
      "text/plain": [
       "<matplotlib.text.Text at 0x7a9cc79b00>"
      ]
     },
     "execution_count": 59,
     "metadata": {},
     "output_type": "execute_result"
    },
    {
     "data": {
      "image/png": "[encoded data removed]",
      "text/plain": [
       "<matplotlib.figure.Figure at 0x7a9cab46a0>"
      ]
     },
     "metadata": {},
     "output_type": "display_data"
    }
   ],
   "source": [
    "norm_factor = trapz((np.exp(df_mcmc['lnprob'])), np.exp(df_mcmc['logkd']))\n",
    "plt.plot(np.exp(df_mcmc['logkd']), np.exp(df_mcmc['lnprob']) / norm_factor, '.')\n",
    "plt.plot([HPD_array[0], HPD_array[1]], [0.08, 0.08], color='k', linestyle='-', linewidth=2)\n",
    "plt.xlabel('K_d')\n",
    "plt.ylabel('Probability')"
   ]
  },
  {
   "cell_type": "markdown",
   "metadata": {},
   "source": [
    "The black line represents the 95% HPD. "
   ]
  },
  {
   "cell_type": "markdown",
   "metadata": {},
   "source": [
    "Let's now compare the two estimates we obtained for K_d:\n",
    "\n",
    "Using the outlier detection scheme, we estimated K_d as 11.6. \n",
    "Without the outlier detection scheme, we estimated K_d as 6.9. \n",
    "\n",
    "The magnitudes of K_d differ by a lot, but for each of the two methods, the K_d corresponding to the other method is within the 95% confidence interval. In other words, outliers had enough dominance to sway our estimate of K_d by 65%, but the resulting estimate was still within our confidence interval. When we tried to detect the outliers, our estimate of the mean increased because the broad tail of the Cauchy distribution allowed for a large array of possible values that K_d could take. Those low-probability, high-impact points skewed the mean up by a noticeable amount, but not outside the 95% range."
   ]
  },
  {
   "cell_type": "code",
   "execution_count": null,
   "metadata": {
    "collapsed": false
   },
   "outputs": [],
   "source": []
  },
  {
   "cell_type": "code",
   "execution_count": null,
   "metadata": {
    "collapsed": true
   },
   "outputs": [],
   "source": []
  }
 ],
 "metadata": {
  "anaconda-cloud": {},
  "kernelspec": {
   "display_name": "Python [Root]",
   "language": "python",
   "name": "Python [Root]"
  },
  "language_info": {
   "codemirror_mode": {
    "name": "ipython",
    "version": 3
   },
   "file_extension": ".py",
   "mimetype": "text/x-python",
   "name": "python",
   "nbconvert_exporter": "python",
   "pygments_lexer": "ipython3",
   "version": "3.5.2"
  }
 },
 "nbformat": 4,
 "nbformat_minor": 0
}
