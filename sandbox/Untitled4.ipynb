{
 "cells": [
  {
   "cell_type": "code",
   "execution_count": null,
   "metadata": {
    "collapsed": true
   },
   "outputs": [],
   "source": [
    "def getWhitePixels(image):\n",
    "    numWhite = 0\n",
    "    for i in im_bw:\n",
    "        for j in i:\n",
    "            if (j):\n",
    "                numWhite += 1\n",
    "    return numWhite"
   ]
  },
  {
   "cell_type": "code",
   "execution_count": null,
   "metadata": {
    "collapsed": true
   },
   "outputs": [],
   "source": [
    "pixels = []\n",
    "for i in ic:\n",
    "    im = i\n",
    "    im_float = (im.astype(float) - im.min()) / (im.max() - im.min())\n",
    "    im_edge = skimage.feature.canny(im_float, 1.4)\n",
    "    im_bw = scipy.ndimage.morphology.binary_fill_holes(im_edge)\n",
    "    # Close the edge image\n",
    "    selem = skimage.morphology.disk(2)\n",
    "    im_edge_closed = skimage.morphology.binary_closing(im_edge, selem)\n",
    "\n",
    "    # Fill these holes\n",
    "    im_bw = scipy.ndimage.morphology.binary_fill_holes(im_edge_closed)\n",
    "    im_LoG = scipy.ndimage.filters.gaussian_laplace(im_float, 2.0)\n",
    "    # 3x3 square structuring element\n",
    "    selem = skimage.morphology.square(3)\n",
    "    \n",
    "    # Do max filter and min filter\n",
    "    im_LoG_max = scipy.ndimage.filters.maximum_filter(im_LoG, footprint=selem)\n",
    "    im_LoG_min = scipy.ndimage.filters.minimum_filter(im_LoG, footprint=selem)\n",
    "\n",
    "    # Image of zero-crossings\n",
    "    im_edge = ((im_LoG >= 0) & (im_LoG_min < 0)) \\\n",
    "        | ((im_LoG <= 0) & (im_LoG_max > 0))\n",
    "    im_edge = zero_crossing_filter(im_LoG, 0.001)\n",
    "    im_edge = skimage.morphology.skeletonize(im_edge)\n",
    "    # Fill holes\n",
    "    im_bw = scipy.ndimage.morphology.binary_fill_holes(im_edge)\n",
    "\n",
    "    # Remove small objectes that are not bacteria\n",
    "    im_bw = skimage.morphology.remove_small_objects(im_bw, min_size=100)\n",
    "\n",
    "    im_bw = skimage.segmentation.clear_border(im_bw, buffer_size=5)\n",
    "    pixels.append(getWhitePixels(im_bw))\n",
    "\n"
   ]
  }
 ],
 "metadata": {
  "anaconda-cloud": {},
  "kernelspec": {
   "display_name": "Python [Root]",
   "language": "python",
   "name": "Python [Root]"
  },
  "language_info": {
   "codemirror_mode": {
    "name": "ipython",
    "version": 3
   },
   "file_extension": ".py",
   "mimetype": "text/x-python",
   "name": "python",
   "nbconvert_exporter": "python",
   "pygments_lexer": "ipython3",
   "version": "3.5.2"
  }
 },
 "nbformat": 4,
 "nbformat_minor": 0
}
