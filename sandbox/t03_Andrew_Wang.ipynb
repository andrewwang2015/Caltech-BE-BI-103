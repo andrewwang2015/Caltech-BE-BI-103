{
 "cells": [
  {
   "cell_type": "markdown",
   "metadata": {},
   "source": [
    "# Tutorial 3: exercise\n",
    "\n",
    "(c) 2016 Justin Bois. This work is licensed under a [Creative Commons Attribution License CC-BY 4.0](https://creativecommons.org/licenses/by/4.0/). All code contained herein is licensed under an [MIT license](https://opensource.org/licenses/MIT).\n",
    "\n",
    "*This tutorial exercise was generated from an Jupyter notebook.  You can download the notebook [here](t3_exercise.ipynb). Use this downloaded Jupyter notebook to fill out your responses.*"
   ]
  },
  {
   "cell_type": "markdown",
   "metadata": {},
   "source": [
    "### Exercise 1\n",
    "\n",
    "When performing parameter estimation by optimization, after we find the MAP, why do we locally approximate the posterior near the MAP as Gaussian?"
   ]
  },
  {
   "cell_type": "markdown",
   "metadata": {},
   "source": [
    "A Gaussian/normal distribution is typically used to describe a full population and a Student t-distribution is used to describe samples from a full population. \n",
    "\n",
    "Earlier, we settled that the posterior marginalized over sigma resembled that of a Student t-distribution. Thus, although each of these t-distributions for different samples of the full population will be slightly different from one another, the larger the sample, the more the distribution resembles one of Gaussian. \n",
    "\n",
    "For the example we did in class with the zebra fish and sleep, there were 96 fish, and each fish had over 5000 data points of time intervals. With this much data meaning a large data size, the t-distribution will likely be close to the Gaussian and thus, we are justified in using the Gaussian as an approximator. \n",
    "\n",
    "On a practical note, the Gaussian distribution can easily generate error bars for the estimated parameters. "
   ]
  },
  {
   "cell_type": "markdown",
   "metadata": {},
   "source": [
    "### Exercise 2\n",
    "\n",
    "You may have heard that curve fitting involved \"minimizing the sum of the square of the residuals.\" If indeed finding the MAP is equivalent to minimizing the sum of the square of the residuals, what underlying assumptions are there in the statistical model?"
   ]
  },
  {
   "cell_type": "markdown",
   "metadata": {},
   "source": [
    "The model must rely on data that is independent and identically distributed. In terms of the model itself, it must be twice differentiable. This allows for the minimization of the sum of the square of the residuals which is equivalent to MAP. "
   ]
  },
  {
   "cell_type": "markdown",
   "metadata": {},
   "source": [
    "### Exercise 3\n",
    "\n",
    "How would you expect each of the following to be distributed?\n",
    "\n",
    "**a)** The amount of time between repressor-operator binding events.\n",
    "\n",
    "Exponential: A repressor-operator binding event can be described as a Poisson process and thus, the times between each of these processes is exponentially distributed.\n",
    "\n",
    "**b)** The number of times a repressor binds its operator in a given hour.\n",
    "\n",
    "Poisson: The number k of arrivals in unit time is Poisson distributed. In this case, we are looking at the number of times a repressor binds its operator (event) in a given hour (in unit time).\n",
    "\n",
    "**c)** The amount of time (in total minute of baseball played) between no-hitters in Major League Baseball.\n",
    "\n",
    "Exponential: Similar to problem a, we have a Poisson process (no-hitters) that are rare. And the amount of time between such processes are exponentially distributed.\n",
    "\n",
    "**d)** The number of no-hitters in a Major League Baseball season.\n",
    "\n",
    "Poisson: We have a time frame (one season of MLB) and a rare event (no-hitter) and thus we have \"number of arrivals in unit time\" which similar to problem b, can be described as a poisson distribution.\n",
    "\n",
    "To answer this question, try to match these biological stories to the stories of named distributions. For those of you not familiar with baseball, a no-hitter is a game in which a team concedes no hits to the opposing team. There have only been a few hundred no-hitters in over 200,000 MLB games."
   ]
  },
  {
   "cell_type": "code",
   "execution_count": null,
   "metadata": {
    "collapsed": true
   },
   "outputs": [],
   "source": []
  }
 ],
 "metadata": {
  "anaconda-cloud": {},
  "kernelspec": {
   "display_name": "Python [Root]",
   "language": "python",
   "name": "Python [Root]"
  },
  "language_info": {
   "codemirror_mode": {
    "name": "ipython",
    "version": 3
   },
   "file_extension": ".py",
   "mimetype": "text/x-python",
   "name": "python",
   "nbconvert_exporter": "python",
   "pygments_lexer": "ipython3",
   "version": "3.5.2"
  }
 },
 "nbformat": 4,
 "nbformat_minor": 0
}
