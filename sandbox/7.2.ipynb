{
 "cells": [
  {
   "cell_type": "code",
   "execution_count": 1,
   "metadata": {
    "collapsed": true
   },
   "outputs": [],
   "source": [
    "import numpy as np\n",
    "import pandas as pd\n",
    "import scipy.optimize\n",
    "import scipy.stats as st\n",
    "import numba\n",
    "\n",
    "import corner\n",
    "import bebi103\n",
    "\n",
    "import matplotlib.pyplot as plt\n",
    "import seaborn as sns\n",
    "rc={'lines.linewidth': 2, 'axes.labelsize': 14, 'axes.titlesize': 14}\n",
    "sns.set(rc=rc)\n",
    "%matplotlib inline"
   ]
  },
  {
   "cell_type": "code",
   "execution_count": 2,
   "metadata": {
    "collapsed": true
   },
   "outputs": [],
   "source": [
    "df = pd.read_csv('../data/finch_beaks.csv', comment='#')"
   ]
  },
  {
   "cell_type": "code",
   "execution_count": 3,
   "metadata": {
    "collapsed": false
   },
   "outputs": [
    {
     "data": {
      "text/html": [
       "<div>\n",
       "<table border=\"1\" class=\"dataframe\">\n",
       "  <thead>\n",
       "    <tr style=\"text-align: right;\">\n",
       "      <th></th>\n",
       "      <th>band</th>\n",
       "      <th>species</th>\n",
       "      <th>beak length (mm)</th>\n",
       "      <th>beak depth (mm)</th>\n",
       "      <th>year</th>\n",
       "    </tr>\n",
       "  </thead>\n",
       "  <tbody>\n",
       "    <tr>\n",
       "      <th>0</th>\n",
       "      <td>20123</td>\n",
       "      <td>fortis</td>\n",
       "      <td>9.25</td>\n",
       "      <td>8.05</td>\n",
       "      <td>1973</td>\n",
       "    </tr>\n",
       "    <tr>\n",
       "      <th>1</th>\n",
       "      <td>20126</td>\n",
       "      <td>fortis</td>\n",
       "      <td>11.35</td>\n",
       "      <td>10.45</td>\n",
       "      <td>1973</td>\n",
       "    </tr>\n",
       "    <tr>\n",
       "      <th>2</th>\n",
       "      <td>20128</td>\n",
       "      <td>fortis</td>\n",
       "      <td>10.15</td>\n",
       "      <td>9.55</td>\n",
       "      <td>1973</td>\n",
       "    </tr>\n",
       "    <tr>\n",
       "      <th>3</th>\n",
       "      <td>20129</td>\n",
       "      <td>fortis</td>\n",
       "      <td>9.95</td>\n",
       "      <td>8.75</td>\n",
       "      <td>1973</td>\n",
       "    </tr>\n",
       "    <tr>\n",
       "      <th>4</th>\n",
       "      <td>20133</td>\n",
       "      <td>fortis</td>\n",
       "      <td>11.55</td>\n",
       "      <td>10.15</td>\n",
       "      <td>1973</td>\n",
       "    </tr>\n",
       "  </tbody>\n",
       "</table>\n",
       "</div>"
      ],
      "text/plain": [
       "    band species  beak length (mm)  beak depth (mm)  year\n",
       "0  20123  fortis              9.25             8.05  1973\n",
       "1  20126  fortis             11.35            10.45  1973\n",
       "2  20128  fortis             10.15             9.55  1973\n",
       "3  20129  fortis              9.95             8.75  1973\n",
       "4  20133  fortis             11.55            10.15  1973"
      ]
     },
     "execution_count": 3,
     "metadata": {},
     "output_type": "execute_result"
    }
   ],
   "source": [
    "df.head()"
   ]
  },
  {
   "cell_type": "markdown",
   "metadata": {},
   "source": [
    "7.2 PART B"
   ]
  },
  {
   "cell_type": "code",
   "execution_count": 4,
   "metadata": {
    "collapsed": false
   },
   "outputs": [
    {
     "data": {
      "text/html": [
       "<div>\n",
       "<table border=\"1\" class=\"dataframe\">\n",
       "  <thead>\n",
       "    <tr style=\"text-align: right;\">\n",
       "      <th></th>\n",
       "      <th>band</th>\n",
       "      <th>species</th>\n",
       "      <th>beak length (mm)</th>\n",
       "      <th>beak depth (mm)</th>\n",
       "      <th>year</th>\n",
       "    </tr>\n",
       "  </thead>\n",
       "  <tbody>\n",
       "    <tr>\n",
       "      <th>73</th>\n",
       "      <td>20121</td>\n",
       "      <td>scandens</td>\n",
       "      <td>15.15</td>\n",
       "      <td>9.35</td>\n",
       "      <td>1973</td>\n",
       "    </tr>\n",
       "    <tr>\n",
       "      <th>74</th>\n",
       "      <td>20125</td>\n",
       "      <td>scandens</td>\n",
       "      <td>15.05</td>\n",
       "      <td>9.75</td>\n",
       "      <td>1973</td>\n",
       "    </tr>\n",
       "    <tr>\n",
       "      <th>75</th>\n",
       "      <td>20135</td>\n",
       "      <td>scandens</td>\n",
       "      <td>14.45</td>\n",
       "      <td>8.35</td>\n",
       "      <td>1973</td>\n",
       "    </tr>\n",
       "    <tr>\n",
       "      <th>76</th>\n",
       "      <td>20159</td>\n",
       "      <td>scandens</td>\n",
       "      <td>14.05</td>\n",
       "      <td>9.55</td>\n",
       "      <td>1973</td>\n",
       "    </tr>\n",
       "    <tr>\n",
       "      <th>77</th>\n",
       "      <td>20160</td>\n",
       "      <td>scandens</td>\n",
       "      <td>14.25</td>\n",
       "      <td>8.55</td>\n",
       "      <td>1973</td>\n",
       "    </tr>\n",
       "  </tbody>\n",
       "</table>\n",
       "</div>"
      ],
      "text/plain": [
       "     band   species  beak length (mm)  beak depth (mm)  year\n",
       "73  20121  scandens             15.15             9.35  1973\n",
       "74  20125  scandens             15.05             9.75  1973\n",
       "75  20135  scandens             14.45             8.35  1973\n",
       "76  20159  scandens             14.05             9.55  1973\n",
       "77  20160  scandens             14.25             8.55  1973"
      ]
     },
     "execution_count": 4,
     "metadata": {},
     "output_type": "execute_result"
    }
   ],
   "source": [
    "# Filter to get scandens\n",
    "inds = df['species'] == 'scandens' \n",
    "allScandens = df.loc[inds,: ]\n",
    "allScandens.head()"
   ]
  },
  {
   "cell_type": "code",
   "execution_count": 5,
   "metadata": {
    "collapsed": false
   },
   "outputs": [
    {
     "data": {
      "text/html": [
       "<div>\n",
       "<table border=\"1\" class=\"dataframe\">\n",
       "  <thead>\n",
       "    <tr style=\"text-align: right;\">\n",
       "      <th></th>\n",
       "      <th>band</th>\n",
       "      <th>species</th>\n",
       "      <th>beak length (mm)</th>\n",
       "      <th>beak depth (mm)</th>\n",
       "      <th>year</th>\n",
       "    </tr>\n",
       "  </thead>\n",
       "  <tbody>\n",
       "    <tr>\n",
       "      <th>405</th>\n",
       "      <td>302</td>\n",
       "      <td>scandens</td>\n",
       "      <td>13.9</td>\n",
       "      <td>8.4</td>\n",
       "      <td>1975</td>\n",
       "    </tr>\n",
       "    <tr>\n",
       "      <th>406</th>\n",
       "      <td>304</td>\n",
       "      <td>scandens</td>\n",
       "      <td>14.0</td>\n",
       "      <td>8.8</td>\n",
       "      <td>1975</td>\n",
       "    </tr>\n",
       "    <tr>\n",
       "      <th>407</th>\n",
       "      <td>306</td>\n",
       "      <td>scandens</td>\n",
       "      <td>12.9</td>\n",
       "      <td>8.4</td>\n",
       "      <td>1975</td>\n",
       "    </tr>\n",
       "    <tr>\n",
       "      <th>408</th>\n",
       "      <td>310</td>\n",
       "      <td>scandens</td>\n",
       "      <td>13.5</td>\n",
       "      <td>8.0</td>\n",
       "      <td>1975</td>\n",
       "    </tr>\n",
       "    <tr>\n",
       "      <th>409</th>\n",
       "      <td>317</td>\n",
       "      <td>scandens</td>\n",
       "      <td>12.9</td>\n",
       "      <td>7.9</td>\n",
       "      <td>1975</td>\n",
       "    </tr>\n",
       "  </tbody>\n",
       "</table>\n",
       "</div>"
      ],
      "text/plain": [
       "     band   species  beak length (mm)  beak depth (mm)  year\n",
       "405   302  scandens              13.9              8.4  1975\n",
       "406   304  scandens              14.0              8.8  1975\n",
       "407   306  scandens              12.9              8.4  1975\n",
       "408   310  scandens              13.5              8.0  1975\n",
       "409   317  scandens              12.9              7.9  1975"
      ]
     },
     "execution_count": 5,
     "metadata": {},
     "output_type": "execute_result"
    }
   ],
   "source": [
    "# Get all scandens in 1975\n",
    "inds1975 = allScandens['year'] == 1975\n",
    "scandens1975 = allScandens.loc[inds1975, :]\n",
    "scandens1975.head()"
   ]
  },
  {
   "cell_type": "code",
   "execution_count": 6,
   "metadata": {
    "collapsed": false
   },
   "outputs": [
    {
     "data": {
      "text/html": [
       "<div>\n",
       "<table border=\"1\" class=\"dataframe\">\n",
       "  <thead>\n",
       "    <tr style=\"text-align: right;\">\n",
       "      <th></th>\n",
       "      <th>band</th>\n",
       "      <th>species</th>\n",
       "      <th>beak length (mm)</th>\n",
       "      <th>beak depth (mm)</th>\n",
       "      <th>year</th>\n",
       "    </tr>\n",
       "  </thead>\n",
       "  <tbody>\n",
       "    <tr>\n",
       "      <th>2177</th>\n",
       "      <td>19026</td>\n",
       "      <td>scandens</td>\n",
       "      <td>14.3</td>\n",
       "      <td>9.4</td>\n",
       "      <td>2012</td>\n",
       "    </tr>\n",
       "    <tr>\n",
       "      <th>2178</th>\n",
       "      <td>19028</td>\n",
       "      <td>scandens</td>\n",
       "      <td>12.5</td>\n",
       "      <td>8.9</td>\n",
       "      <td>2012</td>\n",
       "    </tr>\n",
       "    <tr>\n",
       "      <th>2179</th>\n",
       "      <td>19029</td>\n",
       "      <td>scandens</td>\n",
       "      <td>13.7</td>\n",
       "      <td>9.5</td>\n",
       "      <td>2012</td>\n",
       "    </tr>\n",
       "    <tr>\n",
       "      <th>2180</th>\n",
       "      <td>19094</td>\n",
       "      <td>scandens</td>\n",
       "      <td>13.8</td>\n",
       "      <td>11.0</td>\n",
       "      <td>2012</td>\n",
       "    </tr>\n",
       "    <tr>\n",
       "      <th>2181</th>\n",
       "      <td>19122</td>\n",
       "      <td>scandens</td>\n",
       "      <td>12.0</td>\n",
       "      <td>8.7</td>\n",
       "      <td>2012</td>\n",
       "    </tr>\n",
       "  </tbody>\n",
       "</table>\n",
       "</div>"
      ],
      "text/plain": [
       "       band   species  beak length (mm)  beak depth (mm)  year\n",
       "2177  19026  scandens              14.3              9.4  2012\n",
       "2178  19028  scandens              12.5              8.9  2012\n",
       "2179  19029  scandens              13.7              9.5  2012\n",
       "2180  19094  scandens              13.8             11.0  2012\n",
       "2181  19122  scandens              12.0              8.7  2012"
      ]
     },
     "execution_count": 6,
     "metadata": {},
     "output_type": "execute_result"
    }
   ],
   "source": [
    "# Get all scandens in 2012\n",
    "inds2012 = allScandens['year'] == 2012\n",
    "scandens2012 = allScandens.loc[inds2012, :]\n",
    "scandens2012.head()"
   ]
  },
  {
   "cell_type": "code",
   "execution_count": 7,
   "metadata": {
    "collapsed": false
   },
   "outputs": [
    {
     "data": {
      "image/png": "[encoded data removed]",
      "text/plain": [
       "<matplotlib.figure.Figure at 0x7a8714400>"
      ]
     },
     "metadata": {},
     "output_type": "display_data"
    }
   ],
   "source": [
    "# Store data as Numpy arrays for speed later\n",
    "s1975 = scandens1975['beak length (mm)'].values\n",
    "s2012 = scandens2012['beak length (mm)'].values\n",
    "\n",
    "# Get x-y values for ECDF\n",
    "x_control, y_control = bebi103.ecdf(s1975)\n",
    "x_pest, y_pest = bebi103.ecdf(s2012)\n",
    "\n",
    "# Make plots\n",
    "plt.plot(x_control, y_control, marker='.', linestyle='none')\n",
    "plt.plot(x_pest, y_pest, marker='.', linestyle='none', \n",
    "         color=sns.color_palette()[2])\n",
    "plt.margins(0.02)\n",
    "plt.xlabel('Geospiza scandens beak length (mm)')\n",
    "plt.ylabel('ECDF')\n",
    "plt.legend(('1975', '2012'), loc='lower right');"
   ]
  },
  {
   "cell_type": "markdown",
   "metadata": {},
   "source": [
    "This is the ECDF for Geospiza scandens beak length of 1975 and 2012."
   ]
  },
  {
   "cell_type": "code",
   "execution_count": 8,
   "metadata": {
    "collapsed": false
   },
   "outputs": [
    {
     "name": "stdout",
     "output_type": "stream",
     "text": [
      "The means of beak lengths from our data: \n",
      "14.1209195402 mm for 1975.\n",
      "13.421023622 mm for 2012.\n",
      "\n",
      "We estimate mean lengths below.\n"
     ]
    }
   ],
   "source": [
    "print(\"The means of beak lengths from our data: \\n\" + str(sum(s1975) / len(s1975)) + \" mm for 1975.\")\n",
    "print (str(sum(s2012) / len(s2012)) + \" mm for 2012.\")\n",
    "print (\"\\nWe estimate mean lengths below.\")"
   ]
  },
  {
   "cell_type": "code",
   "execution_count": 9,
   "metadata": {
    "collapsed": true
   },
   "outputs": [],
   "source": [
    "@numba.jit(nopython=True)\n",
    "def draw_bs_sample(data):\n",
    "    \"\"\"\n",
    "    Draw a bootstrap sample from a 1D data set.\n",
    "    \"\"\"\n",
    "    return np.random.choice(data, size=len(data))"
   ]
  },
  {
   "cell_type": "code",
   "execution_count": 10,
   "metadata": {
    "collapsed": true
   },
   "outputs": [],
   "source": [
    "def draw_bs_reps(data, stat_fun, size=10000):\n",
    "    \"\"\"\n",
    "    Draw boostrap replicates computed with stat_fun from 1D data set.\n",
    "    \"\"\"\n",
    "    return np.array([stat_fun(draw_bs_sample(data)) for _ in range(size)])\n",
    "\n",
    "\n",
    "@numba.jit(nopython=True)\n",
    "def draw_bs_reps_mean(data, size=10000):\n",
    "    \"\"\"\n",
    "    Draw boostrap replicates of the mean from 1D data set.\n",
    "    \"\"\"\n",
    "    out = np.empty(size)\n",
    "    for i in range(size):\n",
    "        out[i] = np.mean(draw_bs_sample(data))\n",
    "    return out\n",
    "\n",
    "\n",
    "@numba.jit(nopython=True)\n",
    "def draw_bs_reps_median(data, size=10000):\n",
    "    \"\"\"\n",
    "    Draw boostrap replicates of the median from 1D data set.\n",
    "    \"\"\"\n",
    "    out = np.empty(size)\n",
    "    for i in range(size):\n",
    "        out[i] = np.median(draw_bs_sample(data))\n",
    "    return out\n",
    "\n",
    "@numba.jit(nopython=True)\n",
    "def draw_bs_reps_std(data, size=10000):\n",
    "    \"\"\"\n",
    "    Draw boostrap replicates of the standard deviation from 1D data set.\n",
    "    \"\"\"\n",
    "    out = np.empty(size)\n",
    "    for i in range(size):\n",
    "        out[i] = np.std(draw_bs_sample(data))\n",
    "    return out"
   ]
  },
  {
   "cell_type": "code",
   "execution_count": 11,
   "metadata": {
    "collapsed": false
   },
   "outputs": [],
   "source": [
    "bs_reps_mean_1975 = draw_bs_reps_mean(s1975)\n",
    "bs_reps_mean_2012 = draw_bs_reps_mean(s2012)\n",
    "meanEstimate1975 = sum(list(bs_reps_mean_1975)) / len(list(bs_reps_mean_1975))\n",
    "meanEstimate2012 = sum(list(bs_reps_mean_2012)) / len(list(bs_reps_mean_2012))"
   ]
  },
  {
   "cell_type": "code",
   "execution_count": 12,
   "metadata": {
    "collapsed": false
   },
   "outputs": [
    {
     "name": "stdout",
     "output_type": "stream",
     "text": [
      "Average of the bootstrap replicates for the means of the two years.\n",
      "\n",
      "The mean estimate for beak length of Geospiza scandens in 1975 is 14.1191967816 mm.\n",
      "The mean estimate for beak length of Geospiza scandens in 2012 is 13.4204354331 mm.\n"
     ]
    }
   ],
   "source": [
    "print (\"Average of the bootstrap replicates for the means of the two years.\\n\")\n",
    "\n",
    "print(\"The mean estimate for beak length of Geospiza scandens in 1975 is \" + str(meanEstimate1975) + \" mm.\")\n",
    "print(\"The mean estimate for beak length of Geospiza scandens in 2012 is \" + str(meanEstimate2012) + \" mm.\")"
   ]
  },
  {
   "cell_type": "code",
   "execution_count": 13,
   "metadata": {
    "collapsed": false
   },
   "outputs": [
    {
     "name": "stdout",
     "output_type": "stream",
     "text": [
      "\n",
      "Mean 1975 Geospiza scandens beak length 95% conf int (mm):   [13.96, 14.28]\n",
      "Mean 2012 Geospiza scandens beak length 95% conf int (mm): [13.29, 13.54]\n",
      "\n"
     ]
    }
   ],
   "source": [
    "# 95% confidence intervals\n",
    "mean_1975 = np.percentile(bs_reps_mean_1975, [2.5, 97.5])\n",
    "mean_2012 = np.percentile(bs_reps_mean_2012, [2.5, 97.5])\n",
    "\n",
    "print(\"\"\"\n",
    "Mean 1975 Geospiza scandens beak length 95% conf int (mm):   [{0:.2f}, {1:.2f}]\n",
    "Mean 2012 Geospiza scandens beak length 95% conf int (mm): [{2:.2f}, {3:.2f}]\n",
    "\"\"\".format(*(tuple(mean_1975) + tuple(mean_2012))))"
   ]
  },
  {
   "cell_type": "markdown",
   "metadata": {},
   "source": [
    "7.2 PART C"
   ]
  },
  {
   "cell_type": "markdown",
   "metadata": {
    "collapsed": true
   },
   "source": [
    "7.2 PART D"
   ]
  },
  {
   "cell_type": "markdown",
   "metadata": {},
   "source": [
    "The scalar value for beak shape is (1/2) x beak length x beak depth. We can think of beak shape as being analagous to the area of a finch beak if laid on a two dimensional plane. The beak resembles that of a triangle with base of length beak depth and height of beak length and to get the area, we do 1/2 x base x height = 1/2 x beak length x beak depth."
   ]
  },
  {
   "cell_type": "code",
   "execution_count": 14,
   "metadata": {
    "collapsed": false
   },
   "outputs": [],
   "source": [
    "lengths = list(df['beak length (mm)'])\n",
    "widths = list(df['beak depth (mm)'])\n",
    "shape = []\n",
    "for i in range(len(lengths)):\n",
    "    shape.append(0.5 * lengths[i] * widths[i])"
   ]
  },
  {
   "cell_type": "code",
   "execution_count": 15,
   "metadata": {
    "collapsed": true
   },
   "outputs": [],
   "source": [
    "df['Beak shape'] = shape"
   ]
  },
  {
   "cell_type": "code",
   "execution_count": 16,
   "metadata": {
    "collapsed": false
   },
   "outputs": [
    {
     "data": {
      "text/html": [
       "<div>\n",
       "<table border=\"1\" class=\"dataframe\">\n",
       "  <thead>\n",
       "    <tr style=\"text-align: right;\">\n",
       "      <th></th>\n",
       "      <th>band</th>\n",
       "      <th>species</th>\n",
       "      <th>beak length (mm)</th>\n",
       "      <th>beak depth (mm)</th>\n",
       "      <th>year</th>\n",
       "      <th>Beak shape</th>\n",
       "    </tr>\n",
       "  </thead>\n",
       "  <tbody>\n",
       "    <tr>\n",
       "      <th>0</th>\n",
       "      <td>20123</td>\n",
       "      <td>fortis</td>\n",
       "      <td>9.25</td>\n",
       "      <td>8.05</td>\n",
       "      <td>1973</td>\n",
       "      <td>37.23125</td>\n",
       "    </tr>\n",
       "    <tr>\n",
       "      <th>1</th>\n",
       "      <td>20126</td>\n",
       "      <td>fortis</td>\n",
       "      <td>11.35</td>\n",
       "      <td>10.45</td>\n",
       "      <td>1973</td>\n",
       "      <td>59.30375</td>\n",
       "    </tr>\n",
       "    <tr>\n",
       "      <th>2</th>\n",
       "      <td>20128</td>\n",
       "      <td>fortis</td>\n",
       "      <td>10.15</td>\n",
       "      <td>9.55</td>\n",
       "      <td>1973</td>\n",
       "      <td>48.46625</td>\n",
       "    </tr>\n",
       "    <tr>\n",
       "      <th>3</th>\n",
       "      <td>20129</td>\n",
       "      <td>fortis</td>\n",
       "      <td>9.95</td>\n",
       "      <td>8.75</td>\n",
       "      <td>1973</td>\n",
       "      <td>43.53125</td>\n",
       "    </tr>\n",
       "    <tr>\n",
       "      <th>4</th>\n",
       "      <td>20133</td>\n",
       "      <td>fortis</td>\n",
       "      <td>11.55</td>\n",
       "      <td>10.15</td>\n",
       "      <td>1973</td>\n",
       "      <td>58.61625</td>\n",
       "    </tr>\n",
       "  </tbody>\n",
       "</table>\n",
       "</div>"
      ],
      "text/plain": [
       "    band species  beak length (mm)  beak depth (mm)  year  Beak shape\n",
       "0  20123  fortis              9.25             8.05  1973    37.23125\n",
       "1  20126  fortis             11.35            10.45  1973    59.30375\n",
       "2  20128  fortis             10.15             9.55  1973    48.46625\n",
       "3  20129  fortis              9.95             8.75  1973    43.53125\n",
       "4  20133  fortis             11.55            10.15  1973    58.61625"
      ]
     },
     "execution_count": 16,
     "metadata": {},
     "output_type": "execute_result"
    }
   ],
   "source": [
    "df.head()"
   ]
  },
  {
   "cell_type": "markdown",
   "metadata": {},
   "source": [
    "We now have an updated dataframe with a new column for our scalar \"Beak shape\" as shown above."
   ]
  },
  {
   "cell_type": "markdown",
   "metadata": {},
   "source": [
    "For the open-ended portion of this question, we are going to compare the two species in ~20 year intervals (1973, 1991, 2012) and see how the species compare against one another each of these years and how each species compares with itself over time."
   ]
  },
  {
   "cell_type": "code",
   "execution_count": 17,
   "metadata": {
    "collapsed": false
   },
   "outputs": [
    {
     "data": {
      "text/html": [
       "<div>\n",
       "<table border=\"1\" class=\"dataframe\">\n",
       "  <thead>\n",
       "    <tr style=\"text-align: right;\">\n",
       "      <th></th>\n",
       "      <th>band</th>\n",
       "      <th>species</th>\n",
       "      <th>beak length (mm)</th>\n",
       "      <th>beak depth (mm)</th>\n",
       "      <th>year</th>\n",
       "      <th>Beak shape</th>\n",
       "    </tr>\n",
       "  </thead>\n",
       "  <tbody>\n",
       "    <tr>\n",
       "      <th>0</th>\n",
       "      <td>20123</td>\n",
       "      <td>fortis</td>\n",
       "      <td>9.25</td>\n",
       "      <td>8.05</td>\n",
       "      <td>1973</td>\n",
       "      <td>37.23125</td>\n",
       "    </tr>\n",
       "    <tr>\n",
       "      <th>1</th>\n",
       "      <td>20126</td>\n",
       "      <td>fortis</td>\n",
       "      <td>11.35</td>\n",
       "      <td>10.45</td>\n",
       "      <td>1973</td>\n",
       "      <td>59.30375</td>\n",
       "    </tr>\n",
       "    <tr>\n",
       "      <th>2</th>\n",
       "      <td>20128</td>\n",
       "      <td>fortis</td>\n",
       "      <td>10.15</td>\n",
       "      <td>9.55</td>\n",
       "      <td>1973</td>\n",
       "      <td>48.46625</td>\n",
       "    </tr>\n",
       "    <tr>\n",
       "      <th>3</th>\n",
       "      <td>20129</td>\n",
       "      <td>fortis</td>\n",
       "      <td>9.95</td>\n",
       "      <td>8.75</td>\n",
       "      <td>1973</td>\n",
       "      <td>43.53125</td>\n",
       "    </tr>\n",
       "    <tr>\n",
       "      <th>4</th>\n",
       "      <td>20133</td>\n",
       "      <td>fortis</td>\n",
       "      <td>11.55</td>\n",
       "      <td>10.15</td>\n",
       "      <td>1973</td>\n",
       "      <td>58.61625</td>\n",
       "    </tr>\n",
       "  </tbody>\n",
       "</table>\n",
       "</div>"
      ],
      "text/plain": [
       "    band species  beak length (mm)  beak depth (mm)  year  Beak shape\n",
       "0  20123  fortis              9.25             8.05  1973    37.23125\n",
       "1  20126  fortis             11.35            10.45  1973    59.30375\n",
       "2  20128  fortis             10.15             9.55  1973    48.46625\n",
       "3  20129  fortis              9.95             8.75  1973    43.53125\n",
       "4  20133  fortis             11.55            10.15  1973    58.61625"
      ]
     },
     "execution_count": 17,
     "metadata": {},
     "output_type": "execute_result"
    }
   ],
   "source": [
    "# Filter to get fortis\n",
    "inds = df['species'] == 'fortis' \n",
    "allFortis = df.loc[inds,: ]\n",
    "allFortis.head()"
   ]
  },
  {
   "cell_type": "code",
   "execution_count": 18,
   "metadata": {
    "collapsed": false
   },
   "outputs": [
    {
     "data": {
      "text/html": [
       "<div>\n",
       "<table border=\"1\" class=\"dataframe\">\n",
       "  <thead>\n",
       "    <tr style=\"text-align: right;\">\n",
       "      <th></th>\n",
       "      <th>band</th>\n",
       "      <th>species</th>\n",
       "      <th>beak length (mm)</th>\n",
       "      <th>beak depth (mm)</th>\n",
       "      <th>year</th>\n",
       "      <th>Beak shape</th>\n",
       "    </tr>\n",
       "  </thead>\n",
       "  <tbody>\n",
       "    <tr>\n",
       "      <th>73</th>\n",
       "      <td>20121</td>\n",
       "      <td>scandens</td>\n",
       "      <td>15.15</td>\n",
       "      <td>9.35</td>\n",
       "      <td>1973</td>\n",
       "      <td>70.82625</td>\n",
       "    </tr>\n",
       "    <tr>\n",
       "      <th>74</th>\n",
       "      <td>20125</td>\n",
       "      <td>scandens</td>\n",
       "      <td>15.05</td>\n",
       "      <td>9.75</td>\n",
       "      <td>1973</td>\n",
       "      <td>73.36875</td>\n",
       "    </tr>\n",
       "    <tr>\n",
       "      <th>75</th>\n",
       "      <td>20135</td>\n",
       "      <td>scandens</td>\n",
       "      <td>14.45</td>\n",
       "      <td>8.35</td>\n",
       "      <td>1973</td>\n",
       "      <td>60.32875</td>\n",
       "    </tr>\n",
       "    <tr>\n",
       "      <th>76</th>\n",
       "      <td>20159</td>\n",
       "      <td>scandens</td>\n",
       "      <td>14.05</td>\n",
       "      <td>9.55</td>\n",
       "      <td>1973</td>\n",
       "      <td>67.08875</td>\n",
       "    </tr>\n",
       "    <tr>\n",
       "      <th>77</th>\n",
       "      <td>20160</td>\n",
       "      <td>scandens</td>\n",
       "      <td>14.25</td>\n",
       "      <td>8.55</td>\n",
       "      <td>1973</td>\n",
       "      <td>60.91875</td>\n",
       "    </tr>\n",
       "  </tbody>\n",
       "</table>\n",
       "</div>"
      ],
      "text/plain": [
       "     band   species  beak length (mm)  beak depth (mm)  year  Beak shape\n",
       "73  20121  scandens             15.15             9.35  1973    70.82625\n",
       "74  20125  scandens             15.05             9.75  1973    73.36875\n",
       "75  20135  scandens             14.45             8.35  1973    60.32875\n",
       "76  20159  scandens             14.05             9.55  1973    67.08875\n",
       "77  20160  scandens             14.25             8.55  1973    60.91875"
      ]
     },
     "execution_count": 18,
     "metadata": {},
     "output_type": "execute_result"
    }
   ],
   "source": [
    "# Filter to get fortis\n",
    "inds = df['species'] == 'scandens' \n",
    "allScandens = df.loc[inds,: ]\n",
    "allScandens.head()"
   ]
  },
  {
   "cell_type": "code",
   "execution_count": 19,
   "metadata": {
    "collapsed": true
   },
   "outputs": [],
   "source": [
    "# Filter to get data corresponding to years 1973, 1991, and 2012 of scanden species\n",
    "inds1973 = allScandens['year'] == 1973\n",
    "scandens1973 = allScandens.loc[inds1973, :]\n",
    "\n",
    "inds1991 = allScandens['year'] == 1991\n",
    "scandens1991 = allScandens.loc[inds1991, :]\n",
    "\n",
    "inds2012 = allScandens['year'] == 2012\n",
    "scandens2012 = allScandens.loc[inds2012, :]"
   ]
  },
  {
   "cell_type": "code",
   "execution_count": 20,
   "metadata": {
    "collapsed": true
   },
   "outputs": [],
   "source": [
    "# Filter to get data corresponding to years 1973, 1991, and 2012 of fortis species\n",
    "\n",
    "inds1973 = allFortis['year'] == 1973\n",
    "fortis1973 = allFortis.loc[inds1973, :]\n",
    "\n",
    "inds1991 = allFortis['year'] == 1991\n",
    "fortis1991 = allFortis.loc[inds1991, :]\n",
    "\n",
    "inds2012 = allFortis['year'] == 2012\n",
    "fortis2012 = allFortis.loc[inds2012, :]\n"
   ]
  },
  {
   "cell_type": "code",
   "execution_count": 21,
   "metadata": {
    "collapsed": false
   },
   "outputs": [
    {
     "data": {
      "image/png": "[encoded data removed]",
      "text/plain": [
       "<matplotlib.figure.Figure at 0x7a932e860>"
      ]
     },
     "metadata": {},
     "output_type": "display_data"
    }
   ],
   "source": [
    "# Store data as Numpy arrays for speed later\n",
    "s1973 = scandens1973['Beak shape'].values\n",
    "s1991 = scandens1991['Beak shape'].values\n",
    "s2012 = scandens2012['Beak shape'].values\n",
    "# Get x-y values for ECDF\n",
    "x_control, y_control = bebi103.ecdf(s1973)\n",
    "x_pest, y_pest = bebi103.ecdf(s1991)\n",
    "x_pest1, y_pest1 = bebi103.ecdf(s2012)\n",
    "\n",
    "# Make plots\n",
    "plt.plot(x_control, y_control, marker='.', linestyle='none')\n",
    "plt.plot(x_pest, y_pest, marker='.', linestyle='none', \n",
    "         color=sns.color_palette()[2])\n",
    "plt.plot(x_pest1, y_pest1, marker='.', linestyle='none', \n",
    "         color=sns.color_palette()[1])\n",
    "plt.margins(0.02)\n",
    "plt.xlabel('Beak Shape (Scandens)')\n",
    "plt.ylabel('ECDF')\n",
    "plt.legend(('1975', '1991', '2012'), loc='lower right');"
   ]
  },
  {
   "cell_type": "markdown",
   "metadata": {},
   "source": [
    "Just visually looking at the ECDF, it appears that the beak shape has gotten smaller with time. Let's do another ECDF for the other species for the same years. "
   ]
  },
  {
   "cell_type": "code",
   "execution_count": 22,
   "metadata": {
    "collapsed": false
   },
   "outputs": [
    {
     "data": {
      "image/png": "[encoded data removed]",
      "text/plain": [
       "<matplotlib.figure.Figure at 0x7aa34b668>"
      ]
     },
     "metadata": {},
     "output_type": "display_data"
    }
   ],
   "source": [
    "# Store data as Numpy arrays for speed later\n",
    "f1973 = fortis1973['Beak shape'].values\n",
    "f1991 = fortis1991['Beak shape'].values\n",
    "f2012 = fortis2012['Beak shape'].values\n",
    "# Get x-y values for ECDF\n",
    "x_control, y_control = bebi103.ecdf(f1973)\n",
    "x_pest, y_pest = bebi103.ecdf(f1991)\n",
    "x_pest1, y_pest1 = bebi103.ecdf(f2012)\n",
    "\n",
    "# Make plots\n",
    "plt.plot(x_control, y_control, marker='.', linestyle='none')\n",
    "plt.plot(x_pest, y_pest, marker='.', linestyle='none', \n",
    "         color=sns.color_palette()[2])\n",
    "plt.plot(x_pest1, y_pest1, marker='.', linestyle='none', \n",
    "         color=sns.color_palette()[1])\n",
    "plt.margins(0.02)\n",
    "plt.xlabel('Beak Shape (Fortis)')\n",
    "plt.ylabel('ECDF')\n",
    "plt.legend(('1975', '1991', '2012'), loc='lower right');"
   ]
  },
  {
   "cell_type": "markdown",
   "metadata": {},
   "source": [
    "We see a similar trend in the Fortis species, but a more drastic drop in beak shape from 1991 to 2012 and a smaller decrease in beak shape from 1975 to 1991. This may be attributed to the severe drought in 1976 and 1977 explored in part (c)."
   ]
  },
  {
   "cell_type": "markdown",
   "metadata": {},
   "source": [
    "We will now keep the year constant, and plot ECDFs of the two species against one another for each year."
   ]
  },
  {
   "cell_type": "code",
   "execution_count": 23,
   "metadata": {
    "collapsed": false
   },
   "outputs": [
    {
     "data": {
      "image/png": "[encoded data removed]",
      "text/plain": [
       "<matplotlib.figure.Figure at 0x7a90c4470>"
      ]
     },
     "metadata": {},
     "output_type": "display_data"
    }
   ],
   "source": [
    "# Store data as Numpy arrays for speed later\n",
    "s1973 = scandens1973['Beak shape'].values\n",
    "f1973 = fortis1973['Beak shape'].values\n",
    "\n",
    "# Get x-y values for ECDF\n",
    "x_control, y_control = bebi103.ecdf(s1973)\n",
    "x_pest, y_pest = bebi103.ecdf(f1973)\n",
    "\n",
    "\n",
    "# Make plots\n",
    "plt.plot(x_control, y_control, marker='.', linestyle='none')\n",
    "plt.plot(x_pest, y_pest, marker='.', linestyle='none', \n",
    "         color=sns.color_palette()[2])\n",
    "\n",
    "plt.margins(0.02)\n",
    "plt.xlabel('Beak Shape (1973)')\n",
    "plt.ylabel('ECDF')\n",
    "plt.legend(('Scandens', 'Fortis'), loc='lower right');"
   ]
  },
  {
   "cell_type": "code",
   "execution_count": 24,
   "metadata": {
    "collapsed": false
   },
   "outputs": [
    {
     "data": {
      "image/png": "[encoded data removed]",
      "text/plain": [
       "<matplotlib.figure.Figure at 0x7aa428940>"
      ]
     },
     "metadata": {},
     "output_type": "display_data"
    }
   ],
   "source": [
    "# Store data as Numpy arrays for speed later\n",
    "s1991 = scandens1991['Beak shape'].values\n",
    "f1991 = fortis1991['Beak shape'].values\n",
    "\n",
    "# Get x-y values for ECDF\n",
    "x_control, y_control = bebi103.ecdf(s1991)\n",
    "x_pest, y_pest = bebi103.ecdf(f1991)\n",
    "\n",
    "\n",
    "# Make plots\n",
    "plt.plot(x_control, y_control, marker='.', linestyle='none')\n",
    "plt.plot(x_pest, y_pest, marker='.', linestyle='none', \n",
    "         color=sns.color_palette()[2])\n",
    "\n",
    "plt.margins(0.02)\n",
    "plt.xlabel('Beak Shape (1991)')\n",
    "plt.ylabel('ECDF')\n",
    "plt.legend(('Scandens', 'Fortis'), loc='lower right');"
   ]
  },
  {
   "cell_type": "code",
   "execution_count": 25,
   "metadata": {
    "collapsed": false
   },
   "outputs": [
    {
     "data": {
      "image/png": "[encoded data removed]",
      "text/plain": [
       "<matplotlib.figure.Figure at 0x7aa49d6d8>"
      ]
     },
     "metadata": {},
     "output_type": "display_data"
    }
   ],
   "source": [
    "# Store data as Numpy arrays for speed later\n",
    "s2012 = scandens2012['Beak shape'].values\n",
    "f2012 = fortis2012['Beak shape'].values\n",
    "\n",
    "# Get x-y values for ECDF\n",
    "x_control, y_control = bebi103.ecdf(s2012)\n",
    "x_pest, y_pest = bebi103.ecdf(f2012)\n",
    "\n",
    "\n",
    "# Make plots\n",
    "plt.plot(x_control, y_control, marker='.', linestyle='none')\n",
    "plt.plot(x_pest, y_pest, marker='.', linestyle='none', \n",
    "         color=sns.color_palette()[2])\n",
    "\n",
    "plt.margins(0.02)\n",
    "plt.xlabel('Beak Shape (2012)')\n",
    "plt.ylabel('ECDF')\n",
    "plt.legend(('Scandens', 'Fortis'), loc='lower right');"
   ]
  },
  {
   "cell_type": "markdown",
   "metadata": {},
   "source": [
    "Just looking at the ECDFs comparing the two species over time, it seems that finches of the specie Fortis have larger beak shapes than those of species Scandens. "
   ]
  },
  {
   "cell_type": "markdown",
   "metadata": {},
   "source": [
    "Now, to get some actual quantites, we will provide estimates for mean and confidence intervals for both species in each of the three years chosen (1973, 19991, and 2012)."
   ]
  },
  {
   "cell_type": "code",
   "execution_count": 26,
   "metadata": {
    "collapsed": false
   },
   "outputs": [
    {
     "name": "stdout",
     "output_type": "stream",
     "text": [
      "\n",
      "1973 scandens beak shape mean: 69.06. The 95% conf int (mm^2): 65.66, 72.50\n",
      "1991 scandens beak shape mean: 63.38. The 95% conf int (mm^2): 62.02, 64.71\n",
      "2012 scandens beak shape mean: 61.76. The 95% conf int (mm^2): 60.60, 62.90\n",
      "\n",
      "\n",
      "\n",
      "1973 fortis beak shape mean: 51.29. The 95% conf int (mm^2): 49.48, 53.13\n",
      "1991 fortis beak shape mean: 50.34. The 95% conf int (mm^2): 49.69, 50.98\n",
      "2012 fortis beak shape mean: 45.47. The 95% conf int (mm^2): 44.26, 46.75\n",
      "\n",
      "\n"
     ]
    }
   ],
   "source": [
    "# Mean estimates for scandens\n",
    "\n",
    "bs_reps_mean_1973s = draw_bs_reps_mean(s1973)\n",
    "bs_reps_mean_1991s = draw_bs_reps_mean(s1991)\n",
    "bs_reps_mean_2012s = draw_bs_reps_mean(s2012)\n",
    "\n",
    "meanEstimate1973s = sum(list(bs_reps_mean_1973s)) / len(list(bs_reps_mean_1973s))\n",
    "meanEstimate1991s = sum(list(bs_reps_mean_1991s)) / len(list(bs_reps_mean_1991s))\n",
    "meanEstimate2012s = sum(list(bs_reps_mean_2012s)) / len(list(bs_reps_mean_2012s))\n",
    "\n",
    "# 95% confidence intervals for scandens\n",
    "mean_1973s = np.percentile(bs_reps_mean_1973s, [2.5, 97.5])\n",
    "mean_1991s = np.percentile(bs_reps_mean_1991s, [2.5, 97.5])\n",
    "mean_2012s = np.percentile(bs_reps_mean_2012s, [2.5, 97.5])\n",
    "# Mean estimates for fortis\n",
    "\n",
    "bs_reps_mean_1973f = draw_bs_reps_mean(f1973)\n",
    "bs_reps_mean_1991f = draw_bs_reps_mean(f1991)\n",
    "bs_reps_mean_2012f = draw_bs_reps_mean(f2012)\n",
    "\n",
    "meanEstimate1973f = sum(list(bs_reps_mean_1973f)) / len(list(bs_reps_mean_1973f))\n",
    "meanEstimate1991f = sum(list(bs_reps_mean_1991f)) / len(list(bs_reps_mean_1991f))\n",
    "meanEstimate2012f = sum(list(bs_reps_mean_2012f)) / len(list(bs_reps_mean_2012f))\n",
    "\n",
    "# 95% confidence intervals for fortis\n",
    "mean_1973f = np.percentile(bs_reps_mean_1973f, [2.5, 97.5])\n",
    "mean_1991f = np.percentile(bs_reps_mean_1991f, [2.5, 97.5])\n",
    "mean_2012f = np.percentile(bs_reps_mean_2012f, [2.5, 97.5])\n",
    "\n",
    "print(\"\"\"\n",
    "1973 scandens beak shape mean: {:.2f}. The 95% conf int (mm^2): {:.2f}, {:.2f}\n",
    "1991 scandens beak shape mean: {:.2f}. The 95% conf int (mm^2): {:.2f}, {:.2f}\n",
    "2012 scandens beak shape mean: {:.2f}. The 95% conf int (mm^2): {:.2f}, {:.2f}\n",
    "\n",
    "\"\"\".format(meanEstimate1973s, mean_1973s[0], mean_1973s[1], meanEstimate1991s, mean_1991s[0], mean_1991s[1], meanEstimate2012s, mean_2012s[0], mean_2012s[1])) \n",
    "print(\"\"\"\n",
    "1973 fortis beak shape mean: {:.2f}. The 95% conf int (mm^2): {:.2f}, {:.2f}\n",
    "1991 fortis beak shape mean: {:.2f}. The 95% conf int (mm^2): {:.2f}, {:.2f}\n",
    "2012 fortis beak shape mean: {:.2f}. The 95% conf int (mm^2): {:.2f}, {:.2f}\n",
    "\n",
    "\"\"\".format(meanEstimate1973f, mean_1973f[0], mean_1973f[1], meanEstimate1991f, mean_1991f[0], mean_1991f[1], meanEstimate2012f, mean_2012f[0], mean_2012f[1])) \n",
    "\n"
   ]
  },
  {
   "cell_type": "markdown",
   "metadata": {},
   "source": [
    "With actual quantitative estimates, a lot of what we speculated in the plotting of our ECDFs appear to be supported. Among each species, we see decreasing beak shape means as time goes by and for each year, we see that scandens have a larger mean than fortis.\n",
    "\n",
    "Let's now conduct some hypothesis tests and generate some p-values."
   ]
  },
  {
   "cell_type": "markdown",
   "metadata": {},
   "source": [
    "**7.2 PART E**"
   ]
  },
  {
   "cell_type": "code",
   "execution_count": 27,
   "metadata": {
    "collapsed": true
   },
   "outputs": [],
   "source": [
    "dfScandens = pd.read_csv('../data/scandens_beak_depth_heredity.csv', comment='#')\n",
    "dfFortis = pd.read_csv('../data/fortis_beak_depth_heredity.csv', comment='#')"
   ]
  },
  {
   "cell_type": "code",
   "execution_count": 47,
   "metadata": {
    "collapsed": false
   },
   "outputs": [
    {
     "data": {
      "text/html": [
       "<div>\n",
       "<table border=\"1\" class=\"dataframe\">\n",
       "  <thead>\n",
       "    <tr style=\"text-align: right;\">\n",
       "      <th></th>\n",
       "      <th>mid_parent</th>\n",
       "      <th>mid_offspring</th>\n",
       "    </tr>\n",
       "  </thead>\n",
       "  <tbody>\n",
       "    <tr>\n",
       "      <th>0</th>\n",
       "      <td>8.3318</td>\n",
       "      <td>8.4190</td>\n",
       "    </tr>\n",
       "    <tr>\n",
       "      <th>1</th>\n",
       "      <td>8.4035</td>\n",
       "      <td>9.2468</td>\n",
       "    </tr>\n",
       "    <tr>\n",
       "      <th>2</th>\n",
       "      <td>8.5317</td>\n",
       "      <td>8.1532</td>\n",
       "    </tr>\n",
       "    <tr>\n",
       "      <th>3</th>\n",
       "      <td>8.7202</td>\n",
       "      <td>8.0089</td>\n",
       "    </tr>\n",
       "    <tr>\n",
       "      <th>4</th>\n",
       "      <td>8.7089</td>\n",
       "      <td>8.2215</td>\n",
       "    </tr>\n",
       "  </tbody>\n",
       "</table>\n",
       "</div>"
      ],
      "text/plain": [
       "   mid_parent  mid_offspring\n",
       "0      8.3318         8.4190\n",
       "1      8.4035         9.2468\n",
       "2      8.5317         8.1532\n",
       "3      8.7202         8.0089\n",
       "4      8.7089         8.2215"
      ]
     },
     "execution_count": 47,
     "metadata": {},
     "output_type": "execute_result"
    }
   ],
   "source": [
    "mid_parentS = np.asarray(dfScandens['mid_parent'].values)\n",
    "mid_offS = np.asarray(dfScandens['mid_offspring'].values)\n",
    "dfScandens.head()"
   ]
  },
  {
   "cell_type": "code",
   "execution_count": 29,
   "metadata": {
    "collapsed": false
   },
   "outputs": [],
   "source": [
    "mid_parentF = []\n",
    "maleBD = dfFortis['Male BD']\n",
    "femaleBD = dfFortis['Female BD']\n",
    "for i in range(len(maleBD)):\n",
    "    mid_parentF.append((maleBD[i] + femaleBD[i]) / 2)\n",
    "dfFortis['mid_parent'] = mid_parentF\n",
    "mid_parentF = np.asarray(mid_parentF)\n",
    "mid_offF = np.asarray(dfFortis['Mid-offspr'].values)"
   ]
  },
  {
   "cell_type": "code",
   "execution_count": 30,
   "metadata": {
    "collapsed": false
   },
   "outputs": [
    {
     "data": {
      "text/html": [
       "<div>\n",
       "<table border=\"1\" class=\"dataframe\">\n",
       "  <thead>\n",
       "    <tr style=\"text-align: right;\">\n",
       "      <th></th>\n",
       "      <th>Mid-offspr</th>\n",
       "      <th>Male BD</th>\n",
       "      <th>Female BD</th>\n",
       "      <th>mid_parent</th>\n",
       "    </tr>\n",
       "  </thead>\n",
       "  <tbody>\n",
       "    <tr>\n",
       "      <th>0</th>\n",
       "      <td>10.70</td>\n",
       "      <td>10.90</td>\n",
       "      <td>9.3</td>\n",
       "      <td>10.100</td>\n",
       "    </tr>\n",
       "    <tr>\n",
       "      <th>1</th>\n",
       "      <td>9.78</td>\n",
       "      <td>10.70</td>\n",
       "      <td>8.4</td>\n",
       "      <td>9.550</td>\n",
       "    </tr>\n",
       "    <tr>\n",
       "      <th>2</th>\n",
       "      <td>9.48</td>\n",
       "      <td>10.70</td>\n",
       "      <td>8.1</td>\n",
       "      <td>9.400</td>\n",
       "    </tr>\n",
       "    <tr>\n",
       "      <th>3</th>\n",
       "      <td>9.60</td>\n",
       "      <td>10.70</td>\n",
       "      <td>9.8</td>\n",
       "      <td>10.250</td>\n",
       "    </tr>\n",
       "    <tr>\n",
       "      <th>4</th>\n",
       "      <td>10.27</td>\n",
       "      <td>9.85</td>\n",
       "      <td>10.4</td>\n",
       "      <td>10.125</td>\n",
       "    </tr>\n",
       "  </tbody>\n",
       "</table>\n",
       "</div>"
      ],
      "text/plain": [
       "   Mid-offspr  Male BD  Female BD  mid_parent\n",
       "0       10.70    10.90        9.3      10.100\n",
       "1        9.78    10.70        8.4       9.550\n",
       "2        9.48    10.70        8.1       9.400\n",
       "3        9.60    10.70        9.8      10.250\n",
       "4       10.27     9.85       10.4      10.125"
      ]
     },
     "execution_count": 30,
     "metadata": {},
     "output_type": "execute_result"
    }
   ],
   "source": [
    "dfFortis.head()"
   ]
  },
  {
   "cell_type": "markdown",
   "metadata": {},
   "source": [
    "Note we have an extra column (called 'mid_parent') now, that stores the average of parent beak depth: $\\frac{\\text{Male BD + Female BD}}{2}$."
   ]
  },
  {
   "cell_type": "code",
   "execution_count": 56,
   "metadata": {
    "collapsed": true
   },
   "outputs": [],
   "source": [
    "def calculateRatio(parents, offspring):\n",
    "    variance = np.var(parents)\n",
    "    covariance = np.cov(parents, offspring)\n",
    "    cov = covariance[0,1]\n",
    "    return cov/variance"
   ]
  },
  {
   "cell_type": "code",
   "execution_count": 57,
   "metadata": {
    "collapsed": true
   },
   "outputs": [],
   "source": [
    "def returnBootStrapPairs(x, y):\n",
    "    n = len(x)\n",
    "    inds = np.arange(n)\n",
    "    bs_inds = np.random.choice(inds, size=n)\n",
    "    bs_x, bs_y = x[bs_inds], y[bs_inds]\n",
    "    return bs_x, bs_y"
   ]
  },
  {
   "cell_type": "code",
   "execution_count": 104,
   "metadata": {
    "collapsed": false
   },
   "outputs": [],
   "source": [
    "# We will now determine mean and confidence intervals for the Scanden species\n",
    "ratioS = []\n",
    "\n",
    "for i in range(10000): # 10000 bootstrap runs\n",
    "    parent, off = returnBootStrapPairs(mid_parentS, mid_offS) # This function swaps indices to keep parent/offspring pairing\n",
    "    ratioS.append(calculateRatio(parent, off))\n",
    "totalSum = 0\n",
    "for j in ratioS:\n",
    "    totalSum += np.mean(j)\n",
    "meanEstimateS = totalSum/ len(ratioS)  #Calculate mean estimate\n",
    "confidenceIntervalS = np.percentile(ratioS, [2.5, 97.5])  #Calculate CI"
   ]
  },
  {
   "cell_type": "code",
   "execution_count": 105,
   "metadata": {
    "collapsed": false
   },
   "outputs": [],
   "source": [
    "# We will now determine mean and confidence intervals for the Scanden species\n",
    "ratioF = []\n",
    "\n",
    "for i in range(100000):\n",
    "    parent, off = returnBootStrapPairs(mid_parentF, mid_offF)\n",
    "    ratioF.append(calculateRatio(parent, off))\n",
    "totalSum = 0\n",
    "for j in ratioF:\n",
    "    totalSum += np.mean(j)\n",
    "meanEstimateF = totalSum/ len(ratioF)\n",
    "confidenceIntervalF = np.percentile(ratioF, [2.5, 97.5])"
   ]
  },
  {
   "cell_type": "code",
   "execution_count": 107,
   "metadata": {
    "collapsed": false
   },
   "outputs": [
    {
     "name": "stdout",
     "output_type": "stream",
     "text": [
      "\n",
      "Scandens heritability ratio mean: 0.554. The 95% conf int : [0.350, 0.761]\n",
      "Fortis heritability ratio mean: 0.725. The 95% conf int : [0.648, 0.799]\n",
      "\n",
      "\n"
     ]
    }
   ],
   "source": [
    "print(\"\"\"\n",
    "Scandens heritability ratio mean: {:.3f}. The 95% conf int : [{:.3f}, {:.3f}]\n",
    "Fortis heritability ratio mean: {:.3f}. The 95% conf int : [{:.3f}, {:.3f}]\n",
    "\n",
    "\"\"\".format(meanEstimateS, confidenceIntervalS[0], confidenceIntervalS[1], meanEstimateF, confidenceIntervalF[0], confidenceIntervalF[1]))"
   ]
  },
  {
   "cell_type": "markdown",
   "metadata": {},
   "source": [
    "Introgressive hybridization seems likely. It appears that the Fortis species has a higher heritability ratio than that of the Scanden species. We should take note that the Scandens species has a much larger confidence interval than that of the Fortis species, and furthermore, the fortis heritability ratio mean lies in the scandens 95% confidence interval. Thus, although the Fortis species has a higher heritability ratio, this difference is not signicant at the 95% confidence level.\n",
    "\n",
    "From the given definition of heritability, this would suggest that, although not significant, the Fortis species is more apt at repeated backcrossing and transferring the specific trait of beak depth to the other Scandens species. Perhaps, over many generations, the Scandens may start having beak depths resembling that of Fortis. "
   ]
  },
  {
   "cell_type": "code",
   "execution_count": null,
   "metadata": {
    "collapsed": true
   },
   "outputs": [],
   "source": []
  }
 ],
 "metadata": {
  "anaconda-cloud": {},
  "kernelspec": {
   "display_name": "Python [Root]",
   "language": "python",
   "name": "Python [Root]"
  },
  "language_info": {
   "codemirror_mode": {
    "name": "ipython",
    "version": 3
   },
   "file_extension": ".py",
   "mimetype": "text/x-python",
   "name": "python",
   "nbconvert_exporter": "python",
   "pygments_lexer": "ipython3",
   "version": "3.5.2"
  }
 },
 "nbformat": 4,
 "nbformat_minor": 0
}
