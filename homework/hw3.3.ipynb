{
 "cells": [
  {
   "cell_type": "markdown",
   "metadata": {},
   "source": [
    "Assume that the two measurements are independent. Then, \n",
    "\n",
    "\\begin{align}\n",
    "P(\\mu \\mid \\mu_1, \\sigma_1, \\mu_2, \\sigma_2) \\propto \\exp{[\\frac{(\\mu_1 - \\mu)^2}{2 \\sigma_1^2}} + \\frac{(\\mu_2- \\mu)^2}{2 \\sigma_2^2}]\n",
    "\\end{align}\n",
    "\n",
    "We want to make sure that the function is in the form of \n",
    "\n",
    "\\begin{align}\n",
    "P(\\mu \\mid \\mu_1, \\sigma_1, \\mu_2, \\sigma_2) \\propto \\exp{[\\frac{(\\mu - f(\\mu_1, \\sigma_1, \\mu_2, \\sigma_2))^2}{g(\\mu_1, \\sigma_1, \\mu_2, \\sigma_2)}}]\n",
    "\\end{align}\n",
    "\n",
    "Then, we say that f and g are the mean and variance of the combined distribution, respectively. \n",
    "We will perform some algebraic manipulations to put the first equation in the desired form. \n",
    "\\begin{align}\n",
    "\\propto \\exp{[\\frac{(\\mu_2^2 - 2\\mu_2\\mu + \\mu^2)\\sigma_1^2 + (\\mu_1^2 - 2\\mu_1\\mu + \\mu^2)\\sigma_2^2}{2\\sigma_1^2\\sigma_2^2}]}\n",
    "\\end{align}\n",
    "\\begin{align}\n",
    "= \\exp{[\\frac{\\mu^2(\\sigma_2^2 + \\sigma_1^2) + [\\sigma_2^2\\mu_1^2-2\\mu_1\\mu\\sigma_2^2+\\sigma_1^2\\mu_2^2-2\\mu_2\\mu\\sigma_1^2]}{2\\sigma_1^2\\sigma_2^2}]}\n",
    "\\end{align}\n",
    "\\begin{align}\n",
    "= \\exp{[\\frac{\\mu^2(\\sigma_2^2 + \\sigma_1^2) + [\\sigma_2^2\\mu_1^2+\\sigma_1^2\\mu_2^2-2\\mu(\\mu_1\\sigma_2^2+\\mu_2\\sigma_1^2)]}{2\\sigma_1^2\\sigma_2^2}]}\n",
    "\\end{align}\n",
    "\n",
    "Notice that $\\sigma_2^2\\mu_1^2+\\sigma_1^2\\mu_2^2$ is a constant, so it can be incorporated into the constant of proportionality: \n",
    "\\begin{align}\n",
    "\\propto \\exp{[\\frac{\\mu^2(\\sigma_2^2 + \\sigma_1^2) -2\\mu(\\mu_1\\sigma_2^2+\\mu_2\\sigma_1^2)}{2\\sigma_1^2\\sigma_2^2}]}\n",
    "\\end{align}\n",
    "\n",
    "Now, let's divide both sides by the sum of the two variances: \n",
    "\\begin{align}\n",
    "= \\exp{[\\frac{\\mu^2-2\\mu\\large\\frac{(\\mu_1\\sigma_2^2+\\mu_2\\sigma_1^2)}{(\\sigma_2^2 + \\sigma_1^2)}}{\\large\\frac{2\\sigma_1^2\\sigma_2^2}{\\sigma_2^2 + \\sigma_1^2}}]}\n",
    "\\end{align}\n",
    "\n",
    "\\begin{align}\n",
    "= \\exp{[\\frac{(\\mu-\\large\\frac{\\mu_1\\sigma_2^2+\\mu_2\\sigma_1^2}{\\sigma_2^2 + \\sigma_1^2})^2}{\\large\\frac{2\\sigma_1^2\\sigma_2^2}{\\sigma_2^2 + \\sigma_1^2}}]}\n",
    "\\end{align}\n",
    "\n",
    "We're done! We arranged the initial expression in a form that gives us the combined mean and standard error. Rearranging the result, we get\n",
    "\n",
    "\\begin{align}\n",
    "Standard Error = (\\frac{1}{\\sigma_1^2} + \\frac{1}{\\sigma_2^2})^{-1}\n",
    "\\end{align}\n",
    "\\begin{align}\n",
    "Mean = (\\frac{1}{\\sigma_1^2} + \\frac{1}{\\sigma_2^2})^{-1} (\\frac{\\mu_1}{\\sigma_1^2} + \\frac{\\mu_2}{\\sigma_2^2})\n",
    "\\end{align}"
   ]
  },
  {
   "cell_type": "markdown",
   "metadata": {},
   "source": [
    "<div class='alert alert-info'>\n",
    "Good job, but what you showed as $StandardError$ isn't the standard error. It's the variance. If you want ot report the standard deviation, it would be\n",
    "\n",
    "$$\n",
    "\\begin{align}\n",
    "\\sigma = \\left(\\frac{1}{\\sigma_1^2} + \\frac{1}{\\sigma_2^2}\\right)^{-\\frac{1}{2}}\n",
    "\\end{align}\n",
    "$$\n",
    "\n",
    "You should also note that this is a general result of gaussian distributed data such that \n",
    "\n",
    "$$\n",
    "\\begin{align}\n",
    "\\sigma^2 &= \\left(\\sum\\limits_i\\frac{1}{\\sigma_i^2}\\right)^{-1}\\\\\n",
    "\\mu &= \\sigma^2\\sum\\limits_i\\frac{\\mu_i}{\\sigma_i^2}.\n",
    "\\end{align}\n",
    "$$\n",
    "\n",
    "</div>"
   ]
  },
  {
   "cell_type": "markdown",
   "metadata": {},
   "source": [
    "<div class='alert alert-info'>\n",
    "9/10\n",
    "</div>"
   ]
  }
 ],
 "metadata": {
  "kernelspec": {
   "display_name": "Python 3",
   "language": "python",
   "name": "python3"
  },
  "language_info": {
   "codemirror_mode": {
    "name": "ipython",
    "version": 3
   },
   "file_extension": ".py",
   "mimetype": "text/x-python",
   "name": "python",
   "nbconvert_exporter": "python",
   "pygments_lexer": "ipython3",
   "version": "3.4.5"
  }
 },
 "nbformat": 4,
 "nbformat_minor": 0
}
