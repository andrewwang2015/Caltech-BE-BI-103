{
 "cells": [
  {
   "cell_type": "markdown",
   "metadata": {
    "collapsed": true
   },
   "source": [
    "analysis is\n",
    "my dream, my love, my soul, miss\n",
    "so more data please \n",
    "\n",
    "-- Berk\n",
    "\n",
    "I love big data\n",
    "Bi One O Three will teach me\n",
    "to analyze stuff\n",
    "\n",
    "-- Andrew\n",
    "\n",
    "Whether it’s tidy\n",
    "or not; we need to make sense\n",
    "of what we collect\n",
    "\n",
    "-- Steven"
   ]
  },
  {
   "cell_type": "markdown",
   "metadata": {},
   "source": [
    "<div class=\"alert alert-info\"> <center>\n",
    "I know that <br/>\n",
    "will give you full credit <br />\n",
    "but stick to science <br />\n",
    "</center>\n",
    "\n",
    "20/20\n",
    "</div>"
   ]
  }
 ],
 "metadata": {
  "anaconda-cloud": {},
  "kernelspec": {
   "display_name": "Python 3",
   "language": "python",
   "name": "python3"
  },
  "language_info": {
   "codemirror_mode": {
    "name": "ipython",
    "version": 3
   },
   "file_extension": ".py",
   "mimetype": "text/x-python",
   "name": "python",
   "nbconvert_exporter": "python",
   "pygments_lexer": "ipython3",
   "version": "3.4.5"
  }
 },
 "nbformat": 4,
 "nbformat_minor": 0
}
