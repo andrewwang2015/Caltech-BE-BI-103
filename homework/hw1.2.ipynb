{
 "cells": [
  {
   "cell_type": "markdown",
   "metadata": {
    "collapsed": false
   },
   "source": [
    "\n",
    "My goal for this class is to really learn how to use computer science (which I'm majoring in) to read, organize,\n",
    "and present data in an informative manner. This is a critical skill that is very sought after in both industry and\n",
    "in academia, so learning the stepping stones of such a versatile technique is priceless. Although I am majoring in \n",
    "computer science, I do have a keen interest in biology. I've done some biology research in high school (at NIH) and \n",
    "really enjoyed Bi 001 last year so to be able to integrate these two different sciences is highly appealing to me. I \n",
    "really look forward to learning the 'art of data analysis' including how to present data.\n",
    "\n",
    "Data is prevalent, so wherever and whatever I end up doing as a career, I know learning how to analyze data will prove\n",
    "to be a critical skill that will undoubtedly be put to use. Companies have tons of data and they often look for people\n",
    "to make sense of such data. Machine learning, which is a concept that has really taken off as of late, relies on large\n",
    "data sets as well.\n",
    "\n",
    "As of now, I'm rather interested in how clustering works, specifically how to segment data sets that seem to have\n",
    "disorganized data. Currently, I do not have preexisting points of confusion.\n",
    "\n",
    "-- Andrew Wang                                                            "
   ]
  },
  {
   "cell_type": "markdown",
   "metadata": {},
   "source": [
    "Goals:\n",
    "1. Learn precisely what data analysis consists of, and what it is used for.\n",
    "2. Learn the methods of data analysis, specifically how I can use computer science techniques (my major)\n",
    "   to aid in data analysis.\n",
    "3. Learn the mathematical underpinnings of data analysis.\n",
    "4. Learn more about biology. I am interested in the practice of biology, particularly research through experiements, \n",
    "   and obtaining results from making sense of the collected data.\n",
    "\n",
    "How do I use skills acquired in this class:\n",
    "I am unsure as to what exactly I would like to do in my future, but I am certain that understanding and\n",
    "being able to do data analysis will be helpful in my academic/industrial career, as large data sets are\n",
    "something virtually every company/research group must handle and interpret.\n",
    "\n",
    "Specific Techniques:\n",
    "I wonder how machine learning and data analysis intersect. I would be very interested to learn more about that.\n",
    "I would also be interested to learn more about the databases the large data sets are stored in. I've read about\n",
    "how some companies are using non-relational databases such as MongoDB to store big data, and I'm very interested\n",
    "to learn more.\n",
    "\n",
    "-- Steven Brotz"
   ]
  },
  {
   "cell_type": "markdown",
   "metadata": {
    "collapsed": true
   },
   "source": [
    "Goals:\n",
    "In BE/Bi 103, I hope to gain insights into data analysis and Bayesian estimation. Most academic papers I've read use statistics\n",
    "to justify their claims, but I know embarrassingly little about how to test a hypothesis, which statistical models are the right\n",
    "ones to choose from and how exactly \"statistical significance\" is assessed in academic papers. I would love to dig deeper into \n",
    "theoretical statistics as well as learn from a more hands-on approach. Also, I've never run a neural network simulation before,\n",
    "and I know it's not directly related to the course, but I'd like to learn more about that as well. \n",
    "Statistics is by far my favorite subject and I hope to learn as much as I can in 10 weeks!\n",
    "\n",
    "How I hope to apply the concepts I learn in BE/Bi 103 to my future work:\n",
    "Considering my current future plans, I will probably not pursue data science as a career. However, I hope I'll be able to\n",
    "look at any academic paper, understand the statistical analysis that the authors performed and be an informed reader instead of \n",
    "reading the abstract and the conclusion sections and trusting the authors that their statistics are sound. Similarly, I consider\n",
    "it an important skill in life to be able to separate rigorous findings from pseudo-scientific claims backed by poor data or \n",
    "misinformed statistics. I like to read The Economist in my spare time, and a lot of their articles bombard the reader with\n",
    "numbers, charts and figures without going into too much detail about the statistical methods or their justification. Overall, \n",
    "data analysis is relevant to every single realm of research, and even if I don't get involved in it directly, I want to be a \n",
    "competent reader of academic papers.\n",
    "\n",
    "Specific techniques or confusing things?\n",
    "Just as I mentioned earlier, I'd like to dig deeper into hypothesis testing and gain a mastery of why certain background \n",
    "distributions are chosen for certain situations. Most papers I've read mention \"statistical significance\" without going into any\n",
    "detail on how or why their background distribution should hold. (For example, some studies use Benford's Law on the last digit \n",
    "of election data in order to detect election fraud, but there is no rigorous proof (at least to my knowledge) of why votes should\n",
    "apriori follow Benford's Law.)\n",
    "Also, any math background is welcome. I'm weak on statistical theory, and I'd appreciate any insightful lectures.                                          \n",
    "                        \n",
    "-- Berk Ozdalyan"
   ]
  },
  {
   "cell_type": "markdown",
   "metadata": {},
   "source": [
    "<div class=\"alert alert-info\"> I think you will all learn a lot from this course. 30/30 </div>"
   ]
  }
 ],
 "metadata": {
  "anaconda-cloud": {},
  "kernelspec": {
   "display_name": "Python 3",
   "language": "python",
   "name": "python3"
  },
  "language_info": {
   "codemirror_mode": {
    "name": "ipython",
    "version": 3
   },
   "file_extension": ".py",
   "mimetype": "text/x-python",
   "name": "python",
   "nbconvert_exporter": "python",
   "pygments_lexer": "ipython3",
   "version": "3.4.5"
  }
 },
 "nbformat": 4,
 "nbformat_minor": 0
}
