{
 "cells": [
  {
   "cell_type": "code",
   "execution_count": 1,
   "metadata": {
    "collapsed": true
   },
   "outputs": [],
   "source": [
    "import numpy as np\n",
    "import numba\n",
    "import pandas as pd\n",
    "import collections\n",
    "import scipy.optimize\n",
    "import statsmodels.tools.numdiff as smnd\n",
    "import bebi103\n",
    "# Import pyplot for plotting\n",
    "import matplotlib.pyplot as plt\n",
    "import matplotlib.mlab as mlab\n",
    "import math as m\n",
    "import corner\n",
    "from scipy.integrate import trapz, simps\n",
    "import emcee\n",
    "\n",
    "# Some pretty Seaborn settings\n",
    "import seaborn as sns\n",
    "rc={'lines.linewidth': 2, 'axes.labelsize': 14, 'axes.titlesize': 14}\n",
    "sns.set(rc=rc)\n",
    "\n",
    "# Make Matplotlib plots appear inline\n",
    "%matplotlib inline"
   ]
  },
  {
   "cell_type": "code",
   "execution_count": 2,
   "metadata": {
    "collapsed": true
   },
   "outputs": [],
   "source": [
    "df = pd.read_csv('../data/hiv_data.csv', comment='#')"
   ]
  },
  {
   "cell_type": "markdown",
   "metadata": {},
   "source": [
    "We will assume that the errors are normally distributed."
   ]
  },
  {
   "cell_type": "code",
   "execution_count": 3,
   "metadata": {
    "collapsed": false
   },
   "outputs": [
    {
     "data": {
      "text/html": [
       "<div>\n",
       "<table border=\"1\" class=\"dataframe\">\n",
       "  <thead>\n",
       "    <tr style=\"text-align: right;\">\n",
       "      <th></th>\n",
       "      <th>Days after administration</th>\n",
       "      <th>RNA copies per mL</th>\n",
       "    </tr>\n",
       "  </thead>\n",
       "  <tbody>\n",
       "    <tr>\n",
       "      <th>0</th>\n",
       "      <td>0.0000</td>\n",
       "      <td>106100.0</td>\n",
       "    </tr>\n",
       "    <tr>\n",
       "      <th>1</th>\n",
       "      <td>0.0831</td>\n",
       "      <td>93240.0</td>\n",
       "    </tr>\n",
       "    <tr>\n",
       "      <th>2</th>\n",
       "      <td>0.1465</td>\n",
       "      <td>166720.0</td>\n",
       "    </tr>\n",
       "    <tr>\n",
       "      <th>3</th>\n",
       "      <td>0.2587</td>\n",
       "      <td>153780.0</td>\n",
       "    </tr>\n",
       "    <tr>\n",
       "      <th>4</th>\n",
       "      <td>0.4828</td>\n",
       "      <td>118800.0</td>\n",
       "    </tr>\n",
       "    <tr>\n",
       "      <th>5</th>\n",
       "      <td>0.7448</td>\n",
       "      <td>116900.0</td>\n",
       "    </tr>\n",
       "    <tr>\n",
       "      <th>6</th>\n",
       "      <td>0.9817</td>\n",
       "      <td>109570.0</td>\n",
       "    </tr>\n",
       "    <tr>\n",
       "      <th>7</th>\n",
       "      <td>1.2563</td>\n",
       "      <td>111350.0</td>\n",
       "    </tr>\n",
       "    <tr>\n",
       "      <th>8</th>\n",
       "      <td>1.4926</td>\n",
       "      <td>74388.0</td>\n",
       "    </tr>\n",
       "    <tr>\n",
       "      <th>9</th>\n",
       "      <td>1.7299</td>\n",
       "      <td>83291.0</td>\n",
       "    </tr>\n",
       "    <tr>\n",
       "      <th>10</th>\n",
       "      <td>1.9915</td>\n",
       "      <td>66435.0</td>\n",
       "    </tr>\n",
       "    <tr>\n",
       "      <th>11</th>\n",
       "      <td>3.0011</td>\n",
       "      <td>35408.0</td>\n",
       "    </tr>\n",
       "    <tr>\n",
       "      <th>12</th>\n",
       "      <td>4.0109</td>\n",
       "      <td>21125.0</td>\n",
       "    </tr>\n",
       "    <tr>\n",
       "      <th>13</th>\n",
       "      <td>5.0090</td>\n",
       "      <td>20450.0</td>\n",
       "    </tr>\n",
       "    <tr>\n",
       "      <th>14</th>\n",
       "      <td>5.9943</td>\n",
       "      <td>15798.0</td>\n",
       "    </tr>\n",
       "    <tr>\n",
       "      <th>15</th>\n",
       "      <td>7.0028</td>\n",
       "      <td>4785.2</td>\n",
       "    </tr>\n",
       "  </tbody>\n",
       "</table>\n",
       "</div>"
      ],
      "text/plain": [
       "    Days after administration  RNA copies per mL\n",
       "0                      0.0000           106100.0\n",
       "1                      0.0831            93240.0\n",
       "2                      0.1465           166720.0\n",
       "3                      0.2587           153780.0\n",
       "4                      0.4828           118800.0\n",
       "5                      0.7448           116900.0\n",
       "6                      0.9817           109570.0\n",
       "7                      1.2563           111350.0\n",
       "8                      1.4926            74388.0\n",
       "9                      1.7299            83291.0\n",
       "10                     1.9915            66435.0\n",
       "11                     3.0011            35408.0\n",
       "12                     4.0109            21125.0\n",
       "13                     5.0090            20450.0\n",
       "14                     5.9943            15798.0\n",
       "15                     7.0028             4785.2"
      ]
     },
     "execution_count": 3,
     "metadata": {},
     "output_type": "execute_result"
    }
   ],
   "source": [
    "df"
   ]
  },
  {
   "cell_type": "markdown",
   "metadata": {},
   "source": [
    "We need to guess which sigma_min and sigma_max to use in the prior function. We will use the difference between the data and the best fit curve we drew in homework 3. For convenience, we're attaching the code from the previous assignment: "
   ]
  },
  {
   "cell_type": "code",
   "execution_count": 4,
   "metadata": {
    "collapsed": false
   },
   "outputs": [
    {
     "data": {
      "text/plain": [
       "<matplotlib.text.Text at 0xbb0963b8d0>"
      ]
     },
     "execution_count": 4,
     "metadata": {},
     "output_type": "execute_result"
    },
    {
     "data": {
      "image/png": "[encoded data removed]",
      "text/plain": [
       "<matplotlib.figure.Figure at 0xbb09622e10>"
      ]
     },
     "metadata": {},
     "output_type": "display_data"
    }
   ],
   "source": [
    "days = df['Days after administration'].dropna()\n",
    "copies = df['RNA copies per mL'].dropna()\n",
    "def findViralLoad(parameters, time):\n",
    "    '''  \n",
    "    Theoretical model for the viral load\n",
    "    '''\n",
    "    v, c, g = parameters\n",
    "    return v*m.e**(-c*time) + c*v/(c-g) * ((c/(c-g) * (m.e**(-g*time) - m.e**(-c*time)) - g*time*m.e**(-c*time)))\n",
    "\n",
    "def log_post(parameters, time, viralLoad):\n",
    "    \"\"\"\n",
    "    Compute log of posterior for single set of parameters.\n",
    "    parameters[0] = v\n",
    "    parameters[1] = c\n",
    "    parameters[2] = g   \n",
    "    \"\"\"\n",
    "    # Unpack parameters\n",
    "    v, c, g = parameters\n",
    "    \n",
    "    # Theoretical viral load\n",
    "    viralTheoretical = findViralLoad(parameters, time)\n",
    "    \n",
    "    return -len(time) / 2 * np.log(np.sum((viralLoad - viralTheoretical)**2))\n",
    "\n",
    "def resid(parameters, time, viralLoad):\n",
    "    \"\"\"\n",
    "    Residuals for the fluorescence model.\n",
    "    \"\"\"\n",
    "    return viralLoad - findViralLoad(parameters, time)\n",
    "\n",
    "plt.plot(df['Days after administration'], df['RNA copies per mL'], marker='.', linestyle='none')\n",
    "plt.xlabel('Time (days)')\n",
    "plt.ylabel('RNA copies per mL')\n",
    "p0 = np.array([1.061 * 10**5, 23, 16.6355323334])\n",
    "args = (days.values, copies.values)\n",
    "popt, _ = scipy.optimize.leastsq(resid, p0, args=args)\n",
    "x = np.linspace(0,8,200)\n",
    "y = findViralLoad(popt, x)\n",
    "plt.plot(x,y)\n",
    "totalSum = 0   \n",
    "plt.xlabel('Time (days)')\n",
    "plt.ylabel('RNA copies per mL')"
   ]
  },
  {
   "cell_type": "markdown",
   "metadata": {},
   "source": [
    "Our guess for the maximum error is the maximum difference between the best fit curve and the data:"
   ]
  },
  {
   "cell_type": "code",
   "execution_count": 5,
   "metadata": {
    "collapsed": false
   },
   "outputs": [],
   "source": [
    "# Let's bin the days after administration.\n",
    "binned = []\n",
    "y_binned = []\n",
    "for i in range(len(df['Days after administration'].values)):\n",
    "    difference = 1e50 # Large\n",
    "    for j in range(len(x)):\n",
    "        if abs(x[j]-df['Days after administration'].values[i]) < difference:\n",
    "            difference = abs(x[j]-df['Days after administration'].values[i])\n",
    "            value = x[j]\n",
    "            index = j\n",
    "    binned.append(value)\n",
    "    y_binned.append(y[index])"
   ]
  },
  {
   "cell_type": "code",
   "execution_count": 6,
   "metadata": {
    "collapsed": false
   },
   "outputs": [
    {
     "data": {
      "text/plain": [
       "(37666.651479018707, 146.66791573447063)"
      ]
     },
     "execution_count": 6,
     "metadata": {},
     "output_type": "execute_result"
    }
   ],
   "source": [
    "max(abs(y_binned - df['RNA copies per mL'].values)), min(abs(y_binned - df['RNA copies per mL'].values))"
   ]
  },
  {
   "cell_type": "markdown",
   "metadata": {},
   "source": [
    "The line of code above shows that standard error ranges from 146.7 to 37,667. We will choose sigma_min = 146.7 and sigma_max = 37,667."
   ]
  },
  {
   "cell_type": "code",
   "execution_count": 7,
   "metadata": {
    "collapsed": true
   },
   "outputs": [],
   "source": [
    "#@numba.jit(nopython=True)\n",
    "def log_likelihood_gaussian(p, x, t):\n",
    "    \"\"\"\n",
    "    Gaussian log likelihood.\n",
    "    \"\"\"\n",
    "    c, delta, sigma = p\n",
    "    v0 = 106100    \n",
    "    return -(x - v_theor(p,t))**2 / 2.0 / sigma**2\n",
    "\n",
    "def v_theor(p, t):\n",
    "    c, delta, sigma = p\n",
    "    v0 = 106100\n",
    "    return v0 * np.exp(-c * t) + c * v0 / (c - delta) * \\\n",
    "           ((c / (c - delta)) * (np.exp(-delta * t) - np.exp(-c * t)) - delta * t * np.exp(-c * t))\n",
    "    \n",
    "#@numba.jit(nopython=True)\n",
    "def log_prior_gaussian(p, c_min, c_max, delta_min, delta_max, sigma_min, sigma_max):\n",
    "    \"\"\"\n",
    "    Log prior for fish data.\n",
    "    \"\"\"\n",
    "    # In homework 3, we estimated c as 7.1 with a standard deviation of 1.6. In the original paper, mean c was stated as 23. \n",
    "    # We will pick c_max = 50 and c_min = 0.5. (0.5 is 4 standard deviations lower than our estimate in homework 3, so we think\n",
    "    # our choice of c_min is justified.)\n",
    "    # For delta, we can use delta_mean = 24 * ln(2) from the paper as a starting point. Our regressions suggest that delta = 0.53\n",
    "    # with an error bar of 0.19. We will pick delta_max = 40 and delta_min = 0.\n",
    "    # Finally, for sigma, we will pick sigma_min = min(error in data from 3.2) and sigma_max = max(error in data from 3.2)\n",
    "    # Earlier, we found estimates for sigma_min and sigma_max as sigma_min = 146.7 and sigma_max = 37,667. \n",
    "    \n",
    "    c, delta, sigma = p\n",
    "    if (not (c_min < c < c_max)) or (not (delta_min < delta < delta_max)) or (not (sigma_min < sigma < sigma_max)):\n",
    "        return -np.inf\n",
    "    else:\n",
    "        return -np.log(c_max - c_min) - np.log(delta_max - delta_min) - np.log(sigma_max - sigma_min)  #Change\n",
    "\n",
    "\n",
    "#@numba.jit(nopython=True)\n",
    "def log_posterior_gaussian(p, c_min, c_max, delta_min, delta_max, sigma_min, sigma_max, x, t):\n",
    "    \"\"\"\n",
    "    Log posterior.  \n",
    "    \n",
    "    \"\"\"\n",
    "    lp = log_prior_gaussian(p, c_min, c_max, delta_min, delta_max, sigma_min, sigma_max)\n",
    "    if lp == -np.inf:\n",
    "        return -np.inf\n",
    "    \n",
    "    return lp + log_likelihood_gaussian(p, x, t)"
   ]
  },
  {
   "cell_type": "code",
   "execution_count": null,
   "metadata": {
    "collapsed": false
   },
   "outputs": [
    {
     "data": {
      "text/plain": [
       "0    -6.907755e+00\n",
       "1    -8.212518e+07\n",
       "2    -1.850557e+09\n",
       "3    -1.184697e+09\n",
       "4    -1.499657e+08\n",
       "5    -2.555170e+08\n",
       "6    -2.754435e+08\n",
       "7    -6.330245e+08\n",
       "8    -2.832657e+07\n",
       "9    -3.118939e+08\n",
       "10   -1.412527e+08\n",
       "11   -5.688901e+07\n",
       "12   -4.690556e+07\n",
       "13   -1.178074e+08\n",
       "14   -9.204769e+07\n",
       "15   -7.412069e+06\n",
       "dtype: float64"
      ]
     },
     "execution_count": 8,
     "metadata": {},
     "output_type": "execute_result"
    }
   ],
   "source": [
    "x = df['RNA copies per mL']\n",
    "t = df['Days after administration']\n",
    "args=(0.5, 50, 0, 40, 146.7, 37667,x,t)\n",
    "log_posterior_gaussian([1,5,1], 0, 10, 0, 10, 0, 10, x, t)"
   ]
  },
  {
   "cell_type": "code",
   "execution_count": null,
   "metadata": {
    "collapsed": false
   },
   "outputs": [],
   "source": [
    "np.random.seed(42)\n",
    "n_walkers = 50\n",
    "n_dim = 3\n",
    "n_burn = 1000\n",
    "\n",
    "sampler = emcee.EnsembleSampler(n_walkers, n_dim, log_posterior_gaussian, args=args, threads=4)\n",
    "# p0[i,j] is the starting point for walk i along variable j.\n",
    "\n",
    "p0 = np.empty((n_walkers, n_dim))\n",
    "p0[:,0] = np.random.uniform(0.5, 50, n_walkers)       # c\n",
    "p0[:,1] = np.random.uniform(0, 40, n_walkers)        # delta\n",
    "p0[:,2] = np.random.uniform(146.7, 37667, n_walkers)        # sigma\n",
    "# Do burn-in\n",
    "pos, prob, state = sampler.run_mcmc(p0, n_burn, storechain=False)\n",
    "# Sample again, starting from end burn-in state\n",
    "_ = sampler.run_mcmc(pos, n_steps)"
   ]
  },
  {
   "cell_type": "code",
   "execution_count": null,
   "metadata": {
    "collapsed": true
   },
   "outputs": [],
   "source": []
  },
  {
   "cell_type": "code",
   "execution_count": null,
   "metadata": {
    "collapsed": false
   },
   "outputs": [],
   "source": [
    "x = type(df['RNA copies per mL'][0])\n",
    "x"
   ]
  },
  {
   "cell_type": "code",
   "execution_count": null,
   "metadata": {
    "collapsed": true
   },
   "outputs": [],
   "source": [
    "# Seed random number generator for reproducibility\n",
    "# np.random.seed(42)\n",
    "\n",
    "# Set up parameters\n",
    "# p_dict = collections.OrderedDict(\n",
    "#        [('c', (np.random.uniform, (0.5, 50,))),\n",
    "#         ('delta', (np.random.uniform, (0, 40.0,))),\n",
    "#         ('sigma', (np.random.uniform, (146.7, 37667,)))])\n",
    "#\n",
    "\n",
    "# Run MCMC\n",
    "# What should I pass as args for the Cauchy generations? How do we get the measured k_d's? \n",
    "# x = df['RNA copies per mL']\n",
    "# t = df['Days after administration']\n",
    "# args=(0.5, 50, 0, 40, 146.7, 37667,x,t)   \n",
    "\n",
    "\n",
    "\n",
    "#df_mcmc = bebi103.run_ensemble_emcee(log_posterior_gaussian, p_dict=p_dict, args=args, n_walkers=50, n_burn=5000, n_steps=5000)"
   ]
  },
  {
   "cell_type": "code",
   "execution_count": null,
   "metadata": {
    "collapsed": true
   },
   "outputs": [],
   "source": []
  }
 ],
 "metadata": {
  "anaconda-cloud": {},
  "kernelspec": {
   "display_name": "Python [Root]",
   "language": "python",
   "name": "Python [Root]"
  },
  "language_info": {
   "codemirror_mode": {
    "name": "ipython",
    "version": 3
   },
   "file_extension": ".py",
   "mimetype": "text/x-python",
   "name": "python",
   "nbconvert_exporter": "python",
   "pygments_lexer": "ipython3",
   "version": "3.5.2"
  }
 },
 "nbformat": 4,
 "nbformat_minor": 0
}
