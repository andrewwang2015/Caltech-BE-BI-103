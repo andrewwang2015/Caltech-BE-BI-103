{
 "cells": [
  {
   "cell_type": "markdown",
   "metadata": {},
   "source": [
    "### Problem 3.2: HIV clearance and a warning about regressions (30 pts)\n",
    "\n",
    "A human immunodeficiency virus (HIV) is a virus that causes host organisms to develop a weaker, and sometimes ineffective, immune system. HIV inserts its viral RNA into a target cell of the immune system.  This virus gets reverse transcribed into DNA and integrated into the host cell's chromosomes.  The host cell will then transcribe the integrated DNA into mRNA for the production of viral proteins and produce new HIV.  Newly created viruses then exit the cell by budding off from the host.  HIV carries the danger of ongoing replication and cell infection without termination or immunological control.  Because CD4 T cells, which communicate with other immune cells to activate responses to foreign pathogens, are the targets for viral infection and production, their infection leads to reductions in healthy CD4 T cell production, causing the immune system to weaken.  This reduction in the immune response becomes particularly concerning after remaining infected for longer periods of time, leading to acquired immune deficiency syndrome (AIDS).\n",
    "\n",
    "Perelson and coworkers have developed mathematical models to study HIV populations in the eukaryotic organisms.  HIV-1 infects cells at a rate $k$ and is produced from these infected T cells at a rate $p$.  On the other hand, the viruses are lost due to clearance by the immune system of drugs, which occurs at a rate $c$, and infected cells die at a rate $\\delta$ (Figure from [Perelson, *Nat. Rev. Immunol.*, **2**, 28-36, 2002](../protected/papers/perel_son2002.pdf))\n",
    "\n",
    "![/Basic model of viral infection](hiv_figure.jpg \"Basic model of viral infection Perelson Nat. Rev. Immunol. 2002)\")\n",
    "\n",
    "The above process can be written down as a system of differential equations.\n",
    "\n",
    "\\begin{align}\n",
    "\\frac{dT^*}{dt} &= k V_I T - \\delta T^*\\\\[1em]\n",
    "\\frac{dV_I}{dt} &= -cV_I\\\\[1em]\n",
    "\\frac{dV_{NI}}{dt} &= N \\delta T^{*} - c V_{NI},\n",
    "\\end{align}\n",
    "\n",
    "Here, $T(t)$ is the number of uninfected T-cells at time $t$, and $T^*$ is the number of infected T cells. Furthermore, there is a concentration $V_I(t)$ of infectious viruses that infect T cells at the rate $k$.  We also have a concentration $V_{NI}$ of innocuous viruses. We define $N(t)$ to be the number of newly produced viruses from one infected cell over this cell's lifetime.  We can measure the total viral load, $V(t) = V_I(t) + V_{NI}(t)$.  If we initially have a viral load of $V(0) = V_0$, we can solve the system of differential equations to give\n",
    "\n",
    "\\begin{align}\n",
    "V(t) = V_0e^{-ct} + \\frac{cV_0}{c-\\delta}\\left[\\frac{c}{c-\\delta}(e^{-{\\delta}t} - e^{-ct}) - {\\delta}te^{-ct}\\right].\n",
    "\\end{align}\n",
    "\n",
    "We will take viral load data from a real patient (which you can download [here](data/hiv_data.csv)) and perform a regression to evaluate the parameters $c$ and $\\delta$.  The patient was treated with the drug Ritonavir, a protease inhibitor that serves to clear the viruses; i.e., it modulates $c$. So, in the context of the model, $c$ is a good parameter to use to understand the efficacy of a drug.\n",
    "\n",
    "**a)** Perform a regression on these data using the theoretical temporal curve for the viral load. That is, obtain estimates for $V_0$, $c$, and $\\delta$ but finding the MAP and computing error bars.\n",
    "\n",
    "**b)** Plot the posterior distribution over the interval $0 \\le \\delta, c \\le 10$ days$^{-1}$.  Does this plot raise any serious issues about how you estimate $c$ and $d$?  What experiments might you propose to help deal with these problems? *Hint*: In order to compute the marginalized posterior,\n",
    "\n",
    "\\begin{align}\n",
    "P(c, \\delta \\mid D, I) = \\int_0^\\infty \\mathrm{d}V_0 P(c, \\delta, V_0 \\mid D, I),\n",
    "\\end{align}\n",
    "\n",
    "you can perform numerical quadrature using functions like `np.trapz()`. If you are having trouble doing that, make a plot of $P(c, \\delta, V_0 \\mid D, I)$ in the $c$-$\\delta$ plane with $V_0$ fixed at its most probable value."
   ]
  },
  {
   "cell_type": "markdown",
   "metadata": {},
   "source": [
    "<br />"
   ]
  },
  {
   "cell_type": "code",
   "execution_count": 1,
   "metadata": {
    "collapsed": true
   },
   "outputs": [],
   "source": [
    "import math as m\n",
    "import numpy as np\n",
    "import pandas as pd\n",
    "import scipy.optimize\n",
    "import statsmodels.tools.numdiff as smnd\n",
    "\n",
    "# Import pyplot for plotting\n",
    "import matplotlib.pyplot as plt\n",
    "\n",
    "# Some pretty Seaborn settings\n",
    "import seaborn as sns\n",
    "rc={'lines.linewidth': 2, 'axes.labelsize': 14, 'axes.titlesize': 14}\n",
    "sns.set(rc=rc)\n",
    "\n",
    "# Make Matplotlib plots appear inline\n",
    "%matplotlib inline"
   ]
  },
  {
   "cell_type": "code",
   "execution_count": 2,
   "metadata": {
    "collapsed": false
   },
   "outputs": [
    {
     "data": {
      "text/html": [
       "<div>\n",
       "<table border=\"1\" class=\"dataframe\">\n",
       "  <thead>\n",
       "    <tr style=\"text-align: right;\">\n",
       "      <th></th>\n",
       "      <th>Days after administration</th>\n",
       "      <th>RNA copies per mL</th>\n",
       "    </tr>\n",
       "  </thead>\n",
       "  <tbody>\n",
       "    <tr>\n",
       "      <th>0</th>\n",
       "      <td>0.0000</td>\n",
       "      <td>106100.0</td>\n",
       "    </tr>\n",
       "    <tr>\n",
       "      <th>1</th>\n",
       "      <td>0.0831</td>\n",
       "      <td>93240.0</td>\n",
       "    </tr>\n",
       "    <tr>\n",
       "      <th>2</th>\n",
       "      <td>0.1465</td>\n",
       "      <td>166720.0</td>\n",
       "    </tr>\n",
       "    <tr>\n",
       "      <th>3</th>\n",
       "      <td>0.2587</td>\n",
       "      <td>153780.0</td>\n",
       "    </tr>\n",
       "    <tr>\n",
       "      <th>4</th>\n",
       "      <td>0.4828</td>\n",
       "      <td>118800.0</td>\n",
       "    </tr>\n",
       "  </tbody>\n",
       "</table>\n",
       "</div>"
      ],
      "text/plain": [
       "   Days after administration  RNA copies per mL\n",
       "0                     0.0000           106100.0\n",
       "1                     0.0831            93240.0\n",
       "2                     0.1465           166720.0\n",
       "3                     0.2587           153780.0\n",
       "4                     0.4828           118800.0"
      ]
     },
     "execution_count": 2,
     "metadata": {},
     "output_type": "execute_result"
    }
   ],
   "source": [
    "# Load data into DataFrame\n",
    "df = pd.read_csv('../data/hiv_data.csv', comment='#')\n",
    "\n",
    "# Check it out\n",
    "df.head()"
   ]
  },
  {
   "cell_type": "code",
   "execution_count": 3,
   "metadata": {
    "collapsed": false
   },
   "outputs": [
    {
     "data": {
      "text/plain": [
       "<matplotlib.text.Text at 0x35b3c64710>"
      ]
     },
     "execution_count": 3,
     "metadata": {},
     "output_type": "execute_result"
    },
    {
     "data": {
      "image/png": "[encoded data removed]",
      "text/plain": [
       "<matplotlib.figure.Figure at 0x35b3c136a0>"
      ]
     },
     "metadata": {},
     "output_type": "display_data"
    }
   ],
   "source": [
    "plt.plot(df['Days after administration'], df['RNA copies per mL'], marker='.', linestyle='none')\n",
    "plt.xlabel('Time (days)')\n",
    "\n",
    "plt.ylabel('RNA copies per mL')"
   ]
  },
  {
   "cell_type": "code",
   "execution_count": 7,
   "metadata": {
    "collapsed": true
   },
   "outputs": [],
   "source": [
    "days = df['Days after administration'].dropna()\n",
    "copies = df['RNA copies per mL'].dropna()"
   ]
  },
  {
   "cell_type": "code",
   "execution_count": 8,
   "metadata": {
    "collapsed": true
   },
   "outputs": [],
   "source": [
    "def findViralLoad(parameters, time):\n",
    "    '''  \n",
    "    Theoretical model for the viral load\n",
    "    '''\n",
    "    v, c, g = parameters\n",
    "    return v*m.e**(-c*time) + c*v/(c-g) * ((c/(c-g) * (m.e**(-g*time) - m.e**(-c*time)) - g*time*m.e**(-c*time)))"
   ]
  },
  {
   "cell_type": "code",
   "execution_count": 9,
   "metadata": {
    "collapsed": true
   },
   "outputs": [],
   "source": [
    "def log_post(parameters, time, viralLoad):\n",
    "    \"\"\"\n",
    "    Compute log of posterior for single set of parameters.\n",
    "    parameters[0] = v\n",
    "    parameters[1] = c\n",
    "    parameters[2] = g   \n",
    "    \"\"\"\n",
    "    # Unpack parameters\n",
    "    v, c, g = parameters\n",
    "    \n",
    "    # Theoretical viral load\n",
    "    viralTheoretical = findViralLoad(parameters, time)\n",
    "    \n",
    "    return -len(time) / 2 * np.log(np.sum((viralLoad - viralTheoretical)**2))"
   ]
  },
  {
   "cell_type": "code",
   "execution_count": 10,
   "metadata": {
    "collapsed": true
   },
   "outputs": [],
   "source": [
    "def resid(parameters, time, viralLoad):\n",
    "    \"\"\"\n",
    "    Residuals for the fluorescence model.\n",
    "    \"\"\"\n",
    "    return viralLoad - findViralLoad(parameters, time)"
   ]
  },
  {
   "cell_type": "code",
   "execution_count": 11,
   "metadata": {
    "collapsed": false
   },
   "outputs": [
    {
     "data": {
      "text/plain": [
       "<matplotlib.text.Text at 0x35b4531198>"
      ]
     },
     "execution_count": 11,
     "metadata": {},
     "output_type": "execute_result"
    },
    {
     "data": {
      "image/png": "[encoded data removed]",
      "text/plain": [
       "<matplotlib.figure.Figure at 0x35b4505160>"
      ]
     },
     "metadata": {},
     "output_type": "display_data"
    }
   ],
   "source": [
    "plt.plot(df['Days after administration'], df['RNA copies per mL'], marker='.', linestyle='none')\n",
    "plt.xlabel('Time (days)')\n",
    "plt.ylabel('RNA copies per mL')"
   ]
  },
  {
   "cell_type": "markdown",
   "metadata": {},
   "source": [
    "For our initial estimates, we take V$_0$ to be 1.061 e05 which is the initial load, 23 to be the value of c as stated to be the mean in the paper, and 24 * ln(2) to be the value of $\\delta$ given that the paper states that ~1 hr is the mean half-life of HIV. "
   ]
  },
  {
   "cell_type": "code",
   "execution_count": 12,
   "metadata": {
    "collapsed": false
   },
   "outputs": [],
   "source": [
    "p0 = np.array([1.061 * 10**5, 23, 16.6355323334])"
   ]
  },
  {
   "cell_type": "code",
   "execution_count": 13,
   "metadata": {
    "collapsed": false
   },
   "outputs": [],
   "source": [
    "args = (days.values, copies.values)"
   ]
  },
  {
   "cell_type": "code",
   "execution_count": 14,
   "metadata": {
    "collapsed": false
   },
   "outputs": [],
   "source": [
    "popt, _ = scipy.optimize.leastsq(resid, p0, args=args)"
   ]
  },
  {
   "cell_type": "code",
   "execution_count": 15,
   "metadata": {
    "collapsed": false
   },
   "outputs": [
    {
     "data": {
      "text/plain": [
       "array([  1.29316311e+05,   2.63575416e+00,   5.31356012e-01])"
      ]
     },
     "execution_count": 15,
     "metadata": {},
     "output_type": "execute_result"
    }
   ],
   "source": [
    "popt"
   ]
  },
  {
   "cell_type": "code",
   "execution_count": 16,
   "metadata": {
    "collapsed": false
   },
   "outputs": [
    {
     "data": {
      "text/plain": [
       "<matplotlib.text.Text at 0x35b457a470>"
      ]
     },
     "execution_count": 16,
     "metadata": {},
     "output_type": "execute_result"
    },
    {
     "data": {
      "image/png": "[encoded data removed]",
      "text/plain": [
       "<matplotlib.figure.Figure at 0x35b4531748>"
      ]
     },
     "metadata": {},
     "output_type": "display_data"
    }
   ],
   "source": [
    "plt.plot(days, copies, marker='.', linestyle='none')\n",
    "x = np.linspace(0,8,200)\n",
    "y = findViralLoad(popt, x)\n",
    "plt.plot(x,y)\n",
    "totalSum = 0   \n",
    "plt.xlabel('Time (days)')\n",
    "plt.ylabel('RNA copies per mL')"
   ]
  },
  {
   "cell_type": "code",
   "execution_count": 188,
   "metadata": {
    "collapsed": false
   },
   "outputs": [
    {
     "data": {
      "text/plain": [
       "array([[ -2.96012024e-08,   1.62329273e-04,   9.52525733e-04],\n",
       "       [  1.62329273e-04,  -2.36481750e+00,  -1.53444170e+01],\n",
       "       [  9.52525733e-04,  -1.53444170e+01,  -1.26742848e+02]])"
      ]
     },
     "execution_count": 188,
     "metadata": {},
     "output_type": "execute_result"
    }
   ],
   "source": [
    "hes = smnd.approx_hess(popt, log_post, args=args)\n",
    "hes"
   ]
  },
  {
   "cell_type": "code",
   "execution_count": 189,
   "metadata": {
    "collapsed": true
   },
   "outputs": [],
   "source": [
    "cov = -np.linalg.inv(hes)"
   ]
  },
  {
   "cell_type": "code",
   "execution_count": 190,
   "metadata": {
    "collapsed": false
   },
   "outputs": [
    {
     "data": {
      "text/plain": [
       "array([[  5.52952148e+07,   5.12591356e+03,  -2.05013856e+02],\n",
       "       [  5.12591356e+03,   2.44713507e+00,  -2.57744692e-01],\n",
       "       [ -2.05013856e+02,  -2.57744692e-01,   3.75536855e-02]])"
      ]
     },
     "execution_count": 190,
     "metadata": {},
     "output_type": "execute_result"
    }
   ],
   "source": [
    "cov"
   ]
  },
  {
   "cell_type": "code",
   "execution_count": 191,
   "metadata": {
    "collapsed": false
   },
   "outputs": [
    {
     "name": "stdout",
     "output_type": "stream",
     "text": [
      "The error for V_0 is 7436.07522969\n",
      "The error for c is 1.56433214949\n",
      "The error for delta is 0.193787733076\n"
     ]
    }
   ],
   "source": [
    "err_v = np.sqrt(cov[0,0])\n",
    "err_c = np.sqrt(cov[1,1])\n",
    "err_g = np.sqrt(cov[2,2])\n",
    "print ('The error for V_0 is', err_v)\n",
    "print ('The error for c is', err_c)\n",
    "print ('The error for delta is', err_g)"
   ]
  },
  {
   "cell_type": "code",
   "execution_count": 192,
   "metadata": {
    "collapsed": false
   },
   "outputs": [
    {
     "data": {
      "text/plain": [
       "<matplotlib.text.Text at 0x323e21a588>"
      ]
     },
     "execution_count": 192,
     "metadata": {},
     "output_type": "execute_result"
    },
    {
     "data": {
      "image/png": "[encoded data removed]",
      "text/plain": [
       "<matplotlib.figure.Figure at 0x323e1e18d0>"
      ]
     },
     "metadata": {},
     "output_type": "display_data"
    }
   ],
   "source": [
    "for i in copies.values:\n",
    "    totalSum += i\n",
    "args = (days.values, copies.values/float(totalSum))\n",
    "popt, _ = scipy.optimize.leastsq(resid, p0, args=args)\n",
    "copies1 = copies/float(totalSum)\n",
    "plt.plot(days, copies1, marker='.', linestyle='none')\n",
    "x = np.linspace(0,8,200)\n",
    "y = findViralLoad(popt, x)\n",
    "plt.plot(x,y)\n",
    "plt.xlabel('Time (days)')\n",
    "plt.ylabel('Frequency')"
   ]
  },
  {
   "cell_type": "markdown",
   "metadata": {},
   "source": [
    "<div class=\"alert alert-info\">Very good work with the regression. Also, it is good pratice to report the mean and error to the same degree of precision. In your function for the model you should consider the case when $d \\approx c$ because in that case the function blows up. As a result, it is always useful take a limit as c tends to d and return that when c is very close to d. It is good to consider the error within $10^{-9}$ rather than 0 because Python has floating point errors. When you take the limit as c tends to d, you will get: $$\\lim_{c\\to\\delta}V(t) = V_0e^{-ct} + \\frac{cV_0}{c-\\delta}\\left[\\frac{c}{c-\\delta}(e^{-{\\delta}t} - e^{-ct}) - {\\delta}te^{-ct}\\right] = V_0e^{-\\delta t}(1 + \\delta t + \\frac{\\delta^2t^2}{2})$$ Score: 15/20</div>"
   ]
  },
  {
   "cell_type": "markdown",
   "metadata": {},
   "source": [
    "Normalized plot."
   ]
  },
  {
   "cell_type": "code",
   "execution_count": 204,
   "metadata": {
    "collapsed": false
   },
   "outputs": [
    {
     "data": {
      "text/plain": [
       "<matplotlib.text.Text at 0x323e1041d0>"
      ]
     },
     "execution_count": 204,
     "metadata": {},
     "output_type": "execute_result"
    },
    {
     "data": {
      "image/png": "[encoded data removed]",
      "text/plain": [
       "<matplotlib.figure.Figure at 0x323b945630>"
      ]
     },
     "metadata": {},
     "output_type": "display_data"
    }
   ],
   "source": [
    "# Parameter values to plot\n",
    "delta = np.linspace(0, 1.2, 100)\n",
    "c = np.linspace(1.4, 10, 100)\n",
    "\n",
    "# Make a grid\n",
    "tt, gg = np.meshgrid(delta, c)\n",
    "days1 = df['Days after administration']\n",
    "copies1 = df['RNA copies per mL']\n",
    "# Compute log posterior\n",
    "log_posterior = np.empty_like(tt)\n",
    "for j in range(len(delta)):\n",
    "    for i in range(len(c)):\n",
    "        log_posterior[i, j] = log_post(np.array([1.29316311* 10**5,tt[i,j], gg[i,j]]), days1, copies1)\n",
    "\n",
    "# Get things to scale better\n",
    "log_posterior -= log_posterior.max()\n",
    "        \n",
    "# Plot the results\n",
    "plt.contourf(delta, c, np.exp(log_posterior), cmap=plt.cm.Blues, alpha=0.7)\n",
    "plt.xlabel(r'$\\delta$ days$^{-1}$ ')\n",
    "plt.ylabel(r'C days$^{-1}$ ')"
   ]
  },
  {
   "cell_type": "markdown",
   "metadata": {},
   "source": [
    "Yes, this plot raises serious issues about our estimation of c and $\\gamma$. To find the error bars, we approximate the posterior as a Gaussian, which doesn't necessarily hold for all distributions. In particular, if the distribution is multimodal or very slanted to either side, concentrating on the peak may lead to inaccurate parameter estimates. Another possible complication stems from our assumption that the underlying causes that trigger errors are independent of one another. For most practical applications, this assumption is justified - yet it is not necessarily the case. If so, the parameters that minimize the difference between the theoretical curve and the measurements might not match the actual parameters at all. As we see above, for both delta and C, the estimates don't match the plot of the posterior at all. (By the way, the plot is that of the posterior at V0 evaluated at its point of maximal likelihood.) \n",
    "\n",
    "To improve our estimates, we have to get more data points! The data set belongs to a single measurement, and if we could change the factors that affect cell death rate and viral death rate (such as temperature, pressure, humidity etc), then we can test the parameters under various conditions and get a more robust result. Also, at each iteration of the experiment, updating the prior based on the former posterior is likely to help us approach the parameters of interest, for a large number of data points and iterative steps. "
   ]
  },
  {
   "cell_type": "markdown",
   "metadata": {
    "collapsed": true
   },
   "source": [
    "<div class=\"alert alert-info\">You should always plot the posterior over the entire parameter range! This posterior actually has 2 maximum, which is crucial to the problem. I also noticed that you used a fixed $V_0$ rather than marginalization, which is fine here. However, in general marginalization is more accurate because you get a posteiror over en entire parameter space. Score: 5/10</div>"
   ]
  },
  {
   "cell_type": "code",
   "execution_count": null,
   "metadata": {
    "collapsed": true
   },
   "outputs": [],
   "source": []
  }
 ],
 "metadata": {
  "anaconda-cloud": {},
  "kernelspec": {
   "display_name": "Python [Root]",
   "language": "python",
   "name": "Python [Root]"
  },
  "language_info": {
   "codemirror_mode": {
    "name": "ipython",
    "version": 3
   },
   "file_extension": ".py",
   "mimetype": "text/x-python",
   "name": "python",
   "nbconvert_exporter": "python",
   "pygments_lexer": "ipython3",
   "version": "3.5.2"
  }
 },
 "nbformat": 4,
 "nbformat_minor": 0
}
