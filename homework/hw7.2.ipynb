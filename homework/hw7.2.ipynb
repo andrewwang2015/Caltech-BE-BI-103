{
 "cells": [
  {
   "cell_type": "markdown",
   "metadata": {},
   "source": [
    "<div class=\"alert alert-info\"> 68/75"
   ]
  },
  {
   "cell_type": "code",
   "execution_count": 27,
   "metadata": {
    "collapsed": false
   },
   "outputs": [],
   "source": [
    "import numpy as np\n",
    "import pandas as pd\n",
    "import scipy.optimize\n",
    "import scipy.stats as st\n",
    "import numba\n",
    "\n",
    "import corner\n",
    "import bebi103\n",
    "\n",
    "import matplotlib.pyplot as plt\n",
    "import seaborn as sns\n",
    "rc={'lines.linewidth': 2, 'axes.labelsize': 14, 'axes.titlesize': 14}\n",
    "sns.set(rc=rc)\n",
    "%matplotlib inline"
   ]
  },
  {
   "cell_type": "code",
   "execution_count": 28,
   "metadata": {
    "collapsed": false
   },
   "outputs": [],
   "source": [
    "df = pd.read_csv('../data/finch_beaks.csv', comment='#')"
   ]
  },
  {
   "cell_type": "code",
   "execution_count": 29,
   "metadata": {
    "collapsed": false
   },
   "outputs": [
    {
     "data": {
      "text/html": [
       "<div>\n",
       "<table border=\"1\" class=\"dataframe\">\n",
       "  <thead>\n",
       "    <tr style=\"text-align: right;\">\n",
       "      <th></th>\n",
       "      <th>band</th>\n",
       "      <th>species</th>\n",
       "      <th>beak length (mm)</th>\n",
       "      <th>beak depth (mm)</th>\n",
       "      <th>year</th>\n",
       "    </tr>\n",
       "  </thead>\n",
       "  <tbody>\n",
       "    <tr>\n",
       "      <th>0</th>\n",
       "      <td>20123</td>\n",
       "      <td>fortis</td>\n",
       "      <td>9.25</td>\n",
       "      <td>8.05</td>\n",
       "      <td>1973</td>\n",
       "    </tr>\n",
       "    <tr>\n",
       "      <th>1</th>\n",
       "      <td>20126</td>\n",
       "      <td>fortis</td>\n",
       "      <td>11.35</td>\n",
       "      <td>10.45</td>\n",
       "      <td>1973</td>\n",
       "    </tr>\n",
       "    <tr>\n",
       "      <th>2</th>\n",
       "      <td>20128</td>\n",
       "      <td>fortis</td>\n",
       "      <td>10.15</td>\n",
       "      <td>9.55</td>\n",
       "      <td>1973</td>\n",
       "    </tr>\n",
       "    <tr>\n",
       "      <th>3</th>\n",
       "      <td>20129</td>\n",
       "      <td>fortis</td>\n",
       "      <td>9.95</td>\n",
       "      <td>8.75</td>\n",
       "      <td>1973</td>\n",
       "    </tr>\n",
       "    <tr>\n",
       "      <th>4</th>\n",
       "      <td>20133</td>\n",
       "      <td>fortis</td>\n",
       "      <td>11.55</td>\n",
       "      <td>10.15</td>\n",
       "      <td>1973</td>\n",
       "    </tr>\n",
       "  </tbody>\n",
       "</table>\n",
       "</div>"
      ],
      "text/plain": [
       "    band species  beak length (mm)  beak depth (mm)  year\n",
       "0  20123  fortis              9.25             8.05  1973\n",
       "1  20126  fortis             11.35            10.45  1973\n",
       "2  20128  fortis             10.15             9.55  1973\n",
       "3  20129  fortis              9.95             8.75  1973\n",
       "4  20133  fortis             11.55            10.15  1973"
      ]
     },
     "execution_count": 29,
     "metadata": {},
     "output_type": "execute_result"
    }
   ],
   "source": [
    "df.head()"
   ]
  },
  {
   "cell_type": "markdown",
   "metadata": {},
   "source": [
    "# 7.2 A"
   ]
  },
  {
   "cell_type": "code",
   "execution_count": 30,
   "metadata": {
    "collapsed": false,
    "scrolled": true
   },
   "outputs": [
    {
     "data": {
      "text/html": [
       "<div>\n",
       "<table border=\"1\" class=\"dataframe\">\n",
       "  <thead>\n",
       "    <tr style=\"text-align: right;\">\n",
       "      <th></th>\n",
       "      <th>band</th>\n",
       "      <th>beak depth (mm)</th>\n",
       "      <th>beak length (mm)</th>\n",
       "      <th>species</th>\n",
       "      <th>year</th>\n",
       "    </tr>\n",
       "  </thead>\n",
       "  <tbody>\n",
       "    <tr>\n",
       "      <th>0</th>\n",
       "      <td>20123.0</td>\n",
       "      <td>8.05</td>\n",
       "      <td>9.25</td>\n",
       "      <td>fortis</td>\n",
       "      <td>1973.0</td>\n",
       "    </tr>\n",
       "    <tr>\n",
       "      <th>1</th>\n",
       "      <td>20126.0</td>\n",
       "      <td>10.45</td>\n",
       "      <td>11.35</td>\n",
       "      <td>fortis</td>\n",
       "      <td>1973.0</td>\n",
       "    </tr>\n",
       "    <tr>\n",
       "      <th>2</th>\n",
       "      <td>20128.0</td>\n",
       "      <td>9.55</td>\n",
       "      <td>10.15</td>\n",
       "      <td>fortis</td>\n",
       "      <td>1973.0</td>\n",
       "    </tr>\n",
       "    <tr>\n",
       "      <th>3</th>\n",
       "      <td>20129.0</td>\n",
       "      <td>8.75</td>\n",
       "      <td>9.95</td>\n",
       "      <td>fortis</td>\n",
       "      <td>1973.0</td>\n",
       "    </tr>\n",
       "    <tr>\n",
       "      <th>4</th>\n",
       "      <td>20133.0</td>\n",
       "      <td>10.15</td>\n",
       "      <td>11.55</td>\n",
       "      <td>fortis</td>\n",
       "      <td>1973.0</td>\n",
       "    </tr>\n",
       "  </tbody>\n",
       "</table>\n",
       "</div>"
      ],
      "text/plain": [
       "      band  beak depth (mm)  beak length (mm) species    year\n",
       "0  20123.0             8.05              9.25  fortis  1973.0\n",
       "1  20126.0            10.45             11.35  fortis  1973.0\n",
       "2  20128.0             9.55             10.15  fortis  1973.0\n",
       "3  20129.0             8.75              9.95  fortis  1973.0\n",
       "4  20133.0            10.15             11.55  fortis  1973.0"
      ]
     },
     "execution_count": 30,
     "metadata": {},
     "output_type": "execute_result"
    }
   ],
   "source": [
    "#\n",
    "## Fix duplicates by taking the average measurements for any set of duplicates\n",
    "#\n",
    "\n",
    "# Get columns into lists\n",
    "bands = list(df['band'])\n",
    "species = list(df['species'])\n",
    "beakL = list(df['beak length (mm)'])\n",
    "beakD = list(df['beak depth (mm)'])\n",
    "years = list(df['year'])\n",
    " \n",
    "# Find all duplicates and put them into a dictionary organized by key\n",
    "duplicates = {}\n",
    "added = []\n",
    "for i in range(len(bands)):\n",
    "    for j in range(len(bands)):\n",
    "        if bands[i] == bands[j] and years[i] == years[j] and (i, j) not in added and i != j:\n",
    "            added.extend([(i, j), (j, i)])\n",
    "            s = str(bands[i]) + ' ' + species[i] + ' ' + str(years[i])\n",
    "            if s not in duplicates:\n",
    "                duplicates[s] = []\n",
    "            duplicates[s].extend([(beakL[i], beakD[i]), (beakL[j], beakD[j])])\n",
    "\n",
    "# Find the averages of each of the sets of duplicates, organized by key\n",
    "sumsL = {}\n",
    "sumsD = {}\n",
    "for key in duplicates:\n",
    "    sumsL[key] = 0\n",
    "    sumsD[key] = 0\n",
    "    for pair in duplicates[key]:\n",
    "        sumsL[key] += pair[0]\n",
    "        sumsD[key] += pair[1]\n",
    "    sumsL[key] /= len(duplicates[key])\n",
    "    sumsD[key] /= len(duplicates[key])\n",
    "\n",
    "# Remove the duplicates from the lists\n",
    "toRemove = []\n",
    "for key in duplicates:\n",
    "    lst = key.split()\n",
    "    for i in range(len(bands)):\n",
    "        if bands[i] == lst[0] and years[i] == lst[2]:\n",
    "            toRemove.append(i)\n",
    "\n",
    "for i in toRemove:\n",
    "    del bands[i]\n",
    "    del species[i]\n",
    "    del beakL[i]\n",
    "    del beakD[i]\n",
    "    del years[i]\n",
    "\n",
    "# Append the new rows with the corresponding averages\n",
    "for key in duplicates:\n",
    "    lst = key.split()\n",
    "    bands.append(float(lst[0]))\n",
    "    species.append(lst[1])\n",
    "    beakL.append(sumsL[key])\n",
    "    beakD.append(sumsD[key])\n",
    "    years.append(float(lst[2]))\n",
    "    \n",
    "d = {'band':bands, 'species':species, 'beak length (mm)':beakL, 'beak depth (mm)':beakD, 'year':years}\n",
    "df = pd.DataFrame(data=d)\n",
    "df.head()"
   ]
  },
  {
   "cell_type": "markdown",
   "metadata": {},
   "source": [
    "<div class=\"alert alert-info\"> Please explain what you are doing in markdown cells! 5/5"
   ]
  },
  {
   "cell_type": "markdown",
   "metadata": {},
   "source": [
    "# 7.2  B"
   ]
  },
  {
   "cell_type": "code",
   "execution_count": 31,
   "metadata": {
    "collapsed": false
   },
   "outputs": [
    {
     "data": {
      "text/html": [
       "<div>\n",
       "<table border=\"1\" class=\"dataframe\">\n",
       "  <thead>\n",
       "    <tr style=\"text-align: right;\">\n",
       "      <th></th>\n",
       "      <th>band</th>\n",
       "      <th>beak depth (mm)</th>\n",
       "      <th>beak length (mm)</th>\n",
       "      <th>species</th>\n",
       "      <th>year</th>\n",
       "    </tr>\n",
       "  </thead>\n",
       "  <tbody>\n",
       "    <tr>\n",
       "      <th>73</th>\n",
       "      <td>20121.0</td>\n",
       "      <td>9.35</td>\n",
       "      <td>15.15</td>\n",
       "      <td>scandens</td>\n",
       "      <td>1973.0</td>\n",
       "    </tr>\n",
       "    <tr>\n",
       "      <th>74</th>\n",
       "      <td>20125.0</td>\n",
       "      <td>9.75</td>\n",
       "      <td>15.05</td>\n",
       "      <td>scandens</td>\n",
       "      <td>1973.0</td>\n",
       "    </tr>\n",
       "    <tr>\n",
       "      <th>75</th>\n",
       "      <td>20135.0</td>\n",
       "      <td>8.35</td>\n",
       "      <td>14.45</td>\n",
       "      <td>scandens</td>\n",
       "      <td>1973.0</td>\n",
       "    </tr>\n",
       "    <tr>\n",
       "      <th>76</th>\n",
       "      <td>20159.0</td>\n",
       "      <td>9.55</td>\n",
       "      <td>14.05</td>\n",
       "      <td>scandens</td>\n",
       "      <td>1973.0</td>\n",
       "    </tr>\n",
       "    <tr>\n",
       "      <th>77</th>\n",
       "      <td>20160.0</td>\n",
       "      <td>8.55</td>\n",
       "      <td>14.25</td>\n",
       "      <td>scandens</td>\n",
       "      <td>1973.0</td>\n",
       "    </tr>\n",
       "  </tbody>\n",
       "</table>\n",
       "</div>"
      ],
      "text/plain": [
       "       band  beak depth (mm)  beak length (mm)   species    year\n",
       "73  20121.0             9.35             15.15  scandens  1973.0\n",
       "74  20125.0             9.75             15.05  scandens  1973.0\n",
       "75  20135.0             8.35             14.45  scandens  1973.0\n",
       "76  20159.0             9.55             14.05  scandens  1973.0\n",
       "77  20160.0             8.55             14.25  scandens  1973.0"
      ]
     },
     "execution_count": 31,
     "metadata": {},
     "output_type": "execute_result"
    }
   ],
   "source": [
    "# Filter to get scandens\n",
    "inds = df['species'] == 'scandens' \n",
    "allScandens = df.loc[inds,: ]\n",
    "allScandens.head()"
   ]
  },
  {
   "cell_type": "code",
   "execution_count": 32,
   "metadata": {
    "collapsed": false
   },
   "outputs": [
    {
     "data": {
      "text/html": [
       "<div>\n",
       "<table border=\"1\" class=\"dataframe\">\n",
       "  <thead>\n",
       "    <tr style=\"text-align: right;\">\n",
       "      <th></th>\n",
       "      <th>band</th>\n",
       "      <th>beak depth (mm)</th>\n",
       "      <th>beak length (mm)</th>\n",
       "      <th>species</th>\n",
       "      <th>year</th>\n",
       "    </tr>\n",
       "  </thead>\n",
       "  <tbody>\n",
       "    <tr>\n",
       "      <th>405</th>\n",
       "      <td>302.0</td>\n",
       "      <td>8.4</td>\n",
       "      <td>13.9</td>\n",
       "      <td>scandens</td>\n",
       "      <td>1975.0</td>\n",
       "    </tr>\n",
       "    <tr>\n",
       "      <th>406</th>\n",
       "      <td>304.0</td>\n",
       "      <td>8.8</td>\n",
       "      <td>14.0</td>\n",
       "      <td>scandens</td>\n",
       "      <td>1975.0</td>\n",
       "    </tr>\n",
       "    <tr>\n",
       "      <th>407</th>\n",
       "      <td>306.0</td>\n",
       "      <td>8.4</td>\n",
       "      <td>12.9</td>\n",
       "      <td>scandens</td>\n",
       "      <td>1975.0</td>\n",
       "    </tr>\n",
       "    <tr>\n",
       "      <th>408</th>\n",
       "      <td>310.0</td>\n",
       "      <td>8.0</td>\n",
       "      <td>13.5</td>\n",
       "      <td>scandens</td>\n",
       "      <td>1975.0</td>\n",
       "    </tr>\n",
       "    <tr>\n",
       "      <th>409</th>\n",
       "      <td>317.0</td>\n",
       "      <td>7.9</td>\n",
       "      <td>12.9</td>\n",
       "      <td>scandens</td>\n",
       "      <td>1975.0</td>\n",
       "    </tr>\n",
       "  </tbody>\n",
       "</table>\n",
       "</div>"
      ],
      "text/plain": [
       "      band  beak depth (mm)  beak length (mm)   species    year\n",
       "405  302.0              8.4              13.9  scandens  1975.0\n",
       "406  304.0              8.8              14.0  scandens  1975.0\n",
       "407  306.0              8.4              12.9  scandens  1975.0\n",
       "408  310.0              8.0              13.5  scandens  1975.0\n",
       "409  317.0              7.9              12.9  scandens  1975.0"
      ]
     },
     "execution_count": 32,
     "metadata": {},
     "output_type": "execute_result"
    }
   ],
   "source": [
    "# Get all scandens in 1975\n",
    "inds1975 = allScandens['year'] == 1975\n",
    "scandens1975 = allScandens.loc[inds1975, :]\n",
    "scandens1975.head()"
   ]
  },
  {
   "cell_type": "code",
   "execution_count": 33,
   "metadata": {
    "collapsed": false
   },
   "outputs": [
    {
     "data": {
      "text/html": [
       "<div>\n",
       "<table border=\"1\" class=\"dataframe\">\n",
       "  <thead>\n",
       "    <tr style=\"text-align: right;\">\n",
       "      <th></th>\n",
       "      <th>band</th>\n",
       "      <th>beak depth (mm)</th>\n",
       "      <th>beak length (mm)</th>\n",
       "      <th>species</th>\n",
       "      <th>year</th>\n",
       "    </tr>\n",
       "  </thead>\n",
       "  <tbody>\n",
       "    <tr>\n",
       "      <th>2177</th>\n",
       "      <td>19026.0</td>\n",
       "      <td>9.4</td>\n",
       "      <td>14.3</td>\n",
       "      <td>scandens</td>\n",
       "      <td>2012.0</td>\n",
       "    </tr>\n",
       "    <tr>\n",
       "      <th>2178</th>\n",
       "      <td>19028.0</td>\n",
       "      <td>8.9</td>\n",
       "      <td>12.5</td>\n",
       "      <td>scandens</td>\n",
       "      <td>2012.0</td>\n",
       "    </tr>\n",
       "    <tr>\n",
       "      <th>2179</th>\n",
       "      <td>19029.0</td>\n",
       "      <td>9.5</td>\n",
       "      <td>13.7</td>\n",
       "      <td>scandens</td>\n",
       "      <td>2012.0</td>\n",
       "    </tr>\n",
       "    <tr>\n",
       "      <th>2180</th>\n",
       "      <td>19094.0</td>\n",
       "      <td>11.0</td>\n",
       "      <td>13.8</td>\n",
       "      <td>scandens</td>\n",
       "      <td>2012.0</td>\n",
       "    </tr>\n",
       "    <tr>\n",
       "      <th>2181</th>\n",
       "      <td>19122.0</td>\n",
       "      <td>8.7</td>\n",
       "      <td>12.0</td>\n",
       "      <td>scandens</td>\n",
       "      <td>2012.0</td>\n",
       "    </tr>\n",
       "  </tbody>\n",
       "</table>\n",
       "</div>"
      ],
      "text/plain": [
       "         band  beak depth (mm)  beak length (mm)   species    year\n",
       "2177  19026.0              9.4              14.3  scandens  2012.0\n",
       "2178  19028.0              8.9              12.5  scandens  2012.0\n",
       "2179  19029.0              9.5              13.7  scandens  2012.0\n",
       "2180  19094.0             11.0              13.8  scandens  2012.0\n",
       "2181  19122.0              8.7              12.0  scandens  2012.0"
      ]
     },
     "execution_count": 33,
     "metadata": {},
     "output_type": "execute_result"
    }
   ],
   "source": [
    "# Get all scandens in 2012\n",
    "inds2012 = allScandens['year'] == 2012\n",
    "scandens2012 = allScandens.loc[inds2012, :]\n",
    "scandens2012.head()"
   ]
  },
  {
   "cell_type": "code",
   "execution_count": 34,
   "metadata": {
    "collapsed": false
   },
   "outputs": [
    {
     "data": {
      "image/png": "[encoded data removed]",
      "text/plain": [
       "<matplotlib.figure.Figure at 0x91dd633c18>"
      ]
     },
     "metadata": {},
     "output_type": "display_data"
    }
   ],
   "source": [
    "# Store data as Numpy arrays for speed later\n",
    "s1975 = scandens1975['beak length (mm)'].values\n",
    "s2012 = scandens2012['beak length (mm)'].values\n",
    "\n",
    "# Get x-y values for ECDF\n",
    "x_control, y_control = bebi103.ecdf(s1975)\n",
    "x_pest, y_pest = bebi103.ecdf(s2012)\n",
    "\n",
    "# Make plots\n",
    "plt.plot(x_control, y_control, marker='.', linestyle='none')\n",
    "plt.plot(x_pest, y_pest, marker='.', linestyle='none', \n",
    "         color=sns.color_palette()[2])\n",
    "plt.margins(0.02)\n",
    "plt.xlabel('Geospiza scandens beak length (mm)')\n",
    "plt.ylabel('ECDF')\n",
    "plt.legend(('1975', '2012'), loc='lower right');"
   ]
  },
  {
   "cell_type": "markdown",
   "metadata": {},
   "source": [
    "This is the ECDF for Geospiza scandens beak length of 1975 and 2012."
   ]
  },
  {
   "cell_type": "code",
   "execution_count": 35,
   "metadata": {
    "collapsed": false
   },
   "outputs": [
    {
     "name": "stdout",
     "output_type": "stream",
     "text": [
      "The means of beak lengths from our data: \n",
      "14.1209195402 mm for 1975.\n",
      "13.421023622 mm for 2012.\n",
      "\n",
      "We estimate mean lengths below.\n"
     ]
    }
   ],
   "source": [
    "print(\"The means of beak lengths from our data: \\n\" + str(sum(s1975) / len(s1975)) + \" mm for 1975.\")\n",
    "print (str(sum(s2012) / len(s2012)) + \" mm for 2012.\")\n",
    "print (\"\\nWe estimate mean lengths below.\")"
   ]
  },
  {
   "cell_type": "code",
   "execution_count": 36,
   "metadata": {
    "collapsed": true
   },
   "outputs": [],
   "source": [
    "@numba.jit(nopython=True)\n",
    "def draw_bs_sample(data):\n",
    "    \"\"\"\n",
    "    Draw a bootstrap sample from a 1D data set.\n",
    "    \"\"\"\n",
    "    return np.random.choice(data, size=len(data))"
   ]
  },
  {
   "cell_type": "code",
   "execution_count": 37,
   "metadata": {
    "collapsed": true
   },
   "outputs": [],
   "source": [
    "def draw_bs_reps(data, stat_fun, size=10000):\n",
    "    \"\"\"\n",
    "    Draw boostrap replicates computed with stat_fun from 1D data set.\n",
    "    \"\"\"\n",
    "    return np.array([stat_fun(draw_bs_sample(data)) for _ in range(size)])\n",
    "\n",
    "\n",
    "@numba.jit(nopython=True)\n",
    "def draw_bs_reps_mean(data, size=10000):\n",
    "    \"\"\"\n",
    "    Draw boostrap replicates of the mean from 1D data set.\n",
    "    \"\"\"\n",
    "    out = np.empty(size)\n",
    "    for i in range(size):\n",
    "        out[i] = np.mean(draw_bs_sample(data))\n",
    "    return out\n",
    "\n",
    "\n",
    "@numba.jit(nopython=True)\n",
    "def draw_bs_reps_median(data, size=10000):\n",
    "    \"\"\"\n",
    "    Draw boostrap replicates of the median from 1D data set.\n",
    "    \"\"\"\n",
    "    out = np.empty(size)\n",
    "    for i in range(size):\n",
    "        out[i] = np.median(draw_bs_sample(data))\n",
    "    return out\n",
    "\n",
    "@numba.jit(nopython=True)\n",
    "def draw_bs_reps_std(data, size=10000):\n",
    "    \"\"\"\n",
    "    Draw boostrap replicates of the standard deviation from 1D data set.\n",
    "    \"\"\"\n",
    "    out = np.empty(size)\n",
    "    for i in range(size):\n",
    "        out[i] = np.std(draw_bs_sample(data))\n",
    "    return out"
   ]
  },
  {
   "cell_type": "code",
   "execution_count": 38,
   "metadata": {
    "collapsed": false
   },
   "outputs": [],
   "source": [
    "bs_reps_mean_1975 = draw_bs_reps_mean(s1975)\n",
    "bs_reps_mean_2012 = draw_bs_reps_mean(s2012)\n",
    "meanEstimate1975 = sum(list(bs_reps_mean_1975)) / len(list(bs_reps_mean_1975))\n",
    "meanEstimate2012 = sum(list(bs_reps_mean_2012)) / len(list(bs_reps_mean_2012))"
   ]
  },
  {
   "cell_type": "code",
   "execution_count": 39,
   "metadata": {
    "collapsed": false
   },
   "outputs": [
    {
     "name": "stdout",
     "output_type": "stream",
     "text": [
      "Average of the bootstrap replicates for the means of the two years.\n",
      "\n",
      "The mean estimate for beak length of Geospiza scandens in 1975 is 14.1219046437 mm.\n",
      "The mean estimate for beak length of Geospiza scandens in 2012 is 13.4217561811 mm.\n"
     ]
    }
   ],
   "source": [
    "print (\"Average of the bootstrap replicates for the means of the two years.\\n\")\n",
    "\n",
    "print(\"The mean estimate for beak length of Geospiza scandens in 1975 is \" + str(meanEstimate1975) + \" mm.\")\n",
    "print(\"The mean estimate for beak length of Geospiza scandens in 2012 is \" + str(meanEstimate2012) + \" mm.\")"
   ]
  },
  {
   "cell_type": "code",
   "execution_count": 40,
   "metadata": {
    "collapsed": false
   },
   "outputs": [
    {
     "name": "stdout",
     "output_type": "stream",
     "text": [
      "\n",
      "Mean 1975 Geospiza scandens beak length 95% conf int (mm):   [13.97, 14.28]\n",
      "Mean 2012 Geospiza scandens beak length 95% conf int (mm): [13.30, 13.55]\n",
      "\n"
     ]
    }
   ],
   "source": [
    "# 95% confidence intervals\n",
    "mean_1975 = np.percentile(bs_reps_mean_1975, [2.5, 97.5])\n",
    "mean_2012 = np.percentile(bs_reps_mean_2012, [2.5, 97.5])\n",
    "\n",
    "print(\"\"\"\n",
    "Mean 1975 Geospiza scandens beak length 95% conf int (mm):   [{0:.2f}, {1:.2f}]\n",
    "Mean 2012 Geospiza scandens beak length 95% conf int (mm): [{2:.2f}, {3:.2f}]\n",
    "\"\"\".format(*(tuple(mean_1975) + tuple(mean_2012))))"
   ]
  },
  {
   "cell_type": "markdown",
   "metadata": {},
   "source": [
    "<div class=\"alert alert-info\">  The question was about beak depth, not length. Please read carefully next time and explain what you are doing. 8/10"
   ]
  },
  {
   "cell_type": "markdown",
   "metadata": {},
   "source": [
    "# 7.2 C"
   ]
  },
  {
   "cell_type": "code",
   "execution_count": null,
   "metadata": {
    "collapsed": true
   },
   "outputs": [],
   "source": [
    "# Filter to get scandens\n",
    "inds = df['species'] == 'scandens' \n",
    "allScandens = df.loc[inds, :]\n",
    "\n",
    "# Get all scandens in 1975\n",
    "inds1975 = allScandens['year'] == 1975\n",
    "scandens1975 = allScandens.loc[inds1975, :]\n",
    "\n",
    "# Get all scandens in 2012\n",
    "inds2012 = allScandens['year'] == 2012\n",
    "scandens2012 = allScandens.loc[inds2012, :]\n",
    "\n",
    "# Get the beak depths into numpy arrays\n",
    "depth1975 = np.array(scandens1975['beak depth (mm)'])\n",
    "depth2012 = np.array(scandens2012['beak depth (mm)'])"
   ]
  },
  {
   "cell_type": "markdown",
   "metadata": {},
   "source": [
    "**Null hypothesis**: The beak depths of *G. Scandens* in 1975 and 2012 have exactly the same distribution.\n",
    "\n",
    "**Test statistic**: Difference of means of the distributions\n",
    "\n",
    "**Simulation**: Follow the simulation described in Tutorial 7a, which is as follows\n",
    "\n",
    "1) Concatenate the two data sets into one.\n",
    "\n",
    "2) Randomly scramble the order of the combined data set.\n",
    "\n",
    "3) Designate the first $n$ entries in this scrambled array to be \"control\" and the remaining to be \"test.\"\n",
    "\n",
    "We can take $n$ to be any positive integer less than the size of the combined data set. We will choose it to be the size of the data set of *G. Scandens* in 1975.\n",
    "\n",
    "**Definition**: In this case, what it means to be at least as extreme as the test statistic is that the (absolute value of the) difference of means observed in a simulation trial is greater than the difference of means between the two unconcatenated data sets."
   ]
  },
  {
   "cell_type": "code",
   "execution_count": 64,
   "metadata": {
    "collapsed": false
   },
   "outputs": [
    {
     "name": "stdout",
     "output_type": "stream",
     "text": [
      "p-value = 0.01038\n"
     ]
    }
   ],
   "source": [
    "@numba.jit#(nopython=True)\n",
    "def draw_perm_sample(x, y):\n",
    "    '''Generate a permutation sample.'''\n",
    "    concat_data = np.concatenate((x, y))\n",
    "    np.random.shuffle(concat_data)\n",
    "    return concat_data[:len(x)], concat_data[len(x):]\n",
    "\n",
    "@numba.jit#(nopython=True)\n",
    "def draw_perm_reps_diff_mean(x, y, size=10000):\n",
    "    '''\n",
    "    Generate array of permuation replicates.\n",
    "    '''\n",
    "    out = np.empty(size)\n",
    "    for i in range(size):\n",
    "        x_perm, y_perm = draw_perm_sample(x, y)\n",
    "        out[i] = abs(np.mean(x_perm) - np.mean(y_perm))\n",
    "    return out\n",
    "\n",
    "# Compute test statistic for original data set\n",
    "diff_mean = abs(np.mean(depth1975) - np.mean(depth2012))\n",
    "\n",
    "# Draw replicates\n",
    "perm_reps = draw_perm_reps_diff_mean(depth1975, depth2012, size=100000)\n",
    "\n",
    "# Compute p-value\n",
    "p_val = np.sum(perm_reps >= diff_mean) / len(perm_reps)\n",
    "\n",
    "print('p-value =', p_val)"
   ]
  },
  {
   "cell_type": "markdown",
   "metadata": {},
   "source": [
    "Our p-value is small (significant at 95% confidence level), perhaps not as small as we might like it to be, but small nontheless. This means that the probability of getting a difference of means under the null hypothesis as extreme as was observed from the actual data is quite small."
   ]
  },
  {
   "cell_type": "markdown",
   "metadata": {},
   "source": [
    "<div class=\"alert alert-info\"> good 20/20"
   ]
  },
  {
   "cell_type": "markdown",
   "metadata": {
    "collapsed": true
   },
   "source": [
    "# 7.2 D"
   ]
  },
  {
   "cell_type": "markdown",
   "metadata": {},
   "source": [
    "The scalar value for beak shape is (1/2) x beak length x beak depth. We can think of beak shape as being analagous to the area of a finch beak if laid on a two dimensional plane. The beak resembles that of a triangle with base of length beak depth and height of beak length and to get the area, we do 1/2 x base x height = 1/2 x beak length x beak depth."
   ]
  },
  {
   "cell_type": "code",
   "execution_count": 43,
   "metadata": {
    "collapsed": false
   },
   "outputs": [],
   "source": [
    "lengths = list(df['beak length (mm)'])\n",
    "widths = list(df['beak depth (mm)'])\n",
    "shape = []\n",
    "for i in range(len(lengths)):\n",
    "    shape.append(0.5 * lengths[i] * widths[i])"
   ]
  },
  {
   "cell_type": "code",
   "execution_count": 44,
   "metadata": {
    "collapsed": true
   },
   "outputs": [],
   "source": [
    "df['Beak shape'] = shape"
   ]
  },
  {
   "cell_type": "code",
   "execution_count": 45,
   "metadata": {
    "collapsed": false
   },
   "outputs": [
    {
     "data": {
      "text/html": [
       "<div>\n",
       "<table border=\"1\" class=\"dataframe\">\n",
       "  <thead>\n",
       "    <tr style=\"text-align: right;\">\n",
       "      <th></th>\n",
       "      <th>band</th>\n",
       "      <th>beak depth (mm)</th>\n",
       "      <th>beak length (mm)</th>\n",
       "      <th>species</th>\n",
       "      <th>year</th>\n",
       "      <th>Beak shape</th>\n",
       "    </tr>\n",
       "  </thead>\n",
       "  <tbody>\n",
       "    <tr>\n",
       "      <th>0</th>\n",
       "      <td>20123.0</td>\n",
       "      <td>8.05</td>\n",
       "      <td>9.25</td>\n",
       "      <td>fortis</td>\n",
       "      <td>1973.0</td>\n",
       "      <td>37.23125</td>\n",
       "    </tr>\n",
       "    <tr>\n",
       "      <th>1</th>\n",
       "      <td>20126.0</td>\n",
       "      <td>10.45</td>\n",
       "      <td>11.35</td>\n",
       "      <td>fortis</td>\n",
       "      <td>1973.0</td>\n",
       "      <td>59.30375</td>\n",
       "    </tr>\n",
       "    <tr>\n",
       "      <th>2</th>\n",
       "      <td>20128.0</td>\n",
       "      <td>9.55</td>\n",
       "      <td>10.15</td>\n",
       "      <td>fortis</td>\n",
       "      <td>1973.0</td>\n",
       "      <td>48.46625</td>\n",
       "    </tr>\n",
       "    <tr>\n",
       "      <th>3</th>\n",
       "      <td>20129.0</td>\n",
       "      <td>8.75</td>\n",
       "      <td>9.95</td>\n",
       "      <td>fortis</td>\n",
       "      <td>1973.0</td>\n",
       "      <td>43.53125</td>\n",
       "    </tr>\n",
       "    <tr>\n",
       "      <th>4</th>\n",
       "      <td>20133.0</td>\n",
       "      <td>10.15</td>\n",
       "      <td>11.55</td>\n",
       "      <td>fortis</td>\n",
       "      <td>1973.0</td>\n",
       "      <td>58.61625</td>\n",
       "    </tr>\n",
       "  </tbody>\n",
       "</table>\n",
       "</div>"
      ],
      "text/plain": [
       "      band  beak depth (mm)  beak length (mm) species    year  Beak shape\n",
       "0  20123.0             8.05              9.25  fortis  1973.0    37.23125\n",
       "1  20126.0            10.45             11.35  fortis  1973.0    59.30375\n",
       "2  20128.0             9.55             10.15  fortis  1973.0    48.46625\n",
       "3  20129.0             8.75              9.95  fortis  1973.0    43.53125\n",
       "4  20133.0            10.15             11.55  fortis  1973.0    58.61625"
      ]
     },
     "execution_count": 45,
     "metadata": {},
     "output_type": "execute_result"
    }
   ],
   "source": [
    "df.head()"
   ]
  },
  {
   "cell_type": "markdown",
   "metadata": {},
   "source": [
    "We now have an updated dataframe with a new column for our scalar \"Beak shape\" as shown above."
   ]
  },
  {
   "cell_type": "markdown",
   "metadata": {},
   "source": [
    "For the open-ended portion of this question, we are going to compare the two species in ~20 year intervals (1973, 1991, 2012) and see how the species compare against one another each of these years and how each species compares with itself over time."
   ]
  },
  {
   "cell_type": "code",
   "execution_count": 46,
   "metadata": {
    "collapsed": false
   },
   "outputs": [
    {
     "data": {
      "text/html": [
       "<div>\n",
       "<table border=\"1\" class=\"dataframe\">\n",
       "  <thead>\n",
       "    <tr style=\"text-align: right;\">\n",
       "      <th></th>\n",
       "      <th>band</th>\n",
       "      <th>beak depth (mm)</th>\n",
       "      <th>beak length (mm)</th>\n",
       "      <th>species</th>\n",
       "      <th>year</th>\n",
       "      <th>Beak shape</th>\n",
       "    </tr>\n",
       "  </thead>\n",
       "  <tbody>\n",
       "    <tr>\n",
       "      <th>0</th>\n",
       "      <td>20123.0</td>\n",
       "      <td>8.05</td>\n",
       "      <td>9.25</td>\n",
       "      <td>fortis</td>\n",
       "      <td>1973.0</td>\n",
       "      <td>37.23125</td>\n",
       "    </tr>\n",
       "    <tr>\n",
       "      <th>1</th>\n",
       "      <td>20126.0</td>\n",
       "      <td>10.45</td>\n",
       "      <td>11.35</td>\n",
       "      <td>fortis</td>\n",
       "      <td>1973.0</td>\n",
       "      <td>59.30375</td>\n",
       "    </tr>\n",
       "    <tr>\n",
       "      <th>2</th>\n",
       "      <td>20128.0</td>\n",
       "      <td>9.55</td>\n",
       "      <td>10.15</td>\n",
       "      <td>fortis</td>\n",
       "      <td>1973.0</td>\n",
       "      <td>48.46625</td>\n",
       "    </tr>\n",
       "    <tr>\n",
       "      <th>3</th>\n",
       "      <td>20129.0</td>\n",
       "      <td>8.75</td>\n",
       "      <td>9.95</td>\n",
       "      <td>fortis</td>\n",
       "      <td>1973.0</td>\n",
       "      <td>43.53125</td>\n",
       "    </tr>\n",
       "    <tr>\n",
       "      <th>4</th>\n",
       "      <td>20133.0</td>\n",
       "      <td>10.15</td>\n",
       "      <td>11.55</td>\n",
       "      <td>fortis</td>\n",
       "      <td>1973.0</td>\n",
       "      <td>58.61625</td>\n",
       "    </tr>\n",
       "  </tbody>\n",
       "</table>\n",
       "</div>"
      ],
      "text/plain": [
       "      band  beak depth (mm)  beak length (mm) species    year  Beak shape\n",
       "0  20123.0             8.05              9.25  fortis  1973.0    37.23125\n",
       "1  20126.0            10.45             11.35  fortis  1973.0    59.30375\n",
       "2  20128.0             9.55             10.15  fortis  1973.0    48.46625\n",
       "3  20129.0             8.75              9.95  fortis  1973.0    43.53125\n",
       "4  20133.0            10.15             11.55  fortis  1973.0    58.61625"
      ]
     },
     "execution_count": 46,
     "metadata": {},
     "output_type": "execute_result"
    }
   ],
   "source": [
    "# Filter to get fortis\n",
    "inds = df['species'] == 'fortis' \n",
    "allFortis = df.loc[inds,: ]\n",
    "allFortis.head()"
   ]
  },
  {
   "cell_type": "code",
   "execution_count": 47,
   "metadata": {
    "collapsed": false
   },
   "outputs": [
    {
     "data": {
      "text/html": [
       "<div>\n",
       "<table border=\"1\" class=\"dataframe\">\n",
       "  <thead>\n",
       "    <tr style=\"text-align: right;\">\n",
       "      <th></th>\n",
       "      <th>band</th>\n",
       "      <th>beak depth (mm)</th>\n",
       "      <th>beak length (mm)</th>\n",
       "      <th>species</th>\n",
       "      <th>year</th>\n",
       "      <th>Beak shape</th>\n",
       "    </tr>\n",
       "  </thead>\n",
       "  <tbody>\n",
       "    <tr>\n",
       "      <th>73</th>\n",
       "      <td>20121.0</td>\n",
       "      <td>9.35</td>\n",
       "      <td>15.15</td>\n",
       "      <td>scandens</td>\n",
       "      <td>1973.0</td>\n",
       "      <td>70.82625</td>\n",
       "    </tr>\n",
       "    <tr>\n",
       "      <th>74</th>\n",
       "      <td>20125.0</td>\n",
       "      <td>9.75</td>\n",
       "      <td>15.05</td>\n",
       "      <td>scandens</td>\n",
       "      <td>1973.0</td>\n",
       "      <td>73.36875</td>\n",
       "    </tr>\n",
       "    <tr>\n",
       "      <th>75</th>\n",
       "      <td>20135.0</td>\n",
       "      <td>8.35</td>\n",
       "      <td>14.45</td>\n",
       "      <td>scandens</td>\n",
       "      <td>1973.0</td>\n",
       "      <td>60.32875</td>\n",
       "    </tr>\n",
       "    <tr>\n",
       "      <th>76</th>\n",
       "      <td>20159.0</td>\n",
       "      <td>9.55</td>\n",
       "      <td>14.05</td>\n",
       "      <td>scandens</td>\n",
       "      <td>1973.0</td>\n",
       "      <td>67.08875</td>\n",
       "    </tr>\n",
       "    <tr>\n",
       "      <th>77</th>\n",
       "      <td>20160.0</td>\n",
       "      <td>8.55</td>\n",
       "      <td>14.25</td>\n",
       "      <td>scandens</td>\n",
       "      <td>1973.0</td>\n",
       "      <td>60.91875</td>\n",
       "    </tr>\n",
       "  </tbody>\n",
       "</table>\n",
       "</div>"
      ],
      "text/plain": [
       "       band  beak depth (mm)  beak length (mm)   species    year  Beak shape\n",
       "73  20121.0             9.35             15.15  scandens  1973.0    70.82625\n",
       "74  20125.0             9.75             15.05  scandens  1973.0    73.36875\n",
       "75  20135.0             8.35             14.45  scandens  1973.0    60.32875\n",
       "76  20159.0             9.55             14.05  scandens  1973.0    67.08875\n",
       "77  20160.0             8.55             14.25  scandens  1973.0    60.91875"
      ]
     },
     "execution_count": 47,
     "metadata": {},
     "output_type": "execute_result"
    }
   ],
   "source": [
    "# Filter to get fortis\n",
    "inds = df['species'] == 'scandens' \n",
    "allScandens = df.loc[inds,: ]\n",
    "allScandens.head()"
   ]
  },
  {
   "cell_type": "code",
   "execution_count": 48,
   "metadata": {
    "collapsed": true
   },
   "outputs": [],
   "source": [
    "# Filter to get data corresponding to years 1973, 1991, and 2012 of scanden species\n",
    "inds1973 = allScandens['year'] == 1973\n",
    "scandens1973 = allScandens.loc[inds1973, :]\n",
    "\n",
    "inds1991 = allScandens['year'] == 1991\n",
    "scandens1991 = allScandens.loc[inds1991, :]\n",
    "\n",
    "inds2012 = allScandens['year'] == 2012\n",
    "scandens2012 = allScandens.loc[inds2012, :]"
   ]
  },
  {
   "cell_type": "code",
   "execution_count": 49,
   "metadata": {
    "collapsed": true
   },
   "outputs": [],
   "source": [
    "# Filter to get data corresponding to years 1973, 1991, and 2012 of fortis species\n",
    "\n",
    "inds1973 = allFortis['year'] == 1973\n",
    "fortis1973 = allFortis.loc[inds1973, :]\n",
    "\n",
    "inds1991 = allFortis['year'] == 1991\n",
    "fortis1991 = allFortis.loc[inds1991, :]\n",
    "\n",
    "inds2012 = allFortis['year'] == 2012\n",
    "fortis2012 = allFortis.loc[inds2012, :]\n"
   ]
  },
  {
   "cell_type": "code",
   "execution_count": 50,
   "metadata": {
    "collapsed": false
   },
   "outputs": [
    {
     "data": {
      "image/png": "[encoded data removed]",
      "text/plain": [
       "<matplotlib.figure.Figure at 0x91db9b0c18>"
      ]
     },
     "metadata": {},
     "output_type": "display_data"
    }
   ],
   "source": [
    "# Store data as Numpy arrays for speed later\n",
    "s1973 = scandens1973['Beak shape'].values\n",
    "s1991 = scandens1991['Beak shape'].values\n",
    "s2012 = scandens2012['Beak shape'].values\n",
    "# Get x-y values for ECDF\n",
    "x_control, y_control = bebi103.ecdf(s1973)\n",
    "x_pest, y_pest = bebi103.ecdf(s1991)\n",
    "x_pest1, y_pest1 = bebi103.ecdf(s2012)\n",
    "\n",
    "# Make plots\n",
    "plt.plot(x_control, y_control, marker='.', linestyle='none')\n",
    "plt.plot(x_pest, y_pest, marker='.', linestyle='none', \n",
    "         color=sns.color_palette()[2])\n",
    "plt.plot(x_pest1, y_pest1, marker='.', linestyle='none', \n",
    "         color=sns.color_palette()[1])\n",
    "plt.margins(0.02)\n",
    "plt.xlabel('Beak Shape (Scandens)')\n",
    "plt.ylabel('ECDF')\n",
    "plt.legend(('1975', '1991', '2012'), loc='lower right');"
   ]
  },
  {
   "cell_type": "markdown",
   "metadata": {},
   "source": [
    "Just visually looking at the ECDF, it appears that the beak shape has gotten smaller with time. Let's do another ECDF for the other species for the same years. "
   ]
  },
  {
   "cell_type": "code",
   "execution_count": 51,
   "metadata": {
    "collapsed": false
   },
   "outputs": [
    {
     "data": {
      "image/png": "[encoded data removed]",
      "text/plain": [
       "<matplotlib.figure.Figure at 0x91dba17d68>"
      ]
     },
     "metadata": {},
     "output_type": "display_data"
    }
   ],
   "source": [
    "# Store data as Numpy arrays for speed later\n",
    "f1973 = fortis1973['Beak shape'].values\n",
    "f1991 = fortis1991['Beak shape'].values\n",
    "f2012 = fortis2012['Beak shape'].values\n",
    "# Get x-y values for ECDF\n",
    "x_control, y_control = bebi103.ecdf(f1973)\n",
    "x_pest, y_pest = bebi103.ecdf(f1991)\n",
    "x_pest1, y_pest1 = bebi103.ecdf(f2012)\n",
    "\n",
    "# Make plots\n",
    "plt.plot(x_control, y_control, marker='.', linestyle='none')\n",
    "plt.plot(x_pest, y_pest, marker='.', linestyle='none', \n",
    "         color=sns.color_palette()[2])\n",
    "plt.plot(x_pest1, y_pest1, marker='.', linestyle='none', \n",
    "         color=sns.color_palette()[1])\n",
    "plt.margins(0.02)\n",
    "plt.xlabel('Beak Shape (Fortis)')\n",
    "plt.ylabel('ECDF')\n",
    "plt.legend(('1975', '1991', '2012'), loc='lower right');"
   ]
  },
  {
   "cell_type": "markdown",
   "metadata": {},
   "source": [
    "We see a similar trend in the Fortis species, but a more drastic drop in beak shape from 1991 to 2012 and a smaller decrease in beak shape from 1975 to 1991. This may be attributed to the severe drought in 1976 and 1977 explored in part (c)."
   ]
  },
  {
   "cell_type": "markdown",
   "metadata": {},
   "source": [
    "We will now keep the year constant, and plot ECDFs of the two species against one another for each year."
   ]
  },
  {
   "cell_type": "code",
   "execution_count": 52,
   "metadata": {
    "collapsed": false
   },
   "outputs": [
    {
     "data": {
      "image/png": "[encoded data removed]",
      "text/plain": [
       "<matplotlib.figure.Figure at 0x91db7dfc88>"
      ]
     },
     "metadata": {},
     "output_type": "display_data"
    }
   ],
   "source": [
    "# Store data as Numpy arrays for speed later\n",
    "s1973 = scandens1973['Beak shape'].values\n",
    "f1973 = fortis1973['Beak shape'].values\n",
    "\n",
    "# Get x-y values for ECDF\n",
    "x_control, y_control = bebi103.ecdf(s1973)\n",
    "x_pest, y_pest = bebi103.ecdf(f1973)\n",
    "\n",
    "\n",
    "# Make plots\n",
    "plt.plot(x_control, y_control, marker='.', linestyle='none')\n",
    "plt.plot(x_pest, y_pest, marker='.', linestyle='none', \n",
    "         color=sns.color_palette()[2])\n",
    "\n",
    "plt.margins(0.02)\n",
    "plt.xlabel('Beak Shape (1973)')\n",
    "plt.ylabel('ECDF')\n",
    "plt.legend(('Scandens', 'Fortis'), loc='lower right');"
   ]
  },
  {
   "cell_type": "code",
   "execution_count": 53,
   "metadata": {
    "collapsed": false
   },
   "outputs": [
    {
     "data": {
      "image/png": "[encoded data removed]",
      "text/plain": [
       "<matplotlib.figure.Figure at 0x91db92b550>"
      ]
     },
     "metadata": {},
     "output_type": "display_data"
    }
   ],
   "source": [
    "# Store data as Numpy arrays for speed later\n",
    "s1991 = scandens1991['Beak shape'].values\n",
    "f1991 = fortis1991['Beak shape'].values\n",
    "\n",
    "# Get x-y values for ECDF\n",
    "x_control, y_control = bebi103.ecdf(s1991)\n",
    "x_pest, y_pest = bebi103.ecdf(f1991)\n",
    "\n",
    "\n",
    "# Make plots\n",
    "plt.plot(x_control, y_control, marker='.', linestyle='none')\n",
    "plt.plot(x_pest, y_pest, marker='.', linestyle='none', \n",
    "         color=sns.color_palette()[2])\n",
    "\n",
    "plt.margins(0.02)\n",
    "plt.xlabel('Beak Shape (1991)')\n",
    "plt.ylabel('ECDF')\n",
    "plt.legend(('Scandens', 'Fortis'), loc='lower right');"
   ]
  },
  {
   "cell_type": "code",
   "execution_count": 54,
   "metadata": {
    "collapsed": false
   },
   "outputs": [
    {
     "data": {
      "image/png": "[encoded data removed]",
      "text/plain": [
       "<matplotlib.figure.Figure at 0x91db7ad8d0>"
      ]
     },
     "metadata": {},
     "output_type": "display_data"
    }
   ],
   "source": [
    "# Store data as Numpy arrays for speed later\n",
    "s2012 = scandens2012['Beak shape'].values\n",
    "f2012 = fortis2012['Beak shape'].values\n",
    "\n",
    "# Get x-y values for ECDF\n",
    "x_control, y_control = bebi103.ecdf(s2012)\n",
    "x_pest, y_pest = bebi103.ecdf(f2012)\n",
    "\n",
    "\n",
    "# Make plots\n",
    "plt.plot(x_control, y_control, marker='.', linestyle='none')\n",
    "plt.plot(x_pest, y_pest, marker='.', linestyle='none', \n",
    "         color=sns.color_palette()[2])\n",
    "\n",
    "plt.margins(0.02)\n",
    "plt.xlabel('Beak Shape (2012)')\n",
    "plt.ylabel('ECDF')\n",
    "plt.legend(('Scandens', 'Fortis'), loc='lower right');"
   ]
  },
  {
   "cell_type": "markdown",
   "metadata": {},
   "source": [
    "Just looking at the ECDFs comparing the two species over time, it seems that finches of the specie Fortis have larger beak shapes than those of species Scandens. "
   ]
  },
  {
   "cell_type": "markdown",
   "metadata": {},
   "source": [
    "Now, to get some actual quantites, we will provide estimates for mean and confidence intervals for both species in each of the three years chosen (1973, 19991, and 2012)."
   ]
  },
  {
   "cell_type": "code",
   "execution_count": 55,
   "metadata": {
    "collapsed": false
   },
   "outputs": [
    {
     "name": "stdout",
     "output_type": "stream",
     "text": [
      "\n",
      "1973 scandens beak shape mean: 69.01. The 95% conf int (mm^2): 65.68, 72.41\n",
      "1991 scandens beak shape mean: 63.38. The 95% conf int (mm^2): 62.05, 64.73\n",
      "2012 scandens beak shape mean: 61.76. The 95% conf int (mm^2): 60.58, 62.89\n",
      "\n",
      "\n",
      "\n",
      "1973 fortis beak shape mean: 51.28. The 95% conf int (mm^2): 49.47, 53.10\n",
      "1991 fortis beak shape mean: 50.34. The 95% conf int (mm^2): 49.69, 50.98\n",
      "2012 fortis beak shape mean: 45.54. The 95% conf int (mm^2): 44.31, 46.77\n",
      "\n",
      "\n"
     ]
    }
   ],
   "source": [
    "# Mean estimates for scandens\n",
    "\n",
    "bs_reps_mean_1973s = draw_bs_reps_mean(s1973)\n",
    "bs_reps_mean_1991s = draw_bs_reps_mean(s1991)\n",
    "bs_reps_mean_2012s = draw_bs_reps_mean(s2012)\n",
    "\n",
    "meanEstimate1973s = sum(list(bs_reps_mean_1973s)) / len(list(bs_reps_mean_1973s))\n",
    "meanEstimate1991s = sum(list(bs_reps_mean_1991s)) / len(list(bs_reps_mean_1991s))\n",
    "meanEstimate2012s = sum(list(bs_reps_mean_2012s)) / len(list(bs_reps_mean_2012s))\n",
    "\n",
    "# 95% confidence intervals for scandens\n",
    "mean_1973s = np.percentile(bs_reps_mean_1973s, [2.5, 97.5])\n",
    "mean_1991s = np.percentile(bs_reps_mean_1991s, [2.5, 97.5])\n",
    "mean_2012s = np.percentile(bs_reps_mean_2012s, [2.5, 97.5])\n",
    "# Mean estimates for fortis\n",
    "\n",
    "bs_reps_mean_1973f = draw_bs_reps_mean(f1973)\n",
    "bs_reps_mean_1991f = draw_bs_reps_mean(f1991)\n",
    "bs_reps_mean_2012f = draw_bs_reps_mean(f2012)\n",
    "\n",
    "meanEstimate1973f = sum(list(bs_reps_mean_1973f)) / len(list(bs_reps_mean_1973f))\n",
    "meanEstimate1991f = sum(list(bs_reps_mean_1991f)) / len(list(bs_reps_mean_1991f))\n",
    "meanEstimate2012f = sum(list(bs_reps_mean_2012f)) / len(list(bs_reps_mean_2012f))\n",
    "\n",
    "# 95% confidence intervals for fortis\n",
    "mean_1973f = np.percentile(bs_reps_mean_1973f, [2.5, 97.5])\n",
    "mean_1991f = np.percentile(bs_reps_mean_1991f, [2.5, 97.5])\n",
    "mean_2012f = np.percentile(bs_reps_mean_2012f, [2.5, 97.5])\n",
    "\n",
    "print(\"\"\"\n",
    "1973 scandens beak shape mean: {:.2f}. The 95% conf int (mm^2): {:.2f}, {:.2f}\n",
    "1991 scandens beak shape mean: {:.2f}. The 95% conf int (mm^2): {:.2f}, {:.2f}\n",
    "2012 scandens beak shape mean: {:.2f}. The 95% conf int (mm^2): {:.2f}, {:.2f}\n",
    "\n",
    "\"\"\".format(meanEstimate1973s, mean_1973s[0], mean_1973s[1], meanEstimate1991s, mean_1991s[0], mean_1991s[1], meanEstimate2012s, mean_2012s[0], mean_2012s[1])) \n",
    "print(\"\"\"\n",
    "1973 fortis beak shape mean: {:.2f}. The 95% conf int (mm^2): {:.2f}, {:.2f}\n",
    "1991 fortis beak shape mean: {:.2f}. The 95% conf int (mm^2): {:.2f}, {:.2f}\n",
    "2012 fortis beak shape mean: {:.2f}. The 95% conf int (mm^2): {:.2f}, {:.2f}\n",
    "\n",
    "\"\"\".format(meanEstimate1973f, mean_1973f[0], mean_1973f[1], meanEstimate1991f, mean_1991f[0], mean_1991f[1], meanEstimate2012f, mean_2012f[0], mean_2012f[1])) \n",
    "\n"
   ]
  },
  {
   "cell_type": "markdown",
   "metadata": {},
   "source": [
    "With actual quantitative estimates, a lot of what we speculated in the plotting of our ECDFs appear to be supported. Among each species, we see decreasing beak shape means as time goes by and for each year, we see that scandens have a larger mean than fortis.\n",
    "\n",
    "Let's now conduct some hypothesis tests and generate some p-values. \n",
    "\n",
    "First we will compare *Scandens* to *Fortis* for each year in {1973, 1991, 2012}, beginning in 1973. Our null hypothesis is that the distributions of beak shapes for the two species in 1973 are identical. Our test statistic is difference of means of the distributions. Our simulation will be the same as what we did for part c of this problem. In fact, we will use the same functions."
   ]
  },
  {
   "cell_type": "code",
   "execution_count": 65,
   "metadata": {
    "collapsed": false
   },
   "outputs": [
    {
     "name": "stdout",
     "output_type": "stream",
     "text": [
      "p-value = 0.0\n"
     ]
    }
   ],
   "source": [
    "# Compute test statistic for original data set\n",
    "diff_mean = abs(np.mean(s1973) - np.mean(f1973))\n",
    "\n",
    "# Draw replicates\n",
    "perm_reps = draw_perm_reps_diff_mean(s1973, f1973, size=100000)\n",
    "\n",
    "# Compute p-value\n",
    "p_val = np.sum(perm_reps >= diff_mean) / len(perm_reps)\n",
    "\n",
    "print('p-value =', p_val)"
   ]
  },
  {
   "cell_type": "markdown",
   "metadata": {},
   "source": [
    "Even with 100 thousand replicates, we still have a p-value of 0. Therefore the probability of observing a difference of means as extreme as the difference for the real data, under the null hypothesis, is extremely small. We can conclude that the assumption that the two distributions are identical is highly unlikely. There is strong evidence suggesting a difference between the means of the distributions.\n",
    "\n",
    "Now we perform the same hypothesis test for the two species' distributions of 1991."
   ]
  },
  {
   "cell_type": "code",
   "execution_count": 66,
   "metadata": {
    "collapsed": false
   },
   "outputs": [
    {
     "name": "stdout",
     "output_type": "stream",
     "text": [
      "p-value = 0.0\n"
     ]
    }
   ],
   "source": [
    "diff_mean = abs(np.mean(s1991) - np.mean(f1991))\n",
    "perm_reps = draw_perm_reps_diff_mean(s1991, f1991, size=100000)\n",
    "p_val = np.sum(perm_reps >= diff_mean) / len(perm_reps)\n",
    "\n",
    "print('p-value =', p_val)"
   ]
  },
  {
   "cell_type": "markdown",
   "metadata": {},
   "source": [
    "Similarly to the distributions of 1973, the p-value is 0 even with 100 thousand replications. Similarly, in 1991, there is strong evidence against the null hypothesis that the two species beak shapes come from the same distribution. \n",
    "\n",
    "Now we perform the same hypothesis test for the two species' distributions of 2012."
   ]
  },
  {
   "cell_type": "code",
   "execution_count": 69,
   "metadata": {
    "collapsed": false
   },
   "outputs": [
    {
     "name": "stdout",
     "output_type": "stream",
     "text": [
      "p-value = 0.0\n"
     ]
    }
   ],
   "source": [
    "diff_mean = abs(np.mean(s2012) - np.mean(f2012))\n",
    "perm_reps = draw_perm_reps_diff_mean(s2012, f2012, size=10000)\n",
    "p_val = np.sum(perm_reps >= diff_mean) / len(perm_reps)\n",
    "\n",
    "print('p-value =', p_val)"
   ]
  },
  {
   "cell_type": "markdown",
   "metadata": {},
   "source": [
    "Again, our p-value is 0. Our assumption that the two distributions are equal seems incredibly unlikely.\n",
    "\n",
    "Now we will compare two distributions of the same species but from different years. We will compare both species to itself for each subset of the years {1973, 1991, 2012}, which totals six hypothesis tests, 3 for each species.\n",
    "\n",
    "We will begin with comparing *Scandens 1973* to *Scandens 1991*. The hypothesis test will be the same as those above, i.e. same null hypothesis, test statistic, and simulation."
   ]
  },
  {
   "cell_type": "code",
   "execution_count": 76,
   "metadata": {
    "collapsed": false
   },
   "outputs": [
    {
     "name": "stdout",
     "output_type": "stream",
     "text": [
      "p-value = 0.0045\n"
     ]
    }
   ],
   "source": [
    "diff_mean = abs(np.mean(s1973) - np.mean(s1991))\n",
    "perm_reps = draw_perm_reps_diff_mean(s1973, s1991, size=10000)\n",
    "p_val = np.sum(perm_reps >= diff_mean) / len(perm_reps)\n",
    "\n",
    "print('p-value =', p_val)"
   ]
  },
  {
   "cell_type": "markdown",
   "metadata": {},
   "source": [
    "Our p-value is 0.0045. As this is quite small, we can say that it is highly unlikely to observe a difference of means under this hypothesis that is as extreme as the difference observed in the actual data. It seems unlikely the two distributions are identical and suggests there is a change in beak shape from year 1973 to 1991 for Scandens.\n",
    "\n",
    "Now we compare *Scandens 1973* to *Scandens 2012*."
   ]
  },
  {
   "cell_type": "code",
   "execution_count": 77,
   "metadata": {
    "collapsed": false
   },
   "outputs": [
    {
     "name": "stdout",
     "output_type": "stream",
     "text": [
      "p-value = 0.0\n"
     ]
    }
   ],
   "source": [
    "diff_mean = abs(np.mean(s1973) - np.mean(s2012))\n",
    "perm_reps = draw_perm_reps_diff_mean(s1973, s2012, size=10000)\n",
    "p_val = np.sum(perm_reps >= diff_mean) / len(perm_reps)\n",
    "\n",
    "print('p-value =', p_val)"
   ]
  },
  {
   "cell_type": "markdown",
   "metadata": {},
   "source": [
    "Our p-value is 0. It is therefore very unlikely to observe a difference of means under this hypothesis that is as extreme as the difference of means observed between the actual two distributions. Again, this suggests a change in Scandens beak shape from 1973 to 2012.\n",
    "\n",
    "Now we compare *Scandens 1991* to *Scandens 2012*."
   ]
  },
  {
   "cell_type": "code",
   "execution_count": 78,
   "metadata": {
    "collapsed": false
   },
   "outputs": [
    {
     "name": "stdout",
     "output_type": "stream",
     "text": [
      "p-value = 0.087\n"
     ]
    }
   ],
   "source": [
    "diff_mean = abs(np.mean(s1991) - np.mean(s2012))\n",
    "perm_reps = draw_perm_reps_diff_mean(s1991, s2012, size=10000)\n",
    "p_val = np.sum(perm_reps >= diff_mean) / len(perm_reps)\n",
    "\n",
    "print('p-value =', p_val)"
   ]
  },
  {
   "cell_type": "markdown",
   "metadata": {},
   "source": [
    "Our p-value is 0.087. This p-value indicates that it is somewhat unlikely, but not extremely unlikely, to observe a difference of means more extreme than the difference for the actual distributions under the hypothesis. We should not look to draw conclusions about the likelihood of the hypothesis and note that there is no significant difference (at the 95% confidence level) of a difference in Scandens beak shape from 1991 to 2012.\n",
    "\n",
    "Now we will compare *Fortis* distributions, starting with *Fortis 1973* and *Fortis 1991*."
   ]
  },
  {
   "cell_type": "code",
   "execution_count": 79,
   "metadata": {
    "collapsed": false
   },
   "outputs": [
    {
     "name": "stdout",
     "output_type": "stream",
     "text": [
      "p-value = 0.2984\n"
     ]
    }
   ],
   "source": [
    "diff_mean = abs(np.mean(f1973) - np.mean(f1991))\n",
    "perm_reps = draw_perm_reps_diff_mean(f1973, f1991, size=10000)\n",
    "p_val = np.sum(perm_reps >= diff_mean) / len(perm_reps)\n",
    "\n",
    "print('p-value =', p_val)"
   ]
  },
  {
   "cell_type": "markdown",
   "metadata": {},
   "source": [
    "Our p-value is 0.2984, which indicates that it is not particularly unlikely to observe a difference of means more extreme than the difference for the actual distributions under the hypothesis. There does not appear to be a significant difference in mean beak shape from 1973 to 1991 in Fortis beak shape.\n",
    "\n",
    "Now we compare *Fortis 1973* and *Fortis 2012*."
   ]
  },
  {
   "cell_type": "code",
   "execution_count": 80,
   "metadata": {
    "collapsed": false
   },
   "outputs": [
    {
     "name": "stdout",
     "output_type": "stream",
     "text": [
      "p-value = 0.0\n"
     ]
    }
   ],
   "source": [
    "diff_mean = abs(np.mean(f1973) - np.mean(f2012))\n",
    "perm_reps = draw_perm_reps_diff_mean(f1973, f2012, size=10000)\n",
    "p_val = np.sum(perm_reps >= diff_mean) / len(perm_reps)\n",
    "\n",
    "print('p-value =', p_val)"
   ]
  },
  {
   "cell_type": "markdown",
   "metadata": {},
   "source": [
    "Our p-value is 0. This means that it is very unlikely to observe a difference of means under this hypothesis that is more extreme than the difference observed between means of the actual distributions. There is evidence suggesting a difference in beak shapes from 1973 to 2012.\n",
    "\n",
    "Finally we compare *Fortis 1991* and *Fortis 2012*."
   ]
  },
  {
   "cell_type": "code",
   "execution_count": 81,
   "metadata": {
    "collapsed": false
   },
   "outputs": [
    {
     "name": "stdout",
     "output_type": "stream",
     "text": [
      "p-value = 0.0\n"
     ]
    }
   ],
   "source": [
    "diff_mean = abs(np.mean(f1991) - np.mean(f2012))\n",
    "perm_reps = draw_perm_reps_diff_mean(f1991, f2012, size=10000)\n",
    "p_val = np.sum(perm_reps >= diff_mean) / len(perm_reps)\n",
    "\n",
    "print('p-value =', p_val)"
   ]
  },
  {
   "cell_type": "markdown",
   "metadata": {},
   "source": [
    "Our p-value 0. Similarly, there is evidence suggesting that there is a difference from 1991 to 2012 in beak shapes for Fortis."
   ]
  },
  {
   "cell_type": "markdown",
   "metadata": {},
   "source": [
    "In summary, our speculations after looking at the ECDFs appear to be validated by the generated p-values."
   ]
  },
  {
   "cell_type": "markdown",
   "metadata": {},
   "source": [
    "<div class=\"alert alert-info\"> 25/25"
   ]
  },
  {
   "cell_type": "markdown",
   "metadata": {},
   "source": [
    "# 7.2 E"
   ]
  },
  {
   "cell_type": "code",
   "execution_count": 82,
   "metadata": {
    "collapsed": true
   },
   "outputs": [],
   "source": [
    "dfScandens = pd.read_csv('../data/scandens_beak_depth_heredity.csv', comment='#')\n",
    "dfFortis = pd.read_csv('../data/fortis_beak_depth_heredity.csv', comment='#')"
   ]
  },
  {
   "cell_type": "code",
   "execution_count": 83,
   "metadata": {
    "collapsed": false
   },
   "outputs": [
    {
     "data": {
      "text/html": [
       "<div>\n",
       "<table border=\"1\" class=\"dataframe\">\n",
       "  <thead>\n",
       "    <tr style=\"text-align: right;\">\n",
       "      <th></th>\n",
       "      <th>mid_parent</th>\n",
       "      <th>mid_offspring</th>\n",
       "    </tr>\n",
       "  </thead>\n",
       "  <tbody>\n",
       "    <tr>\n",
       "      <th>0</th>\n",
       "      <td>8.3318</td>\n",
       "      <td>8.4190</td>\n",
       "    </tr>\n",
       "    <tr>\n",
       "      <th>1</th>\n",
       "      <td>8.4035</td>\n",
       "      <td>9.2468</td>\n",
       "    </tr>\n",
       "    <tr>\n",
       "      <th>2</th>\n",
       "      <td>8.5317</td>\n",
       "      <td>8.1532</td>\n",
       "    </tr>\n",
       "    <tr>\n",
       "      <th>3</th>\n",
       "      <td>8.7202</td>\n",
       "      <td>8.0089</td>\n",
       "    </tr>\n",
       "    <tr>\n",
       "      <th>4</th>\n",
       "      <td>8.7089</td>\n",
       "      <td>8.2215</td>\n",
       "    </tr>\n",
       "  </tbody>\n",
       "</table>\n",
       "</div>"
      ],
      "text/plain": [
       "   mid_parent  mid_offspring\n",
       "0      8.3318         8.4190\n",
       "1      8.4035         9.2468\n",
       "2      8.5317         8.1532\n",
       "3      8.7202         8.0089\n",
       "4      8.7089         8.2215"
      ]
     },
     "execution_count": 83,
     "metadata": {},
     "output_type": "execute_result"
    }
   ],
   "source": [
    "mid_parentS = np.asarray(dfScandens['mid_parent'].values)\n",
    "mid_offS = np.asarray(dfScandens['mid_offspring'].values)\n",
    "dfScandens.head()"
   ]
  },
  {
   "cell_type": "code",
   "execution_count": 84,
   "metadata": {
    "collapsed": true
   },
   "outputs": [],
   "source": [
    "mid_parentF = []\n",
    "maleBD = dfFortis['Male BD']\n",
    "femaleBD = dfFortis['Female BD']\n",
    "for i in range(len(maleBD)):\n",
    "    mid_parentF.append((maleBD[i] + femaleBD[i]) / 2)\n",
    "dfFortis['mid_parent'] = mid_parentF\n",
    "mid_parentF = np.asarray(mid_parentF)\n",
    "mid_offF = np.asarray(dfFortis['Mid-offspr'].values)"
   ]
  },
  {
   "cell_type": "code",
   "execution_count": 85,
   "metadata": {
    "collapsed": false
   },
   "outputs": [
    {
     "data": {
      "text/html": [
       "<div>\n",
       "<table border=\"1\" class=\"dataframe\">\n",
       "  <thead>\n",
       "    <tr style=\"text-align: right;\">\n",
       "      <th></th>\n",
       "      <th>Mid-offspr</th>\n",
       "      <th>Male BD</th>\n",
       "      <th>Female BD</th>\n",
       "      <th>mid_parent</th>\n",
       "    </tr>\n",
       "  </thead>\n",
       "  <tbody>\n",
       "    <tr>\n",
       "      <th>0</th>\n",
       "      <td>10.70</td>\n",
       "      <td>10.90</td>\n",
       "      <td>9.3</td>\n",
       "      <td>10.100</td>\n",
       "    </tr>\n",
       "    <tr>\n",
       "      <th>1</th>\n",
       "      <td>9.78</td>\n",
       "      <td>10.70</td>\n",
       "      <td>8.4</td>\n",
       "      <td>9.550</td>\n",
       "    </tr>\n",
       "    <tr>\n",
       "      <th>2</th>\n",
       "      <td>9.48</td>\n",
       "      <td>10.70</td>\n",
       "      <td>8.1</td>\n",
       "      <td>9.400</td>\n",
       "    </tr>\n",
       "    <tr>\n",
       "      <th>3</th>\n",
       "      <td>9.60</td>\n",
       "      <td>10.70</td>\n",
       "      <td>9.8</td>\n",
       "      <td>10.250</td>\n",
       "    </tr>\n",
       "    <tr>\n",
       "      <th>4</th>\n",
       "      <td>10.27</td>\n",
       "      <td>9.85</td>\n",
       "      <td>10.4</td>\n",
       "      <td>10.125</td>\n",
       "    </tr>\n",
       "  </tbody>\n",
       "</table>\n",
       "</div>"
      ],
      "text/plain": [
       "   Mid-offspr  Male BD  Female BD  mid_parent\n",
       "0       10.70    10.90        9.3      10.100\n",
       "1        9.78    10.70        8.4       9.550\n",
       "2        9.48    10.70        8.1       9.400\n",
       "3        9.60    10.70        9.8      10.250\n",
       "4       10.27     9.85       10.4      10.125"
      ]
     },
     "execution_count": 85,
     "metadata": {},
     "output_type": "execute_result"
    }
   ],
   "source": [
    "dfFortis.head()"
   ]
  },
  {
   "cell_type": "markdown",
   "metadata": {},
   "source": [
    "Note we have an extra column (called 'mid_parent') now, that stores the average of parent beak depth: $\\frac{\\text{Male BD + Female BD}}{2}$."
   ]
  },
  {
   "cell_type": "code",
   "execution_count": 86,
   "metadata": {
    "collapsed": true
   },
   "outputs": [],
   "source": [
    "def calculateRatio(parents, offspring):\n",
    "    variance = np.var(parents)\n",
    "    covariance = np.cov(parents, offspring)\n",
    "    cov = covariance[0,1]\n",
    "    return cov/variance"
   ]
  },
  {
   "cell_type": "code",
   "execution_count": 87,
   "metadata": {
    "collapsed": true
   },
   "outputs": [],
   "source": [
    "def returnBootStrapPairs(x, y):\n",
    "    n = len(x)\n",
    "    inds = np.arange(n)\n",
    "    bs_inds = np.random.choice(inds, size=n)\n",
    "    bs_x, bs_y = x[bs_inds], y[bs_inds]\n",
    "    return bs_x, bs_y"
   ]
  },
  {
   "cell_type": "code",
   "execution_count": 88,
   "metadata": {
    "collapsed": true
   },
   "outputs": [],
   "source": [
    "# We will now determine mean and confidence intervals for the Scandens species\n",
    "ratioS = []\n",
    "\n",
    "for i in range(10000): # 10000 bootstrap runs\n",
    "    parent, off = returnBootStrapPairs(mid_parentS, mid_offS) # This function swaps indices to keep parent/offspring pairing\n",
    "    ratioS.append(calculateRatio(parent, off))\n",
    "totalSum = 0\n",
    "for j in ratioS:\n",
    "    totalSum += np.mean(j)\n",
    "meanEstimateS = totalSum/ len(ratioS)  #Calculate mean estimate\n",
    "confidenceIntervalS = np.percentile(ratioS, [2.5, 97.5])  #Calculate CI"
   ]
  },
  {
   "cell_type": "code",
   "execution_count": 89,
   "metadata": {
    "collapsed": true
   },
   "outputs": [],
   "source": [
    "# We will now determine mean and confidence intervals for the Fortis species\n",
    "ratioF = []\n",
    "\n",
    "for i in range(100000):\n",
    "    parent, off = returnBootStrapPairs(mid_parentF, mid_offF)\n",
    "    ratioF.append(calculateRatio(parent, off))\n",
    "totalSum = 0\n",
    "for j in ratioF:\n",
    "    totalSum += np.mean(j)\n",
    "meanEstimateF = totalSum/ len(ratioF)\n",
    "confidenceIntervalF = np.percentile(ratioF, [2.5, 97.5])"
   ]
  },
  {
   "cell_type": "code",
   "execution_count": 90,
   "metadata": {
    "collapsed": false,
    "scrolled": true
   },
   "outputs": [
    {
     "name": "stdout",
     "output_type": "stream",
     "text": [
      "\n",
      "Scandens heritability ratio mean: 0.555. The 95% conf int : [0.354, 0.760]\n",
      "Fortis heritability ratio mean: 0.725. The 95% conf int : [0.648, 0.799]\n",
      "\n",
      "\n"
     ]
    }
   ],
   "source": [
    "print(\"\"\"\n",
    "Scandens heritability ratio mean: {:.3f}. The 95% conf int : [{:.3f}, {:.3f}]\n",
    "Fortis heritability ratio mean: {:.3f}. The 95% conf int : [{:.3f}, {:.3f}]\n",
    "\n",
    "\"\"\".format(meanEstimateS, confidenceIntervalS[0], confidenceIntervalS[1], meanEstimateF, confidenceIntervalF[0], confidenceIntervalF[1]))"
   ]
  },
  {
   "cell_type": "markdown",
   "metadata": {},
   "source": [
    "<div class=\"alert alert-info\"> It is hard to understand what you are doing just from reading your code, please explain in markdown!\n",
    "\n",
    "It seems that you computed heritability from bootstrap replicates; these are useful to compute confidence intervals and null hypothesis tests, but should not replace the data for computing basic statistics. The value is unlikely to change much, but it is not what you intended to report."
   ]
  },
  {
   "cell_type": "markdown",
   "metadata": {},
   "source": [
    "Introgressive hybridization seems likely. It appears that the Fortis species has a higher heritability ratio than that of the Scanden species. We should take note that the Scandens species has a much larger confidence interval than that of the Fortis species, and furthermore, the fortis heritability ratio mean lies in the scandens 95% confidence interval. Thus, although the Fortis species has a higher heritability ratio, this difference is not signicant at the 95% confidence level.\n",
    "\n",
    "From the given definition of heritability, this would suggest that, although not significant, the Fortis species is more apt at repeated backcrossing and transferring the specific trait of beak depth to the other Scandens species. Perhaps, over many generations, the Scandens may start having beak depths resembling that of Fortis. "
   ]
  },
  {
   "cell_type": "markdown",
   "metadata": {},
   "source": [
    "<div class=\"alert alert-info\"> 20/25"
   ]
  },
  {
   "cell_type": "code",
   "execution_count": null,
   "metadata": {
    "collapsed": true
   },
   "outputs": [],
   "source": []
  }
 ],
 "metadata": {
  "anaconda-cloud": {},
  "kernelspec": {
   "display_name": "Python [Root]",
   "language": "python",
   "name": "Python [Root]"
  },
  "language_info": {
   "codemirror_mode": {
    "name": "ipython",
    "version": 3
   },
   "file_extension": ".py",
   "mimetype": "text/x-python",
   "name": "python",
   "nbconvert_exporter": "python",
   "pygments_lexer": "ipython3",
   "version": "3.5.2"
  }
 },
 "nbformat": 4,
 "nbformat_minor": 0
}
