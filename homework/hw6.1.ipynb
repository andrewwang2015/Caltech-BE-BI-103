{
 "cells": [
  {
   "cell_type": "code",
   "execution_count": 42,
   "metadata": {
    "collapsed": false
   },
   "outputs": [],
   "source": [
    "import math as m\n",
    "import numpy as np\n",
    "import pandas as pd\n",
    "import scipy.optimize\n",
    "import statsmodels.tools.numdiff as smnd\n",
    "import emcee\n",
    "import itertools\n",
    "\n",
    "# Import pyplot for plotting\n",
    "import matplotlib.pyplot as plt\n",
    "\n",
    "# Some pretty Seaborn settings\n",
    "import seaborn as sns\n",
    "rc={'lines.linewidth': 2, 'axes.labelsize': 14, 'axes.titlesize': 14}\n",
    "sns.set(rc=rc)\n",
    "\n",
    "# Make Matplotlib plots appear inline\n",
    "\n",
    "%matplotlib inline"
   ]
  },
  {
   "cell_type": "markdown",
   "metadata": {},
   "source": [
    "a) \n",
    "\n",
    "Model 1 describes the exponential distribution. Microtubulin catastrophe can be categorized as a Poisson process and the waiting time for catastrophe or waiting time for an arrival of a Poisson process is exponentially distributed. $\\tau$ = $\\frac{1}{r}$ and should be in units of time (seconds) where r is the average rate of microtubulin catastrophe.\n",
    "\n",
    "Model 2 describes the gamma distribution. It describes the amount of time we have to wait for a certain number of arrivals of a Poisson process, so in this case, describing the amount of time we have to wait for a certain number of microtubulin catastrophes. $a$ is the number of arrivals/ microtubulin catastrophes and $\\tau$ = $\\frac{1}{r}$ where r is the rate of microtubulin catastrophes. \n",
    "\n",
    "Model 3 describes the Weibull distribution. The Weibull distribution serves as a model for aging. In this case, it follows the logic of: the longer we wait for microtubulin to undergo catastrophe, the more likely it will happen. $\\beta$ is the shape parameter. For $\\beta$ $>$ 1, the longer we have waited, the more likely it is to come, and vice versa for $\\beta$ $<$ 1. $\\tau$ is the scale parameter, which dictates the rate of catastrophe."
   ]
  },
  {
   "cell_type": "code",
   "execution_count": 43,
   "metadata": {
    "collapsed": false
   },
   "outputs": [],
   "source": [
    "path = \"../data/gardner_mt_catastrophe_only_tubulin.csv\"\n",
    "df = pd.read_csv(path, comment='#')"
   ]
  },
  {
   "cell_type": "code",
   "execution_count": 44,
   "metadata": {
    "collapsed": false
   },
   "outputs": [
    {
     "data": {
      "text/html": [
       "<div>\n",
       "<table border=\"1\" class=\"dataframe\">\n",
       "  <thead>\n",
       "    <tr style=\"text-align: right;\">\n",
       "      <th></th>\n",
       "      <th>12 uM</th>\n",
       "      <th>7 uM</th>\n",
       "      <th>9 uM</th>\n",
       "      <th>10 uM</th>\n",
       "      <th>14 uM</th>\n",
       "    </tr>\n",
       "  </thead>\n",
       "  <tbody>\n",
       "    <tr>\n",
       "      <th>0</th>\n",
       "      <td>25.000</td>\n",
       "      <td>35.0</td>\n",
       "      <td>25.0</td>\n",
       "      <td>50.0</td>\n",
       "      <td>60.0</td>\n",
       "    </tr>\n",
       "    <tr>\n",
       "      <th>1</th>\n",
       "      <td>40.000</td>\n",
       "      <td>45.0</td>\n",
       "      <td>40.0</td>\n",
       "      <td>60.0</td>\n",
       "      <td>75.0</td>\n",
       "    </tr>\n",
       "    <tr>\n",
       "      <th>2</th>\n",
       "      <td>40.000</td>\n",
       "      <td>50.0</td>\n",
       "      <td>40.0</td>\n",
       "      <td>60.0</td>\n",
       "      <td>75.0</td>\n",
       "    </tr>\n",
       "    <tr>\n",
       "      <th>3</th>\n",
       "      <td>45.429</td>\n",
       "      <td>50.0</td>\n",
       "      <td>45.0</td>\n",
       "      <td>75.0</td>\n",
       "      <td>85.0</td>\n",
       "    </tr>\n",
       "    <tr>\n",
       "      <th>4</th>\n",
       "      <td>50.000</td>\n",
       "      <td>55.0</td>\n",
       "      <td>50.0</td>\n",
       "      <td>75.0</td>\n",
       "      <td>115.0</td>\n",
       "    </tr>\n",
       "  </tbody>\n",
       "</table>\n",
       "</div>"
      ],
      "text/plain": [
       "    12 uM  7 uM  9 uM  10 uM  14 uM\n",
       "0  25.000  35.0  25.0   50.0   60.0\n",
       "1  40.000  45.0  40.0   60.0   75.0\n",
       "2  40.000  50.0  40.0   60.0   75.0\n",
       "3  45.429  50.0  45.0   75.0   85.0\n",
       "4  50.000  55.0  50.0   75.0  115.0"
      ]
     },
     "execution_count": 44,
     "metadata": {},
     "output_type": "execute_result"
    }
   ],
   "source": [
    "df.head()"
   ]
  },
  {
   "cell_type": "code",
   "execution_count": 45,
   "metadata": {
    "collapsed": false
   },
   "outputs": [
    {
     "data": {
      "text/plain": [
       "0    25.000\n",
       "1    40.000\n",
       "2    40.000\n",
       "3    45.429\n",
       "4    50.000\n",
       "Name: 12 uM, dtype: float64"
      ]
     },
     "execution_count": 45,
     "metadata": {},
     "output_type": "execute_result"
    }
   ],
   "source": [
    "df_new1 = df['12 uM']\n",
    "df_new1.head()"
   ]
  },
  {
   "cell_type": "code",
   "execution_count": 60,
   "metadata": {
    "collapsed": true
   },
   "outputs": [],
   "source": [
    "def log_likelihood_m1(p, d):\n",
    "    \"\"\"\n",
    "    Log likelihood for model 1\n",
    "    \"\"\"\n",
    "    tau = p[0]\n",
    "    sum1 = 0\n",
    "    for i in d:\n",
    "        sum1 += m.exp(-i/tau) / tau\n",
    "    return sum1\n",
    "\n",
    "def log_likelihood_m2(p, f):\n",
    "    \"\"\"\n",
    "    Log likelihood for model 2\n",
    "    \"\"\"\n",
    "    tau = p[0]\n",
    "    a = p[1]\n",
    "    sum1 = 0\n",
    "    for d in f:\n",
    "        sum1 += (d/tau) ** a * m.exp(-d/tau)/ (d * m.gamma(a))\n",
    "    \n",
    "    return sum1\n",
    "\n",
    "def log_likelihood_m3(p, f):\n",
    "    \"\"\"\n",
    "    Log likelihood for model 3\n",
    "    \"\"\"\n",
    "    tau = p[0]\n",
    "    beta = p[2]\n",
    "    sum1 = 0\n",
    "    for d in f:\n",
    "        sum1 += (beta/tau) * (d/tau) ** (beta - 1) * m.exp(-(d/tau)**beta)\n",
    "    return sum1\n",
    "\n",
    "    \n",
    "def log_prior_m1(p):\n",
    "    \"\"\"\n",
    "    Log prior \n",
    "    \"\"\"\n",
    "    if (p < 0).any():\n",
    "        return -np.inf\n",
    "\n",
    "    return -np.log(p[0])\n",
    "\n",
    "    \n",
    "def log_prior_m2(p):\n",
    "    \"\"\"\n",
    "    Log prior for mitotic spindle length vs droplet size.\n",
    "    \"\"\"\n",
    "    if (p < 0).any():\n",
    "        return -np.inf\n",
    "\n",
    "    return -np.log(p[0]) - np.log(p[1])\n",
    "\n",
    "def log_prior_m3(p):\n",
    "    \"\"\"\n",
    "    Log prior \n",
    "    \"\"\"\n",
    "    if (p < 0).any():\n",
    "        return -np.inf\n",
    "\n",
    "    return -np.log(p[0]) - np.log(p[1]) - np.log(p[2])\n",
    "\n",
    "def log_posterior_m1(p, d):\n",
    "    \"\"\"\n",
    "    Log posterior  \n",
    "    \"\"\"\n",
    "    lp = log_prior_m1(p)\n",
    "    \n",
    "    if lp == -np.inf:\n",
    "        return -np.inf\n",
    "    \n",
    "    return lp + log_likelihood_m1(p, d)\n",
    "\n",
    "def log_posterior_m2(p, d):\n",
    "    \"\"\"\n",
    "    Log posterior  \n",
    "    \"\"\"\n",
    "    lp = log_prior_m2(p)\n",
    "    \n",
    "    if lp == -np.inf:\n",
    "        return -np.inf\n",
    "    \n",
    "    return lp + log_likelihood_m2(p, d)\n",
    "\n",
    "def log_posterior_m3(p, d):\n",
    "    \"\"\"\n",
    "    Log posterior  \n",
    "    \"\"\"\n",
    "    lp = log_prior_m3(p)\n",
    "    \n",
    "    if lp == -np.inf:\n",
    "        return -np.inf\n",
    "    \n",
    "    return lp + log_likelihood_m3(p, d)\n",
    "\n",
    "def neg_log_posterior_m1(p, d):\n",
    "    return -log_posterior_m1(p, d)\n",
    "\n",
    "def neg_log_posterior_m2(p, d):\n",
    "    return -log_posterior_m2(p, d)\n",
    "\n",
    "def neg_log_posterior_m3(p, d):\n",
    "    return -log_posterior_m3(p, d)"
   ]
  },
  {
   "cell_type": "code",
   "execution_count": 67,
   "metadata": {
    "collapsed": false
   },
   "outputs": [
    {
     "ename": "TypeError",
     "evalue": "len() of unsized object",
     "output_type": "error",
     "traceback": [
      "\u001b[1;31m\u001b[0m",
      "\u001b[1;31mTypeError\u001b[0mTraceback (most recent call last)",
      "\u001b[1;32m<ipython-input-67-b973f4f6a279>\u001b[0m in \u001b[0;36m<module>\u001b[1;34m()\u001b[0m\n\u001b[0;32m      8\u001b[0m                               method='powell')\n\u001b[0;32m      9\u001b[0m \u001b[0mpopt_m1\u001b[0m \u001b[1;33m=\u001b[0m \u001b[0mres\u001b[0m\u001b[1;33m.\u001b[0m\u001b[0mx\u001b[0m\u001b[1;33m\u001b[0m\u001b[0m\n\u001b[1;32m---> 10\u001b[1;33m \u001b[0mcov_m1\u001b[0m \u001b[1;33m=\u001b[0m \u001b[1;33m-\u001b[0m\u001b[0mnp\u001b[0m\u001b[1;33m.\u001b[0m\u001b[0mlinalg\u001b[0m\u001b[1;33m.\u001b[0m\u001b[0minv\u001b[0m\u001b[1;33m(\u001b[0m\u001b[0msmnd\u001b[0m\u001b[1;33m.\u001b[0m\u001b[0mapprox_hess\u001b[0m\u001b[1;33m(\u001b[0m\u001b[0mpopt_m1\u001b[0m\u001b[1;33m,\u001b[0m \u001b[0mlog_posterior_m1\u001b[0m\u001b[1;33m,\u001b[0m \u001b[0margs\u001b[0m\u001b[1;33m=\u001b[0m\u001b[0margs_A\u001b[0m\u001b[1;33m)\u001b[0m\u001b[1;33m)\u001b[0m\u001b[1;33m\u001b[0m\u001b[0m\n\u001b[0m\u001b[0;32m     11\u001b[0m \u001b[1;33m\u001b[0m\u001b[0m\n\u001b[0;32m     12\u001b[0m \u001b[1;31m# Model 2\u001b[0m\u001b[1;33m\u001b[0m\u001b[1;33m\u001b[0m\u001b[0m\n",
      "\u001b[1;32mC:\\Users\\andre_000\\Anaconda3\\lib\\site-packages\\statsmodels\\tools\\numdiff.py\u001b[0m in \u001b[0;36mapprox_hess3\u001b[1;34m(x, f, epsilon, args, kwargs)\u001b[0m\n\u001b[0;32m    317\u001b[0m \u001b[1;33m\u001b[0m\u001b[0m\n\u001b[0;32m    318\u001b[0m \u001b[1;32mdef\u001b[0m \u001b[0mapprox_hess3\u001b[0m\u001b[1;33m(\u001b[0m\u001b[0mx\u001b[0m\u001b[1;33m,\u001b[0m \u001b[0mf\u001b[0m\u001b[1;33m,\u001b[0m \u001b[0mepsilon\u001b[0m\u001b[1;33m=\u001b[0m\u001b[1;32mNone\u001b[0m\u001b[1;33m,\u001b[0m \u001b[0margs\u001b[0m\u001b[1;33m=\u001b[0m\u001b[1;33m(\u001b[0m\u001b[1;33m)\u001b[0m\u001b[1;33m,\u001b[0m \u001b[0mkwargs\u001b[0m\u001b[1;33m=\u001b[0m\u001b[1;33m{\u001b[0m\u001b[1;33m}\u001b[0m\u001b[1;33m)\u001b[0m\u001b[1;33m:\u001b[0m\u001b[1;33m\u001b[0m\u001b[0m\n\u001b[1;32m--> 319\u001b[1;33m     \u001b[0mn\u001b[0m \u001b[1;33m=\u001b[0m \u001b[0mlen\u001b[0m\u001b[1;33m(\u001b[0m\u001b[0mx\u001b[0m\u001b[1;33m)\u001b[0m\u001b[1;33m\u001b[0m\u001b[0m\n\u001b[0m\u001b[0;32m    320\u001b[0m     \u001b[0mh\u001b[0m \u001b[1;33m=\u001b[0m \u001b[0m_get_epsilon\u001b[0m\u001b[1;33m(\u001b[0m\u001b[0mx\u001b[0m\u001b[1;33m,\u001b[0m \u001b[1;36m4\u001b[0m\u001b[1;33m,\u001b[0m \u001b[0mepsilon\u001b[0m\u001b[1;33m,\u001b[0m \u001b[0mn\u001b[0m\u001b[1;33m)\u001b[0m\u001b[1;33m\u001b[0m\u001b[0m\n\u001b[0;32m    321\u001b[0m     \u001b[0mee\u001b[0m \u001b[1;33m=\u001b[0m \u001b[0mnp\u001b[0m\u001b[1;33m.\u001b[0m\u001b[0mdiag\u001b[0m\u001b[1;33m(\u001b[0m\u001b[0mh\u001b[0m\u001b[1;33m)\u001b[0m\u001b[1;33m\u001b[0m\u001b[0m\n",
      "\u001b[1;31mTypeError\u001b[0m: len() of unsized object"
     ]
    }
   ],
   "source": [
    "# Extra arguments as a tuple\n",
    "args = (df['12 uM'])\n",
    "\n",
    "# Model 1\n",
    "p0 = np.array([200])\n",
    "args_A = args\n",
    "res = scipy.optimize.minimize(neg_log_posterior_m1, p0, args=args_A, \n",
    "                              method='powell')\n",
    "popt_m1 = res.x\n",
    "cov_m1 = -np.linalg.inv(smnd.approx_hess(popt_m1, log_posterior_m1, args=args_A))\n",
    "\n",
    "# Model 2\n",
    "p0 = np.array([200, 4])\n",
    "args_B = args \n",
    "res = scipy.optimize.minimize(neg_log_posterior_m2, p0, args=args_B, \n",
    "                              method='powell')\n",
    "popt_m2 = res.x\n",
    "cov_m2 = -np.linalg.inv(smnd.approx_hess(popt_m2, log_posterior_m2, args=args_B))\n",
    "\n",
    "# Model 3\n",
    "p0 = np.array([200, 4, 1.5])\n",
    "args_C = args \n",
    "res = scipy.optimize.minimize(neg_log_posterior_m3, p0, args=args_C, \n",
    "                              method='powell')\n",
    "popt_m3 = res.x\n",
    "cov_m3 = -np.linalg.inv(smnd.approx_hess(popt_m3, log_posterior_m3, args=args_B))\n"
   ]
  },
  {
   "cell_type": "code",
   "execution_count": 65,
   "metadata": {
    "collapsed": false
   },
   "outputs": [
    {
     "data": {
      "image/png": "[encoded data removed]",
      "text/plain": [
       "<matplotlib.figure.Figure at 0xbea9c32240>"
      ]
     },
     "metadata": {},
     "output_type": "display_data"
    }
   ],
   "source": [
    "# Parameter values to plot\n",
    "th = np.linspace(-0.005, 0.005, 100)\n",
    "gamma = np.linspace(0.8, 0.95, 100)\n",
    "\n",
    "# Make a grid\n",
    "tt, gg = np.meshgrid(th, gamma)\n",
    "\n",
    "# Compute log posterior\n",
    "log_posterior = np.empty_like(tt)\n",
    "for j in range(len(th)):\n",
    "    for i in range(len(gamma)):\n",
    "        log_posterior[i, j] = log_posterior_m1(np.array([tt[i,j], gg[i,j]]), df['12 uM'])\n",
    "                            \n",
    "\n",
    "# Get things to scale better\n",
    "log_posterior -= log_posterior.max()\n",
    "        \n",
    "# Plot the results\n",
    "plt.contourf(tt, gg, np.exp(log_posterior), cmap=plt.cm.Blues, alpha=0.7)\n",
    "plt.xlabel(r'$\\tau$ (µm)')\n",
    "plt.ylabel(r'$\\gamma$');\n"
   ]
  },
  {
   "cell_type": "code",
   "execution_count": 36,
   "metadata": {
    "collapsed": true
   },
   "outputs": [],
   "source": [
    "def ecdf(data):\n",
    "    \"\"\"\n",
    "    Compute `x` and `y` values for plotting an ECDF.\n",
    "    \n",
    "    Parameters\n",
    "    ----------\n",
    "    data : array_like\n",
    "        Array of data to be plotted as an ECDF.\n",
    "        \n",
    "    Returns\n",
    "    -------\n",
    "    x : array\n",
    "        `x` values for plotting\n",
    "    y : array\n",
    "        `y` values for plotting    \n",
    "    \"\"\"\n",
    "    return np.sort(data), np.arange(1, len(data)+1) / len(data)"
   ]
  },
  {
   "cell_type": "code",
   "execution_count": 37,
   "metadata": {
    "collapsed": false
   },
   "outputs": [],
   "source": [
    "def ecdf_conventional(data, buff=0.1, min_x=None, max_x=None):\n",
    "    \"\"\"\n",
    "    Generate `x` and `y` values for plotting a conventional ECDF.\n",
    "    \n",
    "    Parameters\n",
    "    ----------\n",
    "    data : array_like\n",
    "        Array of data to be plotted as an ECDF.\n",
    "    buff : float, default 0.1\n",
    "        How long the tails at y = 0 and y = 1 should extend as a fraction\n",
    "        of the total range of the data.\n",
    "    min_x : float, default -np.inf\n",
    "        If min_x is greater than extent computed from `buff`, tail at\n",
    "        y = 0 extends to min_x.\n",
    "    max_x : float, default -np.inf\n",
    "        If max_x is less than extent computed from `buff`, tail at\n",
    "        y = 0 extends to max_x.\n",
    "\n",
    "    Returns\n",
    "    -------\n",
    "    x : array\n",
    "        `x` values for plotting\n",
    "    y : array\n",
    "        `y` values for plotting    \n",
    "    \"\"\"\n",
    "\n",
    "    # Set defaults for min and max tails\n",
    "    if min_x is None:\n",
    "        min_x = -np.inf\n",
    "    if max_x is None:\n",
    "        max_x = np.inf\n",
    "    \n",
    "    # Get x and y values for data points\n",
    "    x, y = ecdf(data)\n",
    "    \n",
    "    # Set up output arrays\n",
    "    x_conv = np.empty(2*(len(x) + 1))\n",
    "    y_conv = np.empty(2*(len(x) + 1))\n",
    "\n",
    "    # y-values for steps\n",
    "    y_conv[:2] = 0\n",
    "    y_conv[2::2] = y\n",
    "    y_conv[3::2] = y\n",
    "\n",
    "    # x- values for steps\n",
    "    x_conv[0] = max(min_x, x[0] - (x[-1] - x[0])*buff)\n",
    "    x_conv[1] = x[0]\n",
    "    x_conv[2::2] = x\n",
    "    x_conv[3:-1:2] = x[1:]\n",
    "    x_conv[-1] = min(max_x, x[-1] + (x[-1] - x[0])*buff)\n",
    "\n",
    "    return x_conv, y_conv"
   ]
  },
  {
   "cell_type": "code",
   "execution_count": 52,
   "metadata": {
    "collapsed": false
   },
   "outputs": [
    {
     "data": {
      "image/png": "[encoded data removed]",
      "text/plain": [
       "<matplotlib.figure.Figure at 0xbea9c56828>"
      ]
     },
     "metadata": {},
     "output_type": "display_data"
    }
   ],
   "source": [
    "plt.plot(*ecdf(df_new1), marker='.', linestyle='none')\n",
    "plt.margins(y=0.02)\n",
    "plt.xlabel('Time to Catastrophe (s)')\n",
    "plt.ylabel('ECDF')\n",
    "plt.legend(('12 uM', ), loc='center right');"
   ]
  },
  {
   "cell_type": "code",
   "execution_count": null,
   "metadata": {
    "collapsed": true
   },
   "outputs": [],
   "source": [
    "def sample_ptmcmc(n, model, r_max=20, n_temps=20, n_walkers=50, n_burn=5000, \n",
    "                  n_steps=5000):\n",
    "    \"\"\"\n",
    "    Sample posterior using PTMCMC.\n",
    "    \n",
    "    n = array of mRNA counts in cells\n",
    "    \"\"\"\n",
    "    # Arguments for likelihood\n",
    "    loglargs = (d,)\n",
    "    \n",
    "    # Arguments for prior\n",
    "    logpargs = ()\n",
    "    \n",
    "    # Columns headings for outputted DataFrames\n",
    "    columns = {1: ['tau'],\n",
    "               2: ['tau', 'a'],\n",
    "               3: ['tau', 'b']}\n",
    "        \n",
    "    # Parameters and how we start them\n",
    "    if model == 1:\n",
    "        # Build p0\n",
    "        p0 = np.empty((n_temps, n_walkers, 2))\n",
    "        p0[:,:,0] = np.random.uniform(0, tau_max, (n_temps, n_walkers))  # r\n",
    "\n",
    "        # Get samples\n",
    "        return bebi103.run_pt_emcee(\n",
    "            log_likelihood_1, log_prior_1, n_burn, n_steps, n_temps=n_temps, \n",
    "            p0=p0, columns=columns[model], loglargs=loglargs, \n",
    "            logpargs=logpargs, return_lnZ=True)\n",
    "    elif model == 2:\n",
    "        # Build p0\n",
    "        p0 = np.empty((n_temps, n_walkers, 5))\n",
    "        p0[:,:,0] = np.random.uniform(0, tau_max, (n_temps, n_walkers))  # r1\n",
    "        p0[:,:,1] = np.random.uniform(0, a_max, (n_temps, n_walkers))      # p1\n",
    "\n",
    "        # Make sure p1 > p2\n",
    "        p0[:,:,1], p0[:,:,3] = np.maximum(p0[:,:,1], p0[:,:,3]), \\\n",
    "                                np.minimum(p0[:,:,1], p0[:,:,3])\n",
    "    \n",
    "        return bebi103.run_pt_emcee(\n",
    "            log_likelihood_2, log_prior_2, n_burn, n_steps,\n",
    "            n_temps=n_temps, p0=p0, loglargs=loglargs, logpargs=logpargs, \n",
    "            columns=columns[model], return_lnZ=True)"
   ]
  }
 ],
 "metadata": {
  "kernelspec": {
   "display_name": "Python [Root]",
   "language": "python",
   "name": "Python [Root]"
  },
  "language_info": {
   "codemirror_mode": {
    "name": "ipython",
    "version": 3
   },
   "file_extension": ".py",
   "mimetype": "text/x-python",
   "name": "python",
   "nbconvert_exporter": "python",
   "pygments_lexer": "ipython3",
   "version": "3.5.2"
  }
 },
 "nbformat": 4,
 "nbformat_minor": 0
}
